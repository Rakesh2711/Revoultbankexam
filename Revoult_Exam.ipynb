{
  "nbformat": 4,
  "nbformat_minor": 0,
  "metadata": {
    "colab": {
      "name": "Copy of Revoult Exam.ipynb",
      "provenance": [],
      "collapsed_sections": [],
      "machine_shape": "hm",
      "mount_file_id": "19tq4zKMg3DLQtnQR9SQq7cSub9T89vrF",
      "authorship_tag": "ABX9TyPhXL1VK4Fbc82ldEQv+kyr",
      "include_colab_link": true
    },
    "kernelspec": {
      "name": "python3",
      "display_name": "Python 3"
    },
    "accelerator": "TPU"
  },
  "cells": [
    {
      "cell_type": "markdown",
      "metadata": {
        "id": "view-in-github",
        "colab_type": "text"
      },
      "source": [
        "<a href=\"https://colab.research.google.com/github/Rakesh2711/Revoultbankexam/blob/master/Revoult_Exam.ipynb\" target=\"_parent\"><img src=\"https://colab.research.google.com/assets/colab-badge.svg\" alt=\"Open In Colab\"/></a>"
      ]
    },
    {
      "cell_type": "code",
      "metadata": {
        "id": "-4NF7_w_R2fd",
        "colab_type": "code",
        "colab": {}
      },
      "source": [
        "import pandas as pd\n",
        "import numpy as np\n",
        "import warnings\n",
        "warnings.filterwarnings('ignore')\n",
        "import os\n",
        "import pandas_profiling as pp\n",
        "import seaborn as sns\n",
        "# from ggplot import *\n",
        "import matplotlib.pyplot as plt\n",
        "%matplotlib inline"
      ],
      "execution_count": 0,
      "outputs": []
    },
    {
      "cell_type": "code",
      "metadata": {
        "id": "43jz3Bf8SkJY",
        "colab_type": "code",
        "outputId": "4d35a920-d664-4dbc-ddb9-3471017e4782",
        "colab": {
          "base_uri": "https://localhost:8080/",
          "height": 34
        }
      },
      "source": [
        "os.getcwd()"
      ],
      "execution_count": 2,
      "outputs": [
        {
          "output_type": "execute_result",
          "data": {
            "text/plain": [
              "'/content'"
            ]
          },
          "metadata": {
            "tags": []
          },
          "execution_count": 2
        }
      ]
    },
    {
      "cell_type": "code",
      "metadata": {
        "id": "spgn9kXUSsHW",
        "colab_type": "code",
        "colab": {}
      },
      "source": [
        "os.chdir('/content/drive/My Drive/data')"
      ],
      "execution_count": 0,
      "outputs": []
    },
    {
      "cell_type": "code",
      "metadata": {
        "id": "t7VrlnZUScbz",
        "colab_type": "code",
        "colab": {}
      },
      "source": [
        "# # Read 4 files\n",
        "\n",
        "device = pd.read_csv('rev-devices.csv')\n",
        "notification =  pd.read_csv('rev-notifications.csv')\n",
        "transaction = pd.read_csv('rev-transactions.csv')\n",
        "users =  pd.read_csv('rev-users.csv')"
      ],
      "execution_count": 0,
      "outputs": []
    },
    {
      "cell_type": "code",
      "metadata": {
        "id": "kHOG7OKxS27o",
        "colab_type": "code",
        "outputId": "c2a11a71-2741-40a3-e533-ae1723e2234b",
        "colab": {
          "base_uri": "https://localhost:8080/",
          "height": 204
        }
      },
      "source": [
        "device.head()"
      ],
      "execution_count": 5,
      "outputs": [
        {
          "output_type": "execute_result",
          "data": {
            "text/html": [
              "<div>\n",
              "<style scoped>\n",
              "    .dataframe tbody tr th:only-of-type {\n",
              "        vertical-align: middle;\n",
              "    }\n",
              "\n",
              "    .dataframe tbody tr th {\n",
              "        vertical-align: top;\n",
              "    }\n",
              "\n",
              "    .dataframe thead th {\n",
              "        text-align: right;\n",
              "    }\n",
              "</style>\n",
              "<table border=\"1\" class=\"dataframe\">\n",
              "  <thead>\n",
              "    <tr style=\"text-align: right;\">\n",
              "      <th></th>\n",
              "      <th>brand</th>\n",
              "      <th>user_id</th>\n",
              "    </tr>\n",
              "  </thead>\n",
              "  <tbody>\n",
              "    <tr>\n",
              "      <th>0</th>\n",
              "      <td>Android</td>\n",
              "      <td>user_3257</td>\n",
              "    </tr>\n",
              "    <tr>\n",
              "      <th>1</th>\n",
              "      <td>Apple</td>\n",
              "      <td>user_6809</td>\n",
              "    </tr>\n",
              "    <tr>\n",
              "      <th>2</th>\n",
              "      <td>Android</td>\n",
              "      <td>user_9144</td>\n",
              "    </tr>\n",
              "    <tr>\n",
              "      <th>3</th>\n",
              "      <td>Apple</td>\n",
              "      <td>user_3636</td>\n",
              "    </tr>\n",
              "    <tr>\n",
              "      <th>4</th>\n",
              "      <td>Android</td>\n",
              "      <td>user_5970</td>\n",
              "    </tr>\n",
              "  </tbody>\n",
              "</table>\n",
              "</div>"
            ],
            "text/plain": [
              "     brand    user_id\n",
              "0  Android  user_3257\n",
              "1    Apple  user_6809\n",
              "2  Android  user_9144\n",
              "3    Apple  user_3636\n",
              "4  Android  user_5970"
            ]
          },
          "metadata": {
            "tags": []
          },
          "execution_count": 5
        }
      ]
    },
    {
      "cell_type": "code",
      "metadata": {
        "id": "RO5A5LZqS3A4",
        "colab_type": "code",
        "outputId": "40bc715c-0a42-416a-e0ee-9cec8f602ebc",
        "colab": {
          "base_uri": "https://localhost:8080/",
          "height": 204
        }
      },
      "source": [
        "notification.head()"
      ],
      "execution_count": 6,
      "outputs": [
        {
          "output_type": "execute_result",
          "data": {
            "text/html": [
              "<div>\n",
              "<style scoped>\n",
              "    .dataframe tbody tr th:only-of-type {\n",
              "        vertical-align: middle;\n",
              "    }\n",
              "\n",
              "    .dataframe tbody tr th {\n",
              "        vertical-align: top;\n",
              "    }\n",
              "\n",
              "    .dataframe thead th {\n",
              "        text-align: right;\n",
              "    }\n",
              "</style>\n",
              "<table border=\"1\" class=\"dataframe\">\n",
              "  <thead>\n",
              "    <tr style=\"text-align: right;\">\n",
              "      <th></th>\n",
              "      <th>reason</th>\n",
              "      <th>channel</th>\n",
              "      <th>status</th>\n",
              "      <th>user_id</th>\n",
              "      <th>created_date</th>\n",
              "    </tr>\n",
              "  </thead>\n",
              "  <tbody>\n",
              "    <tr>\n",
              "      <th>0</th>\n",
              "      <td>REENGAGEMENT_ACTIVE_FUNDS</td>\n",
              "      <td>PUSH</td>\n",
              "      <td>SENT</td>\n",
              "      <td>user_7086</td>\n",
              "      <td>2018-12-02 17:58:33.320645</td>\n",
              "    </tr>\n",
              "    <tr>\n",
              "      <th>1</th>\n",
              "      <td>REENGAGEMENT_ACTIVE_FUNDS</td>\n",
              "      <td>PUSH</td>\n",
              "      <td>SENT</td>\n",
              "      <td>user_6598</td>\n",
              "      <td>2018-12-01 23:09:37.367127</td>\n",
              "    </tr>\n",
              "    <tr>\n",
              "      <th>2</th>\n",
              "      <td>REENGAGEMENT_ACTIVE_FUNDS</td>\n",
              "      <td>PUSH</td>\n",
              "      <td>SENT</td>\n",
              "      <td>user_4151</td>\n",
              "      <td>2018-12-04 02:57:56.425660</td>\n",
              "    </tr>\n",
              "    <tr>\n",
              "      <th>3</th>\n",
              "      <td>REENGAGEMENT_ACTIVE_FUNDS</td>\n",
              "      <td>PUSH</td>\n",
              "      <td>SENT</td>\n",
              "      <td>user_1408</td>\n",
              "      <td>2018-12-11 02:04:46.284683</td>\n",
              "    </tr>\n",
              "    <tr>\n",
              "      <th>4</th>\n",
              "      <td>REENGAGEMENT_ACTIVE_FUNDS</td>\n",
              "      <td>PUSH</td>\n",
              "      <td>SENT</td>\n",
              "      <td>user_6292</td>\n",
              "      <td>2018-12-14 17:09:58.900808</td>\n",
              "    </tr>\n",
              "  </tbody>\n",
              "</table>\n",
              "</div>"
            ],
            "text/plain": [
              "                      reason channel  ...    user_id                created_date\n",
              "0  REENGAGEMENT_ACTIVE_FUNDS    PUSH  ...  user_7086  2018-12-02 17:58:33.320645\n",
              "1  REENGAGEMENT_ACTIVE_FUNDS    PUSH  ...  user_6598  2018-12-01 23:09:37.367127\n",
              "2  REENGAGEMENT_ACTIVE_FUNDS    PUSH  ...  user_4151  2018-12-04 02:57:56.425660\n",
              "3  REENGAGEMENT_ACTIVE_FUNDS    PUSH  ...  user_1408  2018-12-11 02:04:46.284683\n",
              "4  REENGAGEMENT_ACTIVE_FUNDS    PUSH  ...  user_6292  2018-12-14 17:09:58.900808\n",
              "\n",
              "[5 rows x 5 columns]"
            ]
          },
          "metadata": {
            "tags": []
          },
          "execution_count": 6
        }
      ]
    },
    {
      "cell_type": "code",
      "metadata": {
        "id": "RpL-Yb2QS3Gm",
        "colab_type": "code",
        "outputId": "86d5e3f9-ff1b-4017-898f-8a66e24e82c7",
        "colab": {
          "base_uri": "https://localhost:8080/",
          "height": 309
        }
      },
      "source": [
        "transaction.head()"
      ],
      "execution_count": 7,
      "outputs": [
        {
          "output_type": "execute_result",
          "data": {
            "text/html": [
              "<div>\n",
              "<style scoped>\n",
              "    .dataframe tbody tr th:only-of-type {\n",
              "        vertical-align: middle;\n",
              "    }\n",
              "\n",
              "    .dataframe tbody tr th {\n",
              "        vertical-align: top;\n",
              "    }\n",
              "\n",
              "    .dataframe thead th {\n",
              "        text-align: right;\n",
              "    }\n",
              "</style>\n",
              "<table border=\"1\" class=\"dataframe\">\n",
              "  <thead>\n",
              "    <tr style=\"text-align: right;\">\n",
              "      <th></th>\n",
              "      <th>transaction_id</th>\n",
              "      <th>transactions_type</th>\n",
              "      <th>transactions_currency</th>\n",
              "      <th>amount_usd</th>\n",
              "      <th>transactions_state</th>\n",
              "      <th>ea_cardholderpresence</th>\n",
              "      <th>ea_merchant_mcc</th>\n",
              "      <th>ea_merchant_city</th>\n",
              "      <th>ea_merchant_country</th>\n",
              "      <th>direction</th>\n",
              "      <th>user_id</th>\n",
              "      <th>created_date</th>\n",
              "    </tr>\n",
              "  </thead>\n",
              "  <tbody>\n",
              "    <tr>\n",
              "      <th>0</th>\n",
              "      <td>transaction_0</td>\n",
              "      <td>TRANSFER</td>\n",
              "      <td>AED</td>\n",
              "      <td>4.55</td>\n",
              "      <td>COMPLETED</td>\n",
              "      <td>NaN</td>\n",
              "      <td>NaN</td>\n",
              "      <td>NaN</td>\n",
              "      <td>NaN</td>\n",
              "      <td>OUTBOUND</td>\n",
              "      <td>user_898</td>\n",
              "      <td>2018-04-03 03:34:21.784487</td>\n",
              "    </tr>\n",
              "    <tr>\n",
              "      <th>1</th>\n",
              "      <td>transaction_1</td>\n",
              "      <td>CARD_PAYMENT</td>\n",
              "      <td>AED</td>\n",
              "      <td>15.50</td>\n",
              "      <td>COMPLETED</td>\n",
              "      <td>FALSE</td>\n",
              "      <td>4111.0</td>\n",
              "      <td>Dubai</td>\n",
              "      <td>ARE</td>\n",
              "      <td>OUTBOUND</td>\n",
              "      <td>user_1652</td>\n",
              "      <td>2019-03-19 06:15:59.537032</td>\n",
              "    </tr>\n",
              "    <tr>\n",
              "      <th>2</th>\n",
              "      <td>transaction_2</td>\n",
              "      <td>CARD_PAYMENT</td>\n",
              "      <td>AED</td>\n",
              "      <td>43.40</td>\n",
              "      <td>COMPLETED</td>\n",
              "      <td>FALSE</td>\n",
              "      <td>5814.0</td>\n",
              "      <td>Dubai</td>\n",
              "      <td>ARE</td>\n",
              "      <td>OUTBOUND</td>\n",
              "      <td>user_1652</td>\n",
              "      <td>2019-03-18 18:53:41.323032</td>\n",
              "    </tr>\n",
              "    <tr>\n",
              "      <th>3</th>\n",
              "      <td>transaction_3</td>\n",
              "      <td>TRANSFER</td>\n",
              "      <td>AED</td>\n",
              "      <td>10043.01</td>\n",
              "      <td>COMPLETED</td>\n",
              "      <td>NaN</td>\n",
              "      <td>NaN</td>\n",
              "      <td>NaN</td>\n",
              "      <td>NaN</td>\n",
              "      <td>OUTBOUND</td>\n",
              "      <td>user_1652</td>\n",
              "      <td>2019-03-22 14:20:01.513032</td>\n",
              "    </tr>\n",
              "    <tr>\n",
              "      <th>4</th>\n",
              "      <td>transaction_4</td>\n",
              "      <td>CARD_PAYMENT</td>\n",
              "      <td>AED</td>\n",
              "      <td>43.81</td>\n",
              "      <td>COMPLETED</td>\n",
              "      <td>FALSE</td>\n",
              "      <td>5651.0</td>\n",
              "      <td>Abu Dhabi</td>\n",
              "      <td>ARE</td>\n",
              "      <td>OUTBOUND</td>\n",
              "      <td>user_5509</td>\n",
              "      <td>2019-03-22 05:42:50.316652</td>\n",
              "    </tr>\n",
              "  </tbody>\n",
              "</table>\n",
              "</div>"
            ],
            "text/plain": [
              "  transaction_id transactions_type  ...    user_id                created_date\n",
              "0  transaction_0          TRANSFER  ...   user_898  2018-04-03 03:34:21.784487\n",
              "1  transaction_1      CARD_PAYMENT  ...  user_1652  2019-03-19 06:15:59.537032\n",
              "2  transaction_2      CARD_PAYMENT  ...  user_1652  2019-03-18 18:53:41.323032\n",
              "3  transaction_3          TRANSFER  ...  user_1652  2019-03-22 14:20:01.513032\n",
              "4  transaction_4      CARD_PAYMENT  ...  user_5509  2019-03-22 05:42:50.316652\n",
              "\n",
              "[5 rows x 12 columns]"
            ]
          },
          "metadata": {
            "tags": []
          },
          "execution_count": 7
        }
      ]
    },
    {
      "cell_type": "code",
      "metadata": {
        "id": "d4FWaEVNSddf",
        "colab_type": "code",
        "outputId": "4eb52943-c8bf-4b74-9c1a-9b51f8d863a4",
        "colab": {
          "base_uri": "https://localhost:8080/",
          "height": 309
        }
      },
      "source": [
        "users.head()"
      ],
      "execution_count": 8,
      "outputs": [
        {
          "output_type": "execute_result",
          "data": {
            "text/html": [
              "<div>\n",
              "<style scoped>\n",
              "    .dataframe tbody tr th:only-of-type {\n",
              "        vertical-align: middle;\n",
              "    }\n",
              "\n",
              "    .dataframe tbody tr th {\n",
              "        vertical-align: top;\n",
              "    }\n",
              "\n",
              "    .dataframe thead th {\n",
              "        text-align: right;\n",
              "    }\n",
              "</style>\n",
              "<table border=\"1\" class=\"dataframe\">\n",
              "  <thead>\n",
              "    <tr style=\"text-align: right;\">\n",
              "      <th></th>\n",
              "      <th>user_id</th>\n",
              "      <th>birth_year</th>\n",
              "      <th>country</th>\n",
              "      <th>city</th>\n",
              "      <th>created_date</th>\n",
              "      <th>user_settings_crypto_unlocked</th>\n",
              "      <th>plan</th>\n",
              "      <th>attributes_notifications_marketing_push</th>\n",
              "      <th>attributes_notifications_marketing_email</th>\n",
              "      <th>num_contacts</th>\n",
              "      <th>num_referrals</th>\n",
              "      <th>num_successful_referrals</th>\n",
              "    </tr>\n",
              "  </thead>\n",
              "  <tbody>\n",
              "    <tr>\n",
              "      <th>0</th>\n",
              "      <td>user_0</td>\n",
              "      <td>1989</td>\n",
              "      <td>PL</td>\n",
              "      <td>Gdansk</td>\n",
              "      <td>2018-01-13 05:15:15.599466</td>\n",
              "      <td>1</td>\n",
              "      <td>STANDARD</td>\n",
              "      <td>1.0</td>\n",
              "      <td>1.0</td>\n",
              "      <td>3</td>\n",
              "      <td>0</td>\n",
              "      <td>0</td>\n",
              "    </tr>\n",
              "    <tr>\n",
              "      <th>1</th>\n",
              "      <td>user_1</td>\n",
              "      <td>1975</td>\n",
              "      <td>GB</td>\n",
              "      <td>London</td>\n",
              "      <td>2018-01-29 03:38:46.676876</td>\n",
              "      <td>0</td>\n",
              "      <td>STANDARD</td>\n",
              "      <td>NaN</td>\n",
              "      <td>NaN</td>\n",
              "      <td>21</td>\n",
              "      <td>0</td>\n",
              "      <td>0</td>\n",
              "    </tr>\n",
              "    <tr>\n",
              "      <th>2</th>\n",
              "      <td>user_2</td>\n",
              "      <td>1987</td>\n",
              "      <td>PL</td>\n",
              "      <td>Poznań</td>\n",
              "      <td>2018-01-18 19:17:31.229096</td>\n",
              "      <td>0</td>\n",
              "      <td>STANDARD</td>\n",
              "      <td>0.0</td>\n",
              "      <td>0.0</td>\n",
              "      <td>21</td>\n",
              "      <td>0</td>\n",
              "      <td>0</td>\n",
              "    </tr>\n",
              "    <tr>\n",
              "      <th>3</th>\n",
              "      <td>user_3</td>\n",
              "      <td>1994</td>\n",
              "      <td>FR</td>\n",
              "      <td>Paris</td>\n",
              "      <td>2018-01-15 18:47:56.723104</td>\n",
              "      <td>0</td>\n",
              "      <td>STANDARD</td>\n",
              "      <td>1.0</td>\n",
              "      <td>0.0</td>\n",
              "      <td>0</td>\n",
              "      <td>0</td>\n",
              "      <td>0</td>\n",
              "    </tr>\n",
              "    <tr>\n",
              "      <th>4</th>\n",
              "      <td>user_4</td>\n",
              "      <td>1985</td>\n",
              "      <td>GB</td>\n",
              "      <td>Beckenham</td>\n",
              "      <td>2018-01-11 00:36:46.673673</td>\n",
              "      <td>0</td>\n",
              "      <td>STANDARD</td>\n",
              "      <td>NaN</td>\n",
              "      <td>NaN</td>\n",
              "      <td>2</td>\n",
              "      <td>0</td>\n",
              "      <td>0</td>\n",
              "    </tr>\n",
              "  </tbody>\n",
              "</table>\n",
              "</div>"
            ],
            "text/plain": [
              "  user_id  birth_year  ... num_referrals num_successful_referrals\n",
              "0  user_0        1989  ...             0                        0\n",
              "1  user_1        1975  ...             0                        0\n",
              "2  user_2        1987  ...             0                        0\n",
              "3  user_3        1994  ...             0                        0\n",
              "4  user_4        1985  ...             0                        0\n",
              "\n",
              "[5 rows x 12 columns]"
            ]
          },
          "metadata": {
            "tags": []
          },
          "execution_count": 8
        }
      ]
    },
    {
      "cell_type": "code",
      "metadata": {
        "id": "oei6mPRLSdi_",
        "colab_type": "code",
        "outputId": "2a48a053-ea95-440b-e5a6-426a2c9d0c02",
        "colab": {
          "base_uri": "https://localhost:8080/",
          "height": 238
        }
      },
      "source": [
        "transaction.isna().sum()"
      ],
      "execution_count": 9,
      "outputs": [
        {
          "output_type": "execute_result",
          "data": {
            "text/plain": [
              "transaction_id                 0\n",
              "transactions_type              0\n",
              "transactions_currency          0\n",
              "amount_usd                     0\n",
              "transactions_state             0\n",
              "ea_cardholderpresence    1170594\n",
              "ea_merchant_mcc          1158658\n",
              "ea_merchant_city         1158794\n",
              "ea_merchant_country      1158979\n",
              "direction                      0\n",
              "user_id                        0\n",
              "created_date                   0\n",
              "dtype: int64"
            ]
          },
          "metadata": {
            "tags": []
          },
          "execution_count": 9
        }
      ]
    },
    {
      "cell_type": "code",
      "metadata": {
        "id": "CMqTTBpYSdmc",
        "colab_type": "code",
        "colab": {}
      },
      "source": [
        "# Drpoing the columns which are having more than 40% of the data missing\n",
        "\n",
        "for col in transaction.columns:\n",
        "    if transaction[col].isna().sum()>(len(transaction)/100)*40:\n",
        "        del transaction[col]"
      ],
      "execution_count": 0,
      "outputs": []
    },
    {
      "cell_type": "code",
      "metadata": {
        "id": "fjs3sQqCSdo6",
        "colab_type": "code",
        "outputId": "4d25b4db-092e-482f-d093-df87d789018e",
        "colab": {
          "base_uri": "https://localhost:8080/",
          "height": 238
        }
      },
      "source": [
        "users.isna().sum()"
      ],
      "execution_count": 11,
      "outputs": [
        {
          "output_type": "execute_result",
          "data": {
            "text/plain": [
              "user_id                                        0\n",
              "birth_year                                     0\n",
              "country                                        0\n",
              "city                                           0\n",
              "created_date                                   0\n",
              "user_settings_crypto_unlocked                  0\n",
              "plan                                           0\n",
              "attributes_notifications_marketing_push     6610\n",
              "attributes_notifications_marketing_email    6610\n",
              "num_contacts                                   0\n",
              "num_referrals                                  0\n",
              "num_successful_referrals                       0\n",
              "dtype: int64"
            ]
          },
          "metadata": {
            "tags": []
          },
          "execution_count": 11
        }
      ]
    },
    {
      "cell_type": "code",
      "metadata": {
        "id": "36YY1eZ3Sdt0",
        "colab_type": "code",
        "outputId": "e587f20a-6cd4-43d8-81e9-0058dd2bd5ab",
        "colab": {
          "base_uri": "https://localhost:8080/",
          "height": 85
        }
      },
      "source": [
        "# Missing value imputation for users table\n",
        "users['attributes_notifications_marketing_push'].value_counts(dropna=False)/len(users)*100"
      ],
      "execution_count": 12,
      "outputs": [
        {
          "output_type": "execute_result",
          "data": {
            "text/plain": [
              "1.0    62.521873\n",
              "NaN    34.019557\n",
              "0.0     3.458569\n",
              "Name: attributes_notifications_marketing_push, dtype: float64"
            ]
          },
          "metadata": {
            "tags": []
          },
          "execution_count": 12
        }
      ]
    },
    {
      "cell_type": "code",
      "metadata": {
        "id": "JvnESHMXSdyi",
        "colab_type": "code",
        "outputId": "f6afac86-47ec-440f-b98f-0d8c706fc543",
        "colab": {
          "base_uri": "https://localhost:8080/",
          "height": 85
        }
      },
      "source": [
        "users['attributes_notifications_marketing_email'].value_counts(dropna=False)/len(users)*100"
      ],
      "execution_count": 13,
      "outputs": [
        {
          "output_type": "execute_result",
          "data": {
            "text/plain": [
              "1.0    59.114771\n",
              "NaN    34.019557\n",
              "0.0     6.865672\n",
              "Name: attributes_notifications_marketing_email, dtype: float64"
            ]
          },
          "metadata": {
            "tags": []
          },
          "execution_count": 13
        }
      ]
    },
    {
      "cell_type": "code",
      "metadata": {
        "id": "aHFbwevZTxmM",
        "colab_type": "code",
        "colab": {}
      },
      "source": [
        "# Here I am imputing the missing data with other catagory as 2 beacause I am trating the missing \n",
        "#catagory as other catagory\n",
        "\n",
        "users.fillna(2,inplace=True)\n",
        "\n",
        "# Till here we have imputed all the missing values "
      ],
      "execution_count": 0,
      "outputs": []
    },
    {
      "cell_type": "code",
      "metadata": {
        "id": "-njMslKkTxpJ",
        "colab_type": "code",
        "colab": {}
      },
      "source": [
        "notification['created_date']=notification['created_date'].astype('datetime64[ns]')"
      ],
      "execution_count": 0,
      "outputs": []
    },
    {
      "cell_type": "code",
      "metadata": {
        "id": "9D-ABiI4TxuR",
        "colab_type": "code",
        "colab": {}
      },
      "source": [
        "transaction['created_date'] = transaction['created_date'].astype('datetime64[ns]')"
      ],
      "execution_count": 0,
      "outputs": []
    },
    {
      "cell_type": "code",
      "metadata": {
        "id": "mNz1YycnTxxH",
        "colab_type": "code",
        "colab": {}
      },
      "source": [
        "transaction['t_month'] = transaction['created_date'].dt.month\n",
        "\n",
        "transaction['t_year'] = transaction['created_date'].dt.year\n",
        "\n",
        "transaction['t_day'] = transaction['created_date'].dt.day\n",
        "\n",
        "transaction['t_week'] = transaction['created_date'].dt.week"
      ],
      "execution_count": 0,
      "outputs": []
    },
    {
      "cell_type": "code",
      "metadata": {
        "id": "_vwOviP4Tx1m",
        "colab_type": "code",
        "outputId": "d90daac8-d54a-4912-dad4-941bde2dead5",
        "colab": {
          "base_uri": "https://localhost:8080/",
          "height": 309
        }
      },
      "source": [
        "transaction.head()"
      ],
      "execution_count": 18,
      "outputs": [
        {
          "output_type": "execute_result",
          "data": {
            "text/html": [
              "<div>\n",
              "<style scoped>\n",
              "    .dataframe tbody tr th:only-of-type {\n",
              "        vertical-align: middle;\n",
              "    }\n",
              "\n",
              "    .dataframe tbody tr th {\n",
              "        vertical-align: top;\n",
              "    }\n",
              "\n",
              "    .dataframe thead th {\n",
              "        text-align: right;\n",
              "    }\n",
              "</style>\n",
              "<table border=\"1\" class=\"dataframe\">\n",
              "  <thead>\n",
              "    <tr style=\"text-align: right;\">\n",
              "      <th></th>\n",
              "      <th>transaction_id</th>\n",
              "      <th>transactions_type</th>\n",
              "      <th>transactions_currency</th>\n",
              "      <th>amount_usd</th>\n",
              "      <th>transactions_state</th>\n",
              "      <th>direction</th>\n",
              "      <th>user_id</th>\n",
              "      <th>created_date</th>\n",
              "      <th>t_month</th>\n",
              "      <th>t_year</th>\n",
              "      <th>t_day</th>\n",
              "      <th>t_week</th>\n",
              "    </tr>\n",
              "  </thead>\n",
              "  <tbody>\n",
              "    <tr>\n",
              "      <th>0</th>\n",
              "      <td>transaction_0</td>\n",
              "      <td>TRANSFER</td>\n",
              "      <td>AED</td>\n",
              "      <td>4.55</td>\n",
              "      <td>COMPLETED</td>\n",
              "      <td>OUTBOUND</td>\n",
              "      <td>user_898</td>\n",
              "      <td>2018-04-03 03:34:21.784487</td>\n",
              "      <td>4</td>\n",
              "      <td>2018</td>\n",
              "      <td>3</td>\n",
              "      <td>14</td>\n",
              "    </tr>\n",
              "    <tr>\n",
              "      <th>1</th>\n",
              "      <td>transaction_1</td>\n",
              "      <td>CARD_PAYMENT</td>\n",
              "      <td>AED</td>\n",
              "      <td>15.50</td>\n",
              "      <td>COMPLETED</td>\n",
              "      <td>OUTBOUND</td>\n",
              "      <td>user_1652</td>\n",
              "      <td>2019-03-19 06:15:59.537032</td>\n",
              "      <td>3</td>\n",
              "      <td>2019</td>\n",
              "      <td>19</td>\n",
              "      <td>12</td>\n",
              "    </tr>\n",
              "    <tr>\n",
              "      <th>2</th>\n",
              "      <td>transaction_2</td>\n",
              "      <td>CARD_PAYMENT</td>\n",
              "      <td>AED</td>\n",
              "      <td>43.40</td>\n",
              "      <td>COMPLETED</td>\n",
              "      <td>OUTBOUND</td>\n",
              "      <td>user_1652</td>\n",
              "      <td>2019-03-18 18:53:41.323032</td>\n",
              "      <td>3</td>\n",
              "      <td>2019</td>\n",
              "      <td>18</td>\n",
              "      <td>12</td>\n",
              "    </tr>\n",
              "    <tr>\n",
              "      <th>3</th>\n",
              "      <td>transaction_3</td>\n",
              "      <td>TRANSFER</td>\n",
              "      <td>AED</td>\n",
              "      <td>10043.01</td>\n",
              "      <td>COMPLETED</td>\n",
              "      <td>OUTBOUND</td>\n",
              "      <td>user_1652</td>\n",
              "      <td>2019-03-22 14:20:01.513032</td>\n",
              "      <td>3</td>\n",
              "      <td>2019</td>\n",
              "      <td>22</td>\n",
              "      <td>12</td>\n",
              "    </tr>\n",
              "    <tr>\n",
              "      <th>4</th>\n",
              "      <td>transaction_4</td>\n",
              "      <td>CARD_PAYMENT</td>\n",
              "      <td>AED</td>\n",
              "      <td>43.81</td>\n",
              "      <td>COMPLETED</td>\n",
              "      <td>OUTBOUND</td>\n",
              "      <td>user_5509</td>\n",
              "      <td>2019-03-22 05:42:50.316652</td>\n",
              "      <td>3</td>\n",
              "      <td>2019</td>\n",
              "      <td>22</td>\n",
              "      <td>12</td>\n",
              "    </tr>\n",
              "  </tbody>\n",
              "</table>\n",
              "</div>"
            ],
            "text/plain": [
              "  transaction_id transactions_type transactions_currency  ...  t_year t_day t_week\n",
              "0  transaction_0          TRANSFER                   AED  ...    2018     3     14\n",
              "1  transaction_1      CARD_PAYMENT                   AED  ...    2019    19     12\n",
              "2  transaction_2      CARD_PAYMENT                   AED  ...    2019    18     12\n",
              "3  transaction_3          TRANSFER                   AED  ...    2019    22     12\n",
              "4  transaction_4      CARD_PAYMENT                   AED  ...    2019    22     12\n",
              "\n",
              "[5 rows x 12 columns]"
            ]
          },
          "metadata": {
            "tags": []
          },
          "execution_count": 18
        }
      ]
    },
    {
      "cell_type": "code",
      "metadata": {
        "id": "t82f1PBmUC8v",
        "colab_type": "code",
        "colab": {}
      },
      "source": [
        "del transaction['created_date']"
      ],
      "execution_count": 0,
      "outputs": []
    },
    {
      "cell_type": "code",
      "metadata": {
        "id": "Pr5Y84vLUDC3",
        "colab_type": "code",
        "colab": {}
      },
      "source": [
        "notification['n_month'] = notification['created_date'].dt.month\n",
        "\n",
        "notification['n_year'] = notification['created_date'].dt.year\n",
        "\n",
        "notification['n_day'] = notification['created_date'].dt.day\n",
        "\n",
        "notification['n_week'] = notification['created_date'].dt.week\n",
        "\n",
        "del notification['created_date']"
      ],
      "execution_count": 0,
      "outputs": []
    },
    {
      "cell_type": "code",
      "metadata": {
        "id": "ju2sJeQKUDTZ",
        "colab_type": "code",
        "outputId": "3a4f155a-58c8-49d7-f5df-820a32b2bcf4",
        "colab": {
          "base_uri": "https://localhost:8080/",
          "height": 204
        }
      },
      "source": [
        "notification.head()"
      ],
      "execution_count": 21,
      "outputs": [
        {
          "output_type": "execute_result",
          "data": {
            "text/html": [
              "<div>\n",
              "<style scoped>\n",
              "    .dataframe tbody tr th:only-of-type {\n",
              "        vertical-align: middle;\n",
              "    }\n",
              "\n",
              "    .dataframe tbody tr th {\n",
              "        vertical-align: top;\n",
              "    }\n",
              "\n",
              "    .dataframe thead th {\n",
              "        text-align: right;\n",
              "    }\n",
              "</style>\n",
              "<table border=\"1\" class=\"dataframe\">\n",
              "  <thead>\n",
              "    <tr style=\"text-align: right;\">\n",
              "      <th></th>\n",
              "      <th>reason</th>\n",
              "      <th>channel</th>\n",
              "      <th>status</th>\n",
              "      <th>user_id</th>\n",
              "      <th>n_month</th>\n",
              "      <th>n_year</th>\n",
              "      <th>n_day</th>\n",
              "      <th>n_week</th>\n",
              "    </tr>\n",
              "  </thead>\n",
              "  <tbody>\n",
              "    <tr>\n",
              "      <th>0</th>\n",
              "      <td>REENGAGEMENT_ACTIVE_FUNDS</td>\n",
              "      <td>PUSH</td>\n",
              "      <td>SENT</td>\n",
              "      <td>user_7086</td>\n",
              "      <td>12</td>\n",
              "      <td>2018</td>\n",
              "      <td>2</td>\n",
              "      <td>48</td>\n",
              "    </tr>\n",
              "    <tr>\n",
              "      <th>1</th>\n",
              "      <td>REENGAGEMENT_ACTIVE_FUNDS</td>\n",
              "      <td>PUSH</td>\n",
              "      <td>SENT</td>\n",
              "      <td>user_6598</td>\n",
              "      <td>12</td>\n",
              "      <td>2018</td>\n",
              "      <td>1</td>\n",
              "      <td>48</td>\n",
              "    </tr>\n",
              "    <tr>\n",
              "      <th>2</th>\n",
              "      <td>REENGAGEMENT_ACTIVE_FUNDS</td>\n",
              "      <td>PUSH</td>\n",
              "      <td>SENT</td>\n",
              "      <td>user_4151</td>\n",
              "      <td>12</td>\n",
              "      <td>2018</td>\n",
              "      <td>4</td>\n",
              "      <td>49</td>\n",
              "    </tr>\n",
              "    <tr>\n",
              "      <th>3</th>\n",
              "      <td>REENGAGEMENT_ACTIVE_FUNDS</td>\n",
              "      <td>PUSH</td>\n",
              "      <td>SENT</td>\n",
              "      <td>user_1408</td>\n",
              "      <td>12</td>\n",
              "      <td>2018</td>\n",
              "      <td>11</td>\n",
              "      <td>50</td>\n",
              "    </tr>\n",
              "    <tr>\n",
              "      <th>4</th>\n",
              "      <td>REENGAGEMENT_ACTIVE_FUNDS</td>\n",
              "      <td>PUSH</td>\n",
              "      <td>SENT</td>\n",
              "      <td>user_6292</td>\n",
              "      <td>12</td>\n",
              "      <td>2018</td>\n",
              "      <td>14</td>\n",
              "      <td>50</td>\n",
              "    </tr>\n",
              "  </tbody>\n",
              "</table>\n",
              "</div>"
            ],
            "text/plain": [
              "                      reason channel status  ... n_year  n_day  n_week\n",
              "0  REENGAGEMENT_ACTIVE_FUNDS    PUSH   SENT  ...   2018      2      48\n",
              "1  REENGAGEMENT_ACTIVE_FUNDS    PUSH   SENT  ...   2018      1      48\n",
              "2  REENGAGEMENT_ACTIVE_FUNDS    PUSH   SENT  ...   2018      4      49\n",
              "3  REENGAGEMENT_ACTIVE_FUNDS    PUSH   SENT  ...   2018     11      50\n",
              "4  REENGAGEMENT_ACTIVE_FUNDS    PUSH   SENT  ...   2018     14      50\n",
              "\n",
              "[5 rows x 8 columns]"
            ]
          },
          "metadata": {
            "tags": []
          },
          "execution_count": 21
        }
      ]
    },
    {
      "cell_type": "code",
      "metadata": {
        "id": "_CyGxp2uUDKB",
        "colab_type": "code",
        "colab": {}
      },
      "source": [
        "users['created_date']=users['created_date'].astype('datetime64[ns]')"
      ],
      "execution_count": 0,
      "outputs": []
    },
    {
      "cell_type": "code",
      "metadata": {
        "id": "dtevqhhgUDIp",
        "colab_type": "code",
        "colab": {}
      },
      "source": [
        "users['u_month'] = users['created_date'].dt.month\n",
        "\n",
        "users['u_year'] = users['created_date'].dt.year\n",
        "\n",
        "users['u_day'] = users['created_date'].dt.day\n",
        "\n",
        "users['u_week'] = users['created_date'].dt.week\n",
        "\n",
        "del users['created_date']"
      ],
      "execution_count": 0,
      "outputs": []
    },
    {
      "cell_type": "markdown",
      "metadata": {
        "id": "GxfBz2tVUZJp",
        "colab_type": "text"
      },
      "source": [
        "## Data PrePeration"
      ]
    },
    {
      "cell_type": "code",
      "metadata": {
        "id": "16xAcKqGTx4Q",
        "colab_type": "code",
        "outputId": "d22bdb3d-105d-4ebe-ad77-19a74d4253c3",
        "colab": {
          "base_uri": "https://localhost:8080/",
          "height": 34
        }
      },
      "source": [
        "list(zip([users.shape,transaction.shape,notification.shape,device.shape]))"
      ],
      "execution_count": 24,
      "outputs": [
        {
          "output_type": "execute_result",
          "data": {
            "text/plain": [
              "[((19430, 15),), ((2740075, 11),), ((121813, 8),), ((19430, 2),)]"
            ]
          },
          "metadata": {
            "tags": []
          },
          "execution_count": 24
        }
      ]
    },
    {
      "cell_type": "code",
      "metadata": {
        "id": "cbdxpIYGTx6-",
        "colab_type": "code",
        "outputId": "fa940547-6c33-4f4c-e3f9-49b89b2dfce3",
        "colab": {
          "base_uri": "https://localhost:8080/",
          "height": 142
        }
      },
      "source": [
        "transaction.head(3)"
      ],
      "execution_count": 25,
      "outputs": [
        {
          "output_type": "execute_result",
          "data": {
            "text/html": [
              "<div>\n",
              "<style scoped>\n",
              "    .dataframe tbody tr th:only-of-type {\n",
              "        vertical-align: middle;\n",
              "    }\n",
              "\n",
              "    .dataframe tbody tr th {\n",
              "        vertical-align: top;\n",
              "    }\n",
              "\n",
              "    .dataframe thead th {\n",
              "        text-align: right;\n",
              "    }\n",
              "</style>\n",
              "<table border=\"1\" class=\"dataframe\">\n",
              "  <thead>\n",
              "    <tr style=\"text-align: right;\">\n",
              "      <th></th>\n",
              "      <th>transaction_id</th>\n",
              "      <th>transactions_type</th>\n",
              "      <th>transactions_currency</th>\n",
              "      <th>amount_usd</th>\n",
              "      <th>transactions_state</th>\n",
              "      <th>direction</th>\n",
              "      <th>user_id</th>\n",
              "      <th>t_month</th>\n",
              "      <th>t_year</th>\n",
              "      <th>t_day</th>\n",
              "      <th>t_week</th>\n",
              "    </tr>\n",
              "  </thead>\n",
              "  <tbody>\n",
              "    <tr>\n",
              "      <th>0</th>\n",
              "      <td>transaction_0</td>\n",
              "      <td>TRANSFER</td>\n",
              "      <td>AED</td>\n",
              "      <td>4.55</td>\n",
              "      <td>COMPLETED</td>\n",
              "      <td>OUTBOUND</td>\n",
              "      <td>user_898</td>\n",
              "      <td>4</td>\n",
              "      <td>2018</td>\n",
              "      <td>3</td>\n",
              "      <td>14</td>\n",
              "    </tr>\n",
              "    <tr>\n",
              "      <th>1</th>\n",
              "      <td>transaction_1</td>\n",
              "      <td>CARD_PAYMENT</td>\n",
              "      <td>AED</td>\n",
              "      <td>15.50</td>\n",
              "      <td>COMPLETED</td>\n",
              "      <td>OUTBOUND</td>\n",
              "      <td>user_1652</td>\n",
              "      <td>3</td>\n",
              "      <td>2019</td>\n",
              "      <td>19</td>\n",
              "      <td>12</td>\n",
              "    </tr>\n",
              "    <tr>\n",
              "      <th>2</th>\n",
              "      <td>transaction_2</td>\n",
              "      <td>CARD_PAYMENT</td>\n",
              "      <td>AED</td>\n",
              "      <td>43.40</td>\n",
              "      <td>COMPLETED</td>\n",
              "      <td>OUTBOUND</td>\n",
              "      <td>user_1652</td>\n",
              "      <td>3</td>\n",
              "      <td>2019</td>\n",
              "      <td>18</td>\n",
              "      <td>12</td>\n",
              "    </tr>\n",
              "  </tbody>\n",
              "</table>\n",
              "</div>"
            ],
            "text/plain": [
              "  transaction_id transactions_type transactions_currency  ...  t_year t_day t_week\n",
              "0  transaction_0          TRANSFER                   AED  ...    2018     3     14\n",
              "1  transaction_1      CARD_PAYMENT                   AED  ...    2019    19     12\n",
              "2  transaction_2      CARD_PAYMENT                   AED  ...    2019    18     12\n",
              "\n",
              "[3 rows x 11 columns]"
            ]
          },
          "metadata": {
            "tags": []
          },
          "execution_count": 25
        }
      ]
    },
    {
      "cell_type": "code",
      "metadata": {
        "id": "8CbKHrKeTx__",
        "colab_type": "code",
        "outputId": "a163d74d-7da5-47f5-a2af-c7bb942c10bf",
        "colab": {
          "base_uri": "https://localhost:8080/",
          "height": 162
        }
      },
      "source": [
        "users.head(3)"
      ],
      "execution_count": 26,
      "outputs": [
        {
          "output_type": "execute_result",
          "data": {
            "text/html": [
              "<div>\n",
              "<style scoped>\n",
              "    .dataframe tbody tr th:only-of-type {\n",
              "        vertical-align: middle;\n",
              "    }\n",
              "\n",
              "    .dataframe tbody tr th {\n",
              "        vertical-align: top;\n",
              "    }\n",
              "\n",
              "    .dataframe thead th {\n",
              "        text-align: right;\n",
              "    }\n",
              "</style>\n",
              "<table border=\"1\" class=\"dataframe\">\n",
              "  <thead>\n",
              "    <tr style=\"text-align: right;\">\n",
              "      <th></th>\n",
              "      <th>user_id</th>\n",
              "      <th>birth_year</th>\n",
              "      <th>country</th>\n",
              "      <th>city</th>\n",
              "      <th>user_settings_crypto_unlocked</th>\n",
              "      <th>plan</th>\n",
              "      <th>attributes_notifications_marketing_push</th>\n",
              "      <th>attributes_notifications_marketing_email</th>\n",
              "      <th>num_contacts</th>\n",
              "      <th>num_referrals</th>\n",
              "      <th>num_successful_referrals</th>\n",
              "      <th>u_month</th>\n",
              "      <th>u_year</th>\n",
              "      <th>u_day</th>\n",
              "      <th>u_week</th>\n",
              "    </tr>\n",
              "  </thead>\n",
              "  <tbody>\n",
              "    <tr>\n",
              "      <th>0</th>\n",
              "      <td>user_0</td>\n",
              "      <td>1989</td>\n",
              "      <td>PL</td>\n",
              "      <td>Gdansk</td>\n",
              "      <td>1</td>\n",
              "      <td>STANDARD</td>\n",
              "      <td>1.0</td>\n",
              "      <td>1.0</td>\n",
              "      <td>3</td>\n",
              "      <td>0</td>\n",
              "      <td>0</td>\n",
              "      <td>1</td>\n",
              "      <td>2018</td>\n",
              "      <td>13</td>\n",
              "      <td>2</td>\n",
              "    </tr>\n",
              "    <tr>\n",
              "      <th>1</th>\n",
              "      <td>user_1</td>\n",
              "      <td>1975</td>\n",
              "      <td>GB</td>\n",
              "      <td>London</td>\n",
              "      <td>0</td>\n",
              "      <td>STANDARD</td>\n",
              "      <td>2.0</td>\n",
              "      <td>2.0</td>\n",
              "      <td>21</td>\n",
              "      <td>0</td>\n",
              "      <td>0</td>\n",
              "      <td>1</td>\n",
              "      <td>2018</td>\n",
              "      <td>29</td>\n",
              "      <td>5</td>\n",
              "    </tr>\n",
              "    <tr>\n",
              "      <th>2</th>\n",
              "      <td>user_2</td>\n",
              "      <td>1987</td>\n",
              "      <td>PL</td>\n",
              "      <td>Poznań</td>\n",
              "      <td>0</td>\n",
              "      <td>STANDARD</td>\n",
              "      <td>0.0</td>\n",
              "      <td>0.0</td>\n",
              "      <td>21</td>\n",
              "      <td>0</td>\n",
              "      <td>0</td>\n",
              "      <td>1</td>\n",
              "      <td>2018</td>\n",
              "      <td>18</td>\n",
              "      <td>3</td>\n",
              "    </tr>\n",
              "  </tbody>\n",
              "</table>\n",
              "</div>"
            ],
            "text/plain": [
              "  user_id  birth_year country    city  ...  u_month u_year  u_day  u_week\n",
              "0  user_0        1989      PL  Gdansk  ...        1   2018     13       2\n",
              "1  user_1        1975      GB  London  ...        1   2018     29       5\n",
              "2  user_2        1987      PL  Poznań  ...        1   2018     18       3\n",
              "\n",
              "[3 rows x 15 columns]"
            ]
          },
          "metadata": {
            "tags": []
          },
          "execution_count": 26
        }
      ]
    },
    {
      "cell_type": "code",
      "metadata": {
        "id": "CXBv2FYIUrBs",
        "colab_type": "code",
        "colab": {}
      },
      "source": [
        "# pp.ProfileReport(users)"
      ],
      "execution_count": 0,
      "outputs": []
    },
    {
      "cell_type": "code",
      "metadata": {
        "id": "Ru-H6revU3qA",
        "colab_type": "code",
        "colab": {}
      },
      "source": [
        "# attributes_notifications_marketing_email is highly correlated with attributes_notifications_marketing_push(ρ = 0.93666)\n",
        "# num_contacts is highly Skewed\n",
        "# num_referrals has constant value 0 \n",
        "# num_successful_referrals has constant value 0 \n",
        "# u_week is highly correlated with u_month (ρ = 0.98337) \n",
        "# I will drop num_referrals,num_successful_referrals,u_week from our dataset"
      ],
      "execution_count": 0,
      "outputs": []
    },
    {
      "cell_type": "code",
      "metadata": {
        "id": "EWeqblWDWAMl",
        "colab_type": "code",
        "colab": {}
      },
      "source": [
        "# plt.rcParams['figure.figsize'] = 17,8\n",
        "# sns.distplot(users['num_contacts'])\n",
        "# plt.show()"
      ],
      "execution_count": 0,
      "outputs": []
    },
    {
      "cell_type": "code",
      "metadata": {
        "id": "2cTVgtoJWKpe",
        "colab_type": "code",
        "outputId": "52f9b3fa-794c-477a-8fd1-a261a42a99e7",
        "colab": {
          "base_uri": "https://localhost:8080/",
          "height": 51
        }
      },
      "source": [
        "users['num_referrals'].value_counts()"
      ],
      "execution_count": 30,
      "outputs": [
        {
          "output_type": "execute_result",
          "data": {
            "text/plain": [
              "0    19430\n",
              "Name: num_referrals, dtype: int64"
            ]
          },
          "metadata": {
            "tags": []
          },
          "execution_count": 30
        }
      ]
    },
    {
      "cell_type": "code",
      "metadata": {
        "id": "2xfExNn4WqfK",
        "colab_type": "code",
        "outputId": "39d10305-e433-4010-8a63-3658ae92c4de",
        "colab": {
          "base_uri": "https://localhost:8080/",
          "height": 51
        }
      },
      "source": [
        "users['num_successful_referrals'].value_counts()"
      ],
      "execution_count": 31,
      "outputs": [
        {
          "output_type": "execute_result",
          "data": {
            "text/plain": [
              "0    19430\n",
              "Name: num_successful_referrals, dtype: int64"
            ]
          },
          "metadata": {
            "tags": []
          },
          "execution_count": 31
        }
      ]
    },
    {
      "cell_type": "code",
      "metadata": {
        "id": "fzbF_b_zXLtf",
        "colab_type": "code",
        "colab": {}
      },
      "source": [
        "users.drop(['num_referrals','num_successful_referrals','u_week'],axis=1,inplace=True)"
      ],
      "execution_count": 0,
      "outputs": []
    },
    {
      "cell_type": "code",
      "metadata": {
        "id": "vKdW8X2BXf-p",
        "colab_type": "code",
        "outputId": "798dd2a3-771d-4dda-e762-d88d34becae0",
        "colab": {
          "base_uri": "https://localhost:8080/",
          "height": 224
        }
      },
      "source": [
        "users.head()"
      ],
      "execution_count": 33,
      "outputs": [
        {
          "output_type": "execute_result",
          "data": {
            "text/html": [
              "<div>\n",
              "<style scoped>\n",
              "    .dataframe tbody tr th:only-of-type {\n",
              "        vertical-align: middle;\n",
              "    }\n",
              "\n",
              "    .dataframe tbody tr th {\n",
              "        vertical-align: top;\n",
              "    }\n",
              "\n",
              "    .dataframe thead th {\n",
              "        text-align: right;\n",
              "    }\n",
              "</style>\n",
              "<table border=\"1\" class=\"dataframe\">\n",
              "  <thead>\n",
              "    <tr style=\"text-align: right;\">\n",
              "      <th></th>\n",
              "      <th>user_id</th>\n",
              "      <th>birth_year</th>\n",
              "      <th>country</th>\n",
              "      <th>city</th>\n",
              "      <th>user_settings_crypto_unlocked</th>\n",
              "      <th>plan</th>\n",
              "      <th>attributes_notifications_marketing_push</th>\n",
              "      <th>attributes_notifications_marketing_email</th>\n",
              "      <th>num_contacts</th>\n",
              "      <th>u_month</th>\n",
              "      <th>u_year</th>\n",
              "      <th>u_day</th>\n",
              "    </tr>\n",
              "  </thead>\n",
              "  <tbody>\n",
              "    <tr>\n",
              "      <th>0</th>\n",
              "      <td>user_0</td>\n",
              "      <td>1989</td>\n",
              "      <td>PL</td>\n",
              "      <td>Gdansk</td>\n",
              "      <td>1</td>\n",
              "      <td>STANDARD</td>\n",
              "      <td>1.0</td>\n",
              "      <td>1.0</td>\n",
              "      <td>3</td>\n",
              "      <td>1</td>\n",
              "      <td>2018</td>\n",
              "      <td>13</td>\n",
              "    </tr>\n",
              "    <tr>\n",
              "      <th>1</th>\n",
              "      <td>user_1</td>\n",
              "      <td>1975</td>\n",
              "      <td>GB</td>\n",
              "      <td>London</td>\n",
              "      <td>0</td>\n",
              "      <td>STANDARD</td>\n",
              "      <td>2.0</td>\n",
              "      <td>2.0</td>\n",
              "      <td>21</td>\n",
              "      <td>1</td>\n",
              "      <td>2018</td>\n",
              "      <td>29</td>\n",
              "    </tr>\n",
              "    <tr>\n",
              "      <th>2</th>\n",
              "      <td>user_2</td>\n",
              "      <td>1987</td>\n",
              "      <td>PL</td>\n",
              "      <td>Poznań</td>\n",
              "      <td>0</td>\n",
              "      <td>STANDARD</td>\n",
              "      <td>0.0</td>\n",
              "      <td>0.0</td>\n",
              "      <td>21</td>\n",
              "      <td>1</td>\n",
              "      <td>2018</td>\n",
              "      <td>18</td>\n",
              "    </tr>\n",
              "    <tr>\n",
              "      <th>3</th>\n",
              "      <td>user_3</td>\n",
              "      <td>1994</td>\n",
              "      <td>FR</td>\n",
              "      <td>Paris</td>\n",
              "      <td>0</td>\n",
              "      <td>STANDARD</td>\n",
              "      <td>1.0</td>\n",
              "      <td>0.0</td>\n",
              "      <td>0</td>\n",
              "      <td>1</td>\n",
              "      <td>2018</td>\n",
              "      <td>15</td>\n",
              "    </tr>\n",
              "    <tr>\n",
              "      <th>4</th>\n",
              "      <td>user_4</td>\n",
              "      <td>1985</td>\n",
              "      <td>GB</td>\n",
              "      <td>Beckenham</td>\n",
              "      <td>0</td>\n",
              "      <td>STANDARD</td>\n",
              "      <td>2.0</td>\n",
              "      <td>2.0</td>\n",
              "      <td>2</td>\n",
              "      <td>1</td>\n",
              "      <td>2018</td>\n",
              "      <td>11</td>\n",
              "    </tr>\n",
              "  </tbody>\n",
              "</table>\n",
              "</div>"
            ],
            "text/plain": [
              "  user_id  birth_year country       city  ...  num_contacts u_month  u_year  u_day\n",
              "0  user_0        1989      PL     Gdansk  ...             3       1    2018     13\n",
              "1  user_1        1975      GB     London  ...            21       1    2018     29\n",
              "2  user_2        1987      PL     Poznań  ...            21       1    2018     18\n",
              "3  user_3        1994      FR      Paris  ...             0       1    2018     15\n",
              "4  user_4        1985      GB  Beckenham  ...             2       1    2018     11\n",
              "\n",
              "[5 rows x 12 columns]"
            ]
          },
          "metadata": {
            "tags": []
          },
          "execution_count": 33
        }
      ]
    },
    {
      "cell_type": "code",
      "metadata": {
        "id": "m70-ghHwYp0G",
        "colab_type": "code",
        "outputId": "316d5665-4428-4066-ab88-f2fc5e4efca1",
        "colab": {
          "base_uri": "https://localhost:8080/",
          "height": 204
        }
      },
      "source": [
        "device.head()"
      ],
      "execution_count": 34,
      "outputs": [
        {
          "output_type": "execute_result",
          "data": {
            "text/html": [
              "<div>\n",
              "<style scoped>\n",
              "    .dataframe tbody tr th:only-of-type {\n",
              "        vertical-align: middle;\n",
              "    }\n",
              "\n",
              "    .dataframe tbody tr th {\n",
              "        vertical-align: top;\n",
              "    }\n",
              "\n",
              "    .dataframe thead th {\n",
              "        text-align: right;\n",
              "    }\n",
              "</style>\n",
              "<table border=\"1\" class=\"dataframe\">\n",
              "  <thead>\n",
              "    <tr style=\"text-align: right;\">\n",
              "      <th></th>\n",
              "      <th>brand</th>\n",
              "      <th>user_id</th>\n",
              "    </tr>\n",
              "  </thead>\n",
              "  <tbody>\n",
              "    <tr>\n",
              "      <th>0</th>\n",
              "      <td>Android</td>\n",
              "      <td>user_3257</td>\n",
              "    </tr>\n",
              "    <tr>\n",
              "      <th>1</th>\n",
              "      <td>Apple</td>\n",
              "      <td>user_6809</td>\n",
              "    </tr>\n",
              "    <tr>\n",
              "      <th>2</th>\n",
              "      <td>Android</td>\n",
              "      <td>user_9144</td>\n",
              "    </tr>\n",
              "    <tr>\n",
              "      <th>3</th>\n",
              "      <td>Apple</td>\n",
              "      <td>user_3636</td>\n",
              "    </tr>\n",
              "    <tr>\n",
              "      <th>4</th>\n",
              "      <td>Android</td>\n",
              "      <td>user_5970</td>\n",
              "    </tr>\n",
              "  </tbody>\n",
              "</table>\n",
              "</div>"
            ],
            "text/plain": [
              "     brand    user_id\n",
              "0  Android  user_3257\n",
              "1    Apple  user_6809\n",
              "2  Android  user_9144\n",
              "3    Apple  user_3636\n",
              "4  Android  user_5970"
            ]
          },
          "metadata": {
            "tags": []
          },
          "execution_count": 34
        }
      ]
    },
    {
      "cell_type": "code",
      "metadata": {
        "id": "bvUvgxaZYqRq",
        "colab_type": "code",
        "colab": {}
      },
      "source": [
        "# sns.countplot(device['brand'])"
      ],
      "execution_count": 0,
      "outputs": []
    },
    {
      "cell_type": "code",
      "metadata": {
        "id": "vYU87IIWYqPe",
        "colab_type": "code",
        "outputId": "0aaa0192-6135-4afd-bfdd-00aec41e53be",
        "colab": {
          "base_uri": "https://localhost:8080/",
          "height": 204
        }
      },
      "source": [
        "notification.head()"
      ],
      "execution_count": 36,
      "outputs": [
        {
          "output_type": "execute_result",
          "data": {
            "text/html": [
              "<div>\n",
              "<style scoped>\n",
              "    .dataframe tbody tr th:only-of-type {\n",
              "        vertical-align: middle;\n",
              "    }\n",
              "\n",
              "    .dataframe tbody tr th {\n",
              "        vertical-align: top;\n",
              "    }\n",
              "\n",
              "    .dataframe thead th {\n",
              "        text-align: right;\n",
              "    }\n",
              "</style>\n",
              "<table border=\"1\" class=\"dataframe\">\n",
              "  <thead>\n",
              "    <tr style=\"text-align: right;\">\n",
              "      <th></th>\n",
              "      <th>reason</th>\n",
              "      <th>channel</th>\n",
              "      <th>status</th>\n",
              "      <th>user_id</th>\n",
              "      <th>n_month</th>\n",
              "      <th>n_year</th>\n",
              "      <th>n_day</th>\n",
              "      <th>n_week</th>\n",
              "    </tr>\n",
              "  </thead>\n",
              "  <tbody>\n",
              "    <tr>\n",
              "      <th>0</th>\n",
              "      <td>REENGAGEMENT_ACTIVE_FUNDS</td>\n",
              "      <td>PUSH</td>\n",
              "      <td>SENT</td>\n",
              "      <td>user_7086</td>\n",
              "      <td>12</td>\n",
              "      <td>2018</td>\n",
              "      <td>2</td>\n",
              "      <td>48</td>\n",
              "    </tr>\n",
              "    <tr>\n",
              "      <th>1</th>\n",
              "      <td>REENGAGEMENT_ACTIVE_FUNDS</td>\n",
              "      <td>PUSH</td>\n",
              "      <td>SENT</td>\n",
              "      <td>user_6598</td>\n",
              "      <td>12</td>\n",
              "      <td>2018</td>\n",
              "      <td>1</td>\n",
              "      <td>48</td>\n",
              "    </tr>\n",
              "    <tr>\n",
              "      <th>2</th>\n",
              "      <td>REENGAGEMENT_ACTIVE_FUNDS</td>\n",
              "      <td>PUSH</td>\n",
              "      <td>SENT</td>\n",
              "      <td>user_4151</td>\n",
              "      <td>12</td>\n",
              "      <td>2018</td>\n",
              "      <td>4</td>\n",
              "      <td>49</td>\n",
              "    </tr>\n",
              "    <tr>\n",
              "      <th>3</th>\n",
              "      <td>REENGAGEMENT_ACTIVE_FUNDS</td>\n",
              "      <td>PUSH</td>\n",
              "      <td>SENT</td>\n",
              "      <td>user_1408</td>\n",
              "      <td>12</td>\n",
              "      <td>2018</td>\n",
              "      <td>11</td>\n",
              "      <td>50</td>\n",
              "    </tr>\n",
              "    <tr>\n",
              "      <th>4</th>\n",
              "      <td>REENGAGEMENT_ACTIVE_FUNDS</td>\n",
              "      <td>PUSH</td>\n",
              "      <td>SENT</td>\n",
              "      <td>user_6292</td>\n",
              "      <td>12</td>\n",
              "      <td>2018</td>\n",
              "      <td>14</td>\n",
              "      <td>50</td>\n",
              "    </tr>\n",
              "  </tbody>\n",
              "</table>\n",
              "</div>"
            ],
            "text/plain": [
              "                      reason channel status  ... n_year  n_day  n_week\n",
              "0  REENGAGEMENT_ACTIVE_FUNDS    PUSH   SENT  ...   2018      2      48\n",
              "1  REENGAGEMENT_ACTIVE_FUNDS    PUSH   SENT  ...   2018      1      48\n",
              "2  REENGAGEMENT_ACTIVE_FUNDS    PUSH   SENT  ...   2018      4      49\n",
              "3  REENGAGEMENT_ACTIVE_FUNDS    PUSH   SENT  ...   2018     11      50\n",
              "4  REENGAGEMENT_ACTIVE_FUNDS    PUSH   SENT  ...   2018     14      50\n",
              "\n",
              "[5 rows x 8 columns]"
            ]
          },
          "metadata": {
            "tags": []
          },
          "execution_count": 36
        }
      ]
    },
    {
      "cell_type": "code",
      "metadata": {
        "id": "y3DS6ZI1YqE3",
        "colab_type": "code",
        "colab": {}
      },
      "source": [
        "# pp.ProfileReport(notification)"
      ],
      "execution_count": 0,
      "outputs": []
    },
    {
      "cell_type": "code",
      "metadata": {
        "id": "6Zys7qg7YqCz",
        "colab_type": "code",
        "colab": {}
      },
      "source": [
        "# user_id has a high cardinality: 18953 distinct values Warning\n",
        "# n_week is highly correlated with n_month (ρ = 0.98474) Rejected\n",
        "# Dataset has 2466 duplicate rows Warning"
      ],
      "execution_count": 0,
      "outputs": []
    },
    {
      "cell_type": "code",
      "metadata": {
        "id": "OQky83elaojG",
        "colab_type": "code",
        "colab": {}
      },
      "source": [
        "notification.drop('n_week',axis = 1,inplace = True)"
      ],
      "execution_count": 0,
      "outputs": []
    },
    {
      "cell_type": "code",
      "metadata": {
        "id": "rUZv3E6JaLfR",
        "colab_type": "code",
        "outputId": "d7564222-8a03-4eb6-f069-8a14370790b8",
        "colab": {
          "base_uri": "https://localhost:8080/",
          "height": 34
        }
      },
      "source": [
        "# Before dropping the duplicate rows\n",
        "notification.shape"
      ],
      "execution_count": 40,
      "outputs": [
        {
          "output_type": "execute_result",
          "data": {
            "text/plain": [
              "(121813, 7)"
            ]
          },
          "metadata": {
            "tags": []
          },
          "execution_count": 40
        }
      ]
    },
    {
      "cell_type": "code",
      "metadata": {
        "id": "ULCMt4uiYqAw",
        "colab_type": "code",
        "colab": {}
      },
      "source": [
        "notification.drop_duplicates(inplace=True)"
      ],
      "execution_count": 0,
      "outputs": []
    },
    {
      "cell_type": "code",
      "metadata": {
        "id": "XiIFuFCZaPnH",
        "colab_type": "code",
        "outputId": "7a948111-e5c8-4515-f571-b9242ed85423",
        "colab": {
          "base_uri": "https://localhost:8080/",
          "height": 34
        }
      },
      "source": [
        "# After dropping the duplicate rows\n",
        "notification.shape"
      ],
      "execution_count": 42,
      "outputs": [
        {
          "output_type": "execute_result",
          "data": {
            "text/plain": [
              "(119347, 7)"
            ]
          },
          "metadata": {
            "tags": []
          },
          "execution_count": 42
        }
      ]
    },
    {
      "cell_type": "code",
      "metadata": {
        "id": "Qjsj5OmYacny",
        "colab_type": "code",
        "colab": {}
      },
      "source": [
        "# pp.ProfileReport(transaction)\n"
      ],
      "execution_count": 0,
      "outputs": []
    },
    {
      "cell_type": "code",
      "metadata": {
        "id": "BTMWJKmDac9r",
        "colab_type": "code",
        "colab": {}
      },
      "source": [
        "# amount_usd has 58604 / 2.1% zeros Zeros\n",
        "# amount_usd is highly skewed (γ1 = 756.51) Skewed\n",
        "# user_id has a high cardinality: 18766 distinct values Warning\n",
        "# t_week is highly correlated with t_month (ρ = 0.98237) Rejected"
      ],
      "execution_count": 0,
      "outputs": []
    },
    {
      "cell_type": "code",
      "metadata": {
        "id": "ijNxFlBFdxSY",
        "colab_type": "code",
        "colab": {}
      },
      "source": [
        "transaction.drop('t_week',axis=1,inplace=True)"
      ],
      "execution_count": 0,
      "outputs": []
    },
    {
      "cell_type": "code",
      "metadata": {
        "id": "VyrnnAyNblux",
        "colab_type": "code",
        "outputId": "86955642-5478-4785-d95b-8e6f2f1a09bb",
        "colab": {
          "base_uri": "https://localhost:8080/",
          "height": 34
        }
      },
      "source": [
        "transaction['amount_usd'].min()"
      ],
      "execution_count": 45,
      "outputs": [
        {
          "output_type": "execute_result",
          "data": {
            "text/plain": [
              "0.0"
            ]
          },
          "metadata": {
            "tags": []
          },
          "execution_count": 45
        }
      ]
    },
    {
      "cell_type": "code",
      "metadata": {
        "id": "3mzLS57Ladct",
        "colab_type": "code",
        "colab": {}
      },
      "source": [
        "# sns.distplot(np.cbrt(transaction['amount_usd']),bins=5)\n",
        "# plt.xlim(0,np.cbrt(85106453190.03))\n",
        "# plt.show()"
      ],
      "execution_count": 0,
      "outputs": []
    },
    {
      "cell_type": "markdown",
      "metadata": {
        "id": "PrN9tpUkewXi",
        "colab_type": "text"
      },
      "source": [
        " # Joining Data For Data Preperation"
      ]
    },
    {
      "cell_type": "code",
      "metadata": {
        "id": "-Zg2684PXiTj",
        "colab_type": "code",
        "outputId": "90cb7fd1-df50-4a13-fa25-5510a5005521",
        "colab": {
          "base_uri": "https://localhost:8080/",
          "height": 224
        }
      },
      "source": [
        "df1 = pd.merge(users,device,on=['user_id'],how='inner')\n",
        "\n",
        "df1.head()"
      ],
      "execution_count": 47,
      "outputs": [
        {
          "output_type": "execute_result",
          "data": {
            "text/html": [
              "<div>\n",
              "<style scoped>\n",
              "    .dataframe tbody tr th:only-of-type {\n",
              "        vertical-align: middle;\n",
              "    }\n",
              "\n",
              "    .dataframe tbody tr th {\n",
              "        vertical-align: top;\n",
              "    }\n",
              "\n",
              "    .dataframe thead th {\n",
              "        text-align: right;\n",
              "    }\n",
              "</style>\n",
              "<table border=\"1\" class=\"dataframe\">\n",
              "  <thead>\n",
              "    <tr style=\"text-align: right;\">\n",
              "      <th></th>\n",
              "      <th>user_id</th>\n",
              "      <th>birth_year</th>\n",
              "      <th>country</th>\n",
              "      <th>city</th>\n",
              "      <th>user_settings_crypto_unlocked</th>\n",
              "      <th>plan</th>\n",
              "      <th>attributes_notifications_marketing_push</th>\n",
              "      <th>attributes_notifications_marketing_email</th>\n",
              "      <th>num_contacts</th>\n",
              "      <th>u_month</th>\n",
              "      <th>u_year</th>\n",
              "      <th>u_day</th>\n",
              "      <th>brand</th>\n",
              "    </tr>\n",
              "  </thead>\n",
              "  <tbody>\n",
              "    <tr>\n",
              "      <th>0</th>\n",
              "      <td>user_0</td>\n",
              "      <td>1989</td>\n",
              "      <td>PL</td>\n",
              "      <td>Gdansk</td>\n",
              "      <td>1</td>\n",
              "      <td>STANDARD</td>\n",
              "      <td>1.0</td>\n",
              "      <td>1.0</td>\n",
              "      <td>3</td>\n",
              "      <td>1</td>\n",
              "      <td>2018</td>\n",
              "      <td>13</td>\n",
              "      <td>Apple</td>\n",
              "    </tr>\n",
              "    <tr>\n",
              "      <th>1</th>\n",
              "      <td>user_1</td>\n",
              "      <td>1975</td>\n",
              "      <td>GB</td>\n",
              "      <td>London</td>\n",
              "      <td>0</td>\n",
              "      <td>STANDARD</td>\n",
              "      <td>2.0</td>\n",
              "      <td>2.0</td>\n",
              "      <td>21</td>\n",
              "      <td>1</td>\n",
              "      <td>2018</td>\n",
              "      <td>29</td>\n",
              "      <td>Apple</td>\n",
              "    </tr>\n",
              "    <tr>\n",
              "      <th>2</th>\n",
              "      <td>user_2</td>\n",
              "      <td>1987</td>\n",
              "      <td>PL</td>\n",
              "      <td>Poznań</td>\n",
              "      <td>0</td>\n",
              "      <td>STANDARD</td>\n",
              "      <td>0.0</td>\n",
              "      <td>0.0</td>\n",
              "      <td>21</td>\n",
              "      <td>1</td>\n",
              "      <td>2018</td>\n",
              "      <td>18</td>\n",
              "      <td>Android</td>\n",
              "    </tr>\n",
              "    <tr>\n",
              "      <th>3</th>\n",
              "      <td>user_3</td>\n",
              "      <td>1994</td>\n",
              "      <td>FR</td>\n",
              "      <td>Paris</td>\n",
              "      <td>0</td>\n",
              "      <td>STANDARD</td>\n",
              "      <td>1.0</td>\n",
              "      <td>0.0</td>\n",
              "      <td>0</td>\n",
              "      <td>1</td>\n",
              "      <td>2018</td>\n",
              "      <td>15</td>\n",
              "      <td>Apple</td>\n",
              "    </tr>\n",
              "    <tr>\n",
              "      <th>4</th>\n",
              "      <td>user_4</td>\n",
              "      <td>1985</td>\n",
              "      <td>GB</td>\n",
              "      <td>Beckenham</td>\n",
              "      <td>0</td>\n",
              "      <td>STANDARD</td>\n",
              "      <td>2.0</td>\n",
              "      <td>2.0</td>\n",
              "      <td>2</td>\n",
              "      <td>1</td>\n",
              "      <td>2018</td>\n",
              "      <td>11</td>\n",
              "      <td>Apple</td>\n",
              "    </tr>\n",
              "  </tbody>\n",
              "</table>\n",
              "</div>"
            ],
            "text/plain": [
              "  user_id  birth_year country       city  ...  u_month u_year  u_day    brand\n",
              "0  user_0        1989      PL     Gdansk  ...        1   2018     13    Apple\n",
              "1  user_1        1975      GB     London  ...        1   2018     29    Apple\n",
              "2  user_2        1987      PL     Poznań  ...        1   2018     18  Android\n",
              "3  user_3        1994      FR      Paris  ...        1   2018     15    Apple\n",
              "4  user_4        1985      GB  Beckenham  ...        1   2018     11    Apple\n",
              "\n",
              "[5 rows x 13 columns]"
            ]
          },
          "metadata": {
            "tags": []
          },
          "execution_count": 47
        }
      ]
    },
    {
      "cell_type": "code",
      "metadata": {
        "id": "TvtC6oGPXu7Z",
        "colab_type": "code",
        "outputId": "4293ac26-fd4c-4938-9acc-23e3a253a594",
        "colab": {
          "base_uri": "https://localhost:8080/",
          "height": 255
        }
      },
      "source": [
        "df1.isna().sum()"
      ],
      "execution_count": 48,
      "outputs": [
        {
          "output_type": "execute_result",
          "data": {
            "text/plain": [
              "user_id                                     0\n",
              "birth_year                                  0\n",
              "country                                     0\n",
              "city                                        0\n",
              "user_settings_crypto_unlocked               0\n",
              "plan                                        0\n",
              "attributes_notifications_marketing_push     0\n",
              "attributes_notifications_marketing_email    0\n",
              "num_contacts                                0\n",
              "u_month                                     0\n",
              "u_year                                      0\n",
              "u_day                                       0\n",
              "brand                                       0\n",
              "dtype: int64"
            ]
          },
          "metadata": {
            "tags": []
          },
          "execution_count": 48
        }
      ]
    },
    {
      "cell_type": "code",
      "metadata": {
        "id": "7ZJ8BjiTXu_-",
        "colab_type": "code",
        "outputId": "9bdea276-2a23-4429-b8cb-0bea8716c2fa",
        "colab": {
          "base_uri": "https://localhost:8080/",
          "height": 224
        }
      },
      "source": [
        "df2 = pd.merge(transaction,df1,on=['user_id'],how='left')\n",
        "\n",
        "df2.head()"
      ],
      "execution_count": 49,
      "outputs": [
        {
          "output_type": "execute_result",
          "data": {
            "text/html": [
              "<div>\n",
              "<style scoped>\n",
              "    .dataframe tbody tr th:only-of-type {\n",
              "        vertical-align: middle;\n",
              "    }\n",
              "\n",
              "    .dataframe tbody tr th {\n",
              "        vertical-align: top;\n",
              "    }\n",
              "\n",
              "    .dataframe thead th {\n",
              "        text-align: right;\n",
              "    }\n",
              "</style>\n",
              "<table border=\"1\" class=\"dataframe\">\n",
              "  <thead>\n",
              "    <tr style=\"text-align: right;\">\n",
              "      <th></th>\n",
              "      <th>transaction_id</th>\n",
              "      <th>transactions_type</th>\n",
              "      <th>transactions_currency</th>\n",
              "      <th>amount_usd</th>\n",
              "      <th>transactions_state</th>\n",
              "      <th>direction</th>\n",
              "      <th>user_id</th>\n",
              "      <th>t_month</th>\n",
              "      <th>t_year</th>\n",
              "      <th>t_day</th>\n",
              "      <th>birth_year</th>\n",
              "      <th>country</th>\n",
              "      <th>city</th>\n",
              "      <th>user_settings_crypto_unlocked</th>\n",
              "      <th>plan</th>\n",
              "      <th>attributes_notifications_marketing_push</th>\n",
              "      <th>attributes_notifications_marketing_email</th>\n",
              "      <th>num_contacts</th>\n",
              "      <th>u_month</th>\n",
              "      <th>u_year</th>\n",
              "      <th>u_day</th>\n",
              "      <th>brand</th>\n",
              "    </tr>\n",
              "  </thead>\n",
              "  <tbody>\n",
              "    <tr>\n",
              "      <th>0</th>\n",
              "      <td>transaction_0</td>\n",
              "      <td>TRANSFER</td>\n",
              "      <td>AED</td>\n",
              "      <td>4.55</td>\n",
              "      <td>COMPLETED</td>\n",
              "      <td>OUTBOUND</td>\n",
              "      <td>user_898</td>\n",
              "      <td>4</td>\n",
              "      <td>2018</td>\n",
              "      <td>3</td>\n",
              "      <td>1993</td>\n",
              "      <td>GB</td>\n",
              "      <td>Belfast</td>\n",
              "      <td>0</td>\n",
              "      <td>STANDARD</td>\n",
              "      <td>1.0</td>\n",
              "      <td>1.0</td>\n",
              "      <td>1</td>\n",
              "      <td>1</td>\n",
              "      <td>2018</td>\n",
              "      <td>11</td>\n",
              "      <td>Android</td>\n",
              "    </tr>\n",
              "    <tr>\n",
              "      <th>1</th>\n",
              "      <td>transaction_1</td>\n",
              "      <td>CARD_PAYMENT</td>\n",
              "      <td>AED</td>\n",
              "      <td>15.50</td>\n",
              "      <td>COMPLETED</td>\n",
              "      <td>OUTBOUND</td>\n",
              "      <td>user_1652</td>\n",
              "      <td>3</td>\n",
              "      <td>2019</td>\n",
              "      <td>19</td>\n",
              "      <td>1971</td>\n",
              "      <td>ES</td>\n",
              "      <td>Espartinas</td>\n",
              "      <td>1</td>\n",
              "      <td>PREMIUM_OFFER</td>\n",
              "      <td>1.0</td>\n",
              "      <td>1.0</td>\n",
              "      <td>13</td>\n",
              "      <td>3</td>\n",
              "      <td>2018</td>\n",
              "      <td>1</td>\n",
              "      <td>Apple</td>\n",
              "    </tr>\n",
              "    <tr>\n",
              "      <th>2</th>\n",
              "      <td>transaction_2</td>\n",
              "      <td>CARD_PAYMENT</td>\n",
              "      <td>AED</td>\n",
              "      <td>43.40</td>\n",
              "      <td>COMPLETED</td>\n",
              "      <td>OUTBOUND</td>\n",
              "      <td>user_1652</td>\n",
              "      <td>3</td>\n",
              "      <td>2019</td>\n",
              "      <td>18</td>\n",
              "      <td>1971</td>\n",
              "      <td>ES</td>\n",
              "      <td>Espartinas</td>\n",
              "      <td>1</td>\n",
              "      <td>PREMIUM_OFFER</td>\n",
              "      <td>1.0</td>\n",
              "      <td>1.0</td>\n",
              "      <td>13</td>\n",
              "      <td>3</td>\n",
              "      <td>2018</td>\n",
              "      <td>1</td>\n",
              "      <td>Apple</td>\n",
              "    </tr>\n",
              "    <tr>\n",
              "      <th>3</th>\n",
              "      <td>transaction_3</td>\n",
              "      <td>TRANSFER</td>\n",
              "      <td>AED</td>\n",
              "      <td>10043.01</td>\n",
              "      <td>COMPLETED</td>\n",
              "      <td>OUTBOUND</td>\n",
              "      <td>user_1652</td>\n",
              "      <td>3</td>\n",
              "      <td>2019</td>\n",
              "      <td>22</td>\n",
              "      <td>1971</td>\n",
              "      <td>ES</td>\n",
              "      <td>Espartinas</td>\n",
              "      <td>1</td>\n",
              "      <td>PREMIUM_OFFER</td>\n",
              "      <td>1.0</td>\n",
              "      <td>1.0</td>\n",
              "      <td>13</td>\n",
              "      <td>3</td>\n",
              "      <td>2018</td>\n",
              "      <td>1</td>\n",
              "      <td>Apple</td>\n",
              "    </tr>\n",
              "    <tr>\n",
              "      <th>4</th>\n",
              "      <td>transaction_4</td>\n",
              "      <td>CARD_PAYMENT</td>\n",
              "      <td>AED</td>\n",
              "      <td>43.81</td>\n",
              "      <td>COMPLETED</td>\n",
              "      <td>OUTBOUND</td>\n",
              "      <td>user_5509</td>\n",
              "      <td>3</td>\n",
              "      <td>2019</td>\n",
              "      <td>22</td>\n",
              "      <td>1992</td>\n",
              "      <td>PL</td>\n",
              "      <td>Siedlce</td>\n",
              "      <td>0</td>\n",
              "      <td>STANDARD</td>\n",
              "      <td>1.0</td>\n",
              "      <td>1.0</td>\n",
              "      <td>0</td>\n",
              "      <td>5</td>\n",
              "      <td>2018</td>\n",
              "      <td>18</td>\n",
              "      <td>Android</td>\n",
              "    </tr>\n",
              "  </tbody>\n",
              "</table>\n",
              "</div>"
            ],
            "text/plain": [
              "  transaction_id transactions_type  ... u_day    brand\n",
              "0  transaction_0          TRANSFER  ...    11  Android\n",
              "1  transaction_1      CARD_PAYMENT  ...     1    Apple\n",
              "2  transaction_2      CARD_PAYMENT  ...     1    Apple\n",
              "3  transaction_3          TRANSFER  ...     1    Apple\n",
              "4  transaction_4      CARD_PAYMENT  ...    18  Android\n",
              "\n",
              "[5 rows x 22 columns]"
            ]
          },
          "metadata": {
            "tags": []
          },
          "execution_count": 49
        }
      ]
    },
    {
      "cell_type": "code",
      "metadata": {
        "id": "yVzmUY_kXvEi",
        "colab_type": "code",
        "outputId": "bb1bb983-6f99-4e5d-9312-aebd04df6369",
        "colab": {
          "base_uri": "https://localhost:8080/",
          "height": 408
        }
      },
      "source": [
        "df2.isna().sum()"
      ],
      "execution_count": 50,
      "outputs": [
        {
          "output_type": "execute_result",
          "data": {
            "text/plain": [
              "transaction_id                              0\n",
              "transactions_type                           0\n",
              "transactions_currency                       0\n",
              "amount_usd                                  0\n",
              "transactions_state                          0\n",
              "direction                                   0\n",
              "user_id                                     0\n",
              "t_month                                     0\n",
              "t_year                                      0\n",
              "t_day                                       0\n",
              "birth_year                                  0\n",
              "country                                     0\n",
              "city                                        0\n",
              "user_settings_crypto_unlocked               0\n",
              "plan                                        0\n",
              "attributes_notifications_marketing_push     0\n",
              "attributes_notifications_marketing_email    0\n",
              "num_contacts                                0\n",
              "u_month                                     0\n",
              "u_year                                      0\n",
              "u_day                                       0\n",
              "brand                                       0\n",
              "dtype: int64"
            ]
          },
          "metadata": {
            "tags": []
          },
          "execution_count": 50
        }
      ]
    },
    {
      "cell_type": "code",
      "metadata": {
        "id": "cv9lns8QXvIF",
        "colab_type": "code",
        "outputId": "eb86668f-bc15-4126-c139-e07f28dfa6fa",
        "colab": {
          "base_uri": "https://localhost:8080/",
          "height": 359
        }
      },
      "source": [
        "# We can see here for one user we have lot of records for the notifications sent\n",
        "\n",
        "notification[notification['user_id']=='user_7086']"
      ],
      "execution_count": 51,
      "outputs": [
        {
          "output_type": "execute_result",
          "data": {
            "text/html": [
              "<div>\n",
              "<style scoped>\n",
              "    .dataframe tbody tr th:only-of-type {\n",
              "        vertical-align: middle;\n",
              "    }\n",
              "\n",
              "    .dataframe tbody tr th {\n",
              "        vertical-align: top;\n",
              "    }\n",
              "\n",
              "    .dataframe thead th {\n",
              "        text-align: right;\n",
              "    }\n",
              "</style>\n",
              "<table border=\"1\" class=\"dataframe\">\n",
              "  <thead>\n",
              "    <tr style=\"text-align: right;\">\n",
              "      <th></th>\n",
              "      <th>reason</th>\n",
              "      <th>channel</th>\n",
              "      <th>status</th>\n",
              "      <th>user_id</th>\n",
              "      <th>n_month</th>\n",
              "      <th>n_year</th>\n",
              "      <th>n_day</th>\n",
              "    </tr>\n",
              "  </thead>\n",
              "  <tbody>\n",
              "    <tr>\n",
              "      <th>0</th>\n",
              "      <td>REENGAGEMENT_ACTIVE_FUNDS</td>\n",
              "      <td>PUSH</td>\n",
              "      <td>SENT</td>\n",
              "      <td>user_7086</td>\n",
              "      <td>12</td>\n",
              "      <td>2018</td>\n",
              "      <td>2</td>\n",
              "    </tr>\n",
              "    <tr>\n",
              "      <th>3121</th>\n",
              "      <td>REENGAGEMENT_ACTIVE_FUNDS</td>\n",
              "      <td>PUSH</td>\n",
              "      <td>SENT</td>\n",
              "      <td>user_7086</td>\n",
              "      <td>12</td>\n",
              "      <td>2018</td>\n",
              "      <td>27</td>\n",
              "    </tr>\n",
              "    <tr>\n",
              "      <th>7077</th>\n",
              "      <td>REENGAGEMENT_ACTIVE_FUNDS</td>\n",
              "      <td>PUSH</td>\n",
              "      <td>SENT</td>\n",
              "      <td>user_7086</td>\n",
              "      <td>12</td>\n",
              "      <td>2018</td>\n",
              "      <td>21</td>\n",
              "    </tr>\n",
              "    <tr>\n",
              "      <th>18761</th>\n",
              "      <td>REENGAGEMENT_ACTIVE_FUNDS</td>\n",
              "      <td>PUSH</td>\n",
              "      <td>SENT</td>\n",
              "      <td>user_7086</td>\n",
              "      <td>1</td>\n",
              "      <td>2019</td>\n",
              "      <td>23</td>\n",
              "    </tr>\n",
              "    <tr>\n",
              "      <th>20151</th>\n",
              "      <td>REENGAGEMENT_ACTIVE_FUNDS</td>\n",
              "      <td>PUSH</td>\n",
              "      <td>SENT</td>\n",
              "      <td>user_7086</td>\n",
              "      <td>1</td>\n",
              "      <td>2019</td>\n",
              "      <td>11</td>\n",
              "    </tr>\n",
              "    <tr>\n",
              "      <th>21265</th>\n",
              "      <td>FIFTH_PAYMENT_PROMO</td>\n",
              "      <td>EMAIL</td>\n",
              "      <td>FAILED</td>\n",
              "      <td>user_7086</td>\n",
              "      <td>1</td>\n",
              "      <td>2019</td>\n",
              "      <td>17</td>\n",
              "    </tr>\n",
              "    <tr>\n",
              "      <th>28851</th>\n",
              "      <td>REENGAGEMENT_ACTIVE_FUNDS</td>\n",
              "      <td>PUSH</td>\n",
              "      <td>SENT</td>\n",
              "      <td>user_7086</td>\n",
              "      <td>11</td>\n",
              "      <td>2018</td>\n",
              "      <td>17</td>\n",
              "    </tr>\n",
              "    <tr>\n",
              "      <th>33362</th>\n",
              "      <td>FIFTH_PAYMENT_PROMO</td>\n",
              "      <td>PUSH</td>\n",
              "      <td>FAILED</td>\n",
              "      <td>user_7086</td>\n",
              "      <td>1</td>\n",
              "      <td>2019</td>\n",
              "      <td>17</td>\n",
              "    </tr>\n",
              "    <tr>\n",
              "      <th>55479</th>\n",
              "      <td>FIFTH_PAYMENT_PROMO</td>\n",
              "      <td>PUSH</td>\n",
              "      <td>SENT</td>\n",
              "      <td>user_7086</td>\n",
              "      <td>1</td>\n",
              "      <td>2019</td>\n",
              "      <td>17</td>\n",
              "    </tr>\n",
              "    <tr>\n",
              "      <th>59546</th>\n",
              "      <td>FIFTH_PAYMENT_PROMO</td>\n",
              "      <td>EMAIL</td>\n",
              "      <td>SENT</td>\n",
              "      <td>user_7086</td>\n",
              "      <td>1</td>\n",
              "      <td>2019</td>\n",
              "      <td>17</td>\n",
              "    </tr>\n",
              "  </tbody>\n",
              "</table>\n",
              "</div>"
            ],
            "text/plain": [
              "                          reason channel  status  ... n_month  n_year  n_day\n",
              "0      REENGAGEMENT_ACTIVE_FUNDS    PUSH    SENT  ...      12    2018      2\n",
              "3121   REENGAGEMENT_ACTIVE_FUNDS    PUSH    SENT  ...      12    2018     27\n",
              "7077   REENGAGEMENT_ACTIVE_FUNDS    PUSH    SENT  ...      12    2018     21\n",
              "18761  REENGAGEMENT_ACTIVE_FUNDS    PUSH    SENT  ...       1    2019     23\n",
              "20151  REENGAGEMENT_ACTIVE_FUNDS    PUSH    SENT  ...       1    2019     11\n",
              "21265        FIFTH_PAYMENT_PROMO   EMAIL  FAILED  ...       1    2019     17\n",
              "28851  REENGAGEMENT_ACTIVE_FUNDS    PUSH    SENT  ...      11    2018     17\n",
              "33362        FIFTH_PAYMENT_PROMO    PUSH  FAILED  ...       1    2019     17\n",
              "55479        FIFTH_PAYMENT_PROMO    PUSH    SENT  ...       1    2019     17\n",
              "59546        FIFTH_PAYMENT_PROMO   EMAIL    SENT  ...       1    2019     17\n",
              "\n",
              "[10 rows x 7 columns]"
            ]
          },
          "metadata": {
            "tags": []
          },
          "execution_count": 51
        }
      ]
    },
    {
      "cell_type": "code",
      "metadata": {
        "id": "dYNwVDbPXwCr",
        "colab_type": "code",
        "outputId": "49f1371b-d63f-4f2c-e831-38fed3ff8927",
        "colab": {
          "base_uri": "https://localhost:8080/",
          "height": 224
        }
      },
      "source": [
        "df3 = pd.merge(df2,notification,on='user_id',how='inner')\n",
        "\n",
        "df3.head()"
      ],
      "execution_count": 52,
      "outputs": [
        {
          "output_type": "execute_result",
          "data": {
            "text/html": [
              "<div>\n",
              "<style scoped>\n",
              "    .dataframe tbody tr th:only-of-type {\n",
              "        vertical-align: middle;\n",
              "    }\n",
              "\n",
              "    .dataframe tbody tr th {\n",
              "        vertical-align: top;\n",
              "    }\n",
              "\n",
              "    .dataframe thead th {\n",
              "        text-align: right;\n",
              "    }\n",
              "</style>\n",
              "<table border=\"1\" class=\"dataframe\">\n",
              "  <thead>\n",
              "    <tr style=\"text-align: right;\">\n",
              "      <th></th>\n",
              "      <th>transaction_id</th>\n",
              "      <th>transactions_type</th>\n",
              "      <th>transactions_currency</th>\n",
              "      <th>amount_usd</th>\n",
              "      <th>transactions_state</th>\n",
              "      <th>direction</th>\n",
              "      <th>user_id</th>\n",
              "      <th>t_month</th>\n",
              "      <th>t_year</th>\n",
              "      <th>t_day</th>\n",
              "      <th>birth_year</th>\n",
              "      <th>country</th>\n",
              "      <th>city</th>\n",
              "      <th>user_settings_crypto_unlocked</th>\n",
              "      <th>plan</th>\n",
              "      <th>attributes_notifications_marketing_push</th>\n",
              "      <th>attributes_notifications_marketing_email</th>\n",
              "      <th>num_contacts</th>\n",
              "      <th>u_month</th>\n",
              "      <th>u_year</th>\n",
              "      <th>u_day</th>\n",
              "      <th>brand</th>\n",
              "      <th>reason</th>\n",
              "      <th>channel</th>\n",
              "      <th>status</th>\n",
              "      <th>n_month</th>\n",
              "      <th>n_year</th>\n",
              "      <th>n_day</th>\n",
              "    </tr>\n",
              "  </thead>\n",
              "  <tbody>\n",
              "    <tr>\n",
              "      <th>0</th>\n",
              "      <td>transaction_0</td>\n",
              "      <td>TRANSFER</td>\n",
              "      <td>AED</td>\n",
              "      <td>4.55</td>\n",
              "      <td>COMPLETED</td>\n",
              "      <td>OUTBOUND</td>\n",
              "      <td>user_898</td>\n",
              "      <td>4</td>\n",
              "      <td>2018</td>\n",
              "      <td>3</td>\n",
              "      <td>1993</td>\n",
              "      <td>GB</td>\n",
              "      <td>Belfast</td>\n",
              "      <td>0</td>\n",
              "      <td>STANDARD</td>\n",
              "      <td>1.0</td>\n",
              "      <td>1.0</td>\n",
              "      <td>1</td>\n",
              "      <td>1</td>\n",
              "      <td>2018</td>\n",
              "      <td>11</td>\n",
              "      <td>Android</td>\n",
              "      <td>REENGAGEMENT_ACTIVE_FUNDS</td>\n",
              "      <td>PUSH</td>\n",
              "      <td>SENT</td>\n",
              "      <td>11</td>\n",
              "      <td>2018</td>\n",
              "      <td>28</td>\n",
              "    </tr>\n",
              "    <tr>\n",
              "      <th>1</th>\n",
              "      <td>transaction_0</td>\n",
              "      <td>TRANSFER</td>\n",
              "      <td>AED</td>\n",
              "      <td>4.55</td>\n",
              "      <td>COMPLETED</td>\n",
              "      <td>OUTBOUND</td>\n",
              "      <td>user_898</td>\n",
              "      <td>4</td>\n",
              "      <td>2018</td>\n",
              "      <td>3</td>\n",
              "      <td>1993</td>\n",
              "      <td>GB</td>\n",
              "      <td>Belfast</td>\n",
              "      <td>0</td>\n",
              "      <td>STANDARD</td>\n",
              "      <td>1.0</td>\n",
              "      <td>1.0</td>\n",
              "      <td>1</td>\n",
              "      <td>1</td>\n",
              "      <td>2018</td>\n",
              "      <td>11</td>\n",
              "      <td>Android</td>\n",
              "      <td>METAL_GAME_START</td>\n",
              "      <td>EMAIL</td>\n",
              "      <td>FAILED</td>\n",
              "      <td>2</td>\n",
              "      <td>2019</td>\n",
              "      <td>24</td>\n",
              "    </tr>\n",
              "    <tr>\n",
              "      <th>2</th>\n",
              "      <td>transaction_378</td>\n",
              "      <td>TRANSFER</td>\n",
              "      <td>AED</td>\n",
              "      <td>14.47</td>\n",
              "      <td>COMPLETED</td>\n",
              "      <td>OUTBOUND</td>\n",
              "      <td>user_898</td>\n",
              "      <td>4</td>\n",
              "      <td>2018</td>\n",
              "      <td>8</td>\n",
              "      <td>1993</td>\n",
              "      <td>GB</td>\n",
              "      <td>Belfast</td>\n",
              "      <td>0</td>\n",
              "      <td>STANDARD</td>\n",
              "      <td>1.0</td>\n",
              "      <td>1.0</td>\n",
              "      <td>1</td>\n",
              "      <td>1</td>\n",
              "      <td>2018</td>\n",
              "      <td>11</td>\n",
              "      <td>Android</td>\n",
              "      <td>REENGAGEMENT_ACTIVE_FUNDS</td>\n",
              "      <td>PUSH</td>\n",
              "      <td>SENT</td>\n",
              "      <td>11</td>\n",
              "      <td>2018</td>\n",
              "      <td>28</td>\n",
              "    </tr>\n",
              "    <tr>\n",
              "      <th>3</th>\n",
              "      <td>transaction_378</td>\n",
              "      <td>TRANSFER</td>\n",
              "      <td>AED</td>\n",
              "      <td>14.47</td>\n",
              "      <td>COMPLETED</td>\n",
              "      <td>OUTBOUND</td>\n",
              "      <td>user_898</td>\n",
              "      <td>4</td>\n",
              "      <td>2018</td>\n",
              "      <td>8</td>\n",
              "      <td>1993</td>\n",
              "      <td>GB</td>\n",
              "      <td>Belfast</td>\n",
              "      <td>0</td>\n",
              "      <td>STANDARD</td>\n",
              "      <td>1.0</td>\n",
              "      <td>1.0</td>\n",
              "      <td>1</td>\n",
              "      <td>1</td>\n",
              "      <td>2018</td>\n",
              "      <td>11</td>\n",
              "      <td>Android</td>\n",
              "      <td>METAL_GAME_START</td>\n",
              "      <td>EMAIL</td>\n",
              "      <td>FAILED</td>\n",
              "      <td>2</td>\n",
              "      <td>2019</td>\n",
              "      <td>24</td>\n",
              "    </tr>\n",
              "    <tr>\n",
              "      <th>4</th>\n",
              "      <td>transaction_379</td>\n",
              "      <td>ATM</td>\n",
              "      <td>AED</td>\n",
              "      <td>41.33</td>\n",
              "      <td>COMPLETED</td>\n",
              "      <td>OUTBOUND</td>\n",
              "      <td>user_898</td>\n",
              "      <td>4</td>\n",
              "      <td>2018</td>\n",
              "      <td>7</td>\n",
              "      <td>1993</td>\n",
              "      <td>GB</td>\n",
              "      <td>Belfast</td>\n",
              "      <td>0</td>\n",
              "      <td>STANDARD</td>\n",
              "      <td>1.0</td>\n",
              "      <td>1.0</td>\n",
              "      <td>1</td>\n",
              "      <td>1</td>\n",
              "      <td>2018</td>\n",
              "      <td>11</td>\n",
              "      <td>Android</td>\n",
              "      <td>REENGAGEMENT_ACTIVE_FUNDS</td>\n",
              "      <td>PUSH</td>\n",
              "      <td>SENT</td>\n",
              "      <td>11</td>\n",
              "      <td>2018</td>\n",
              "      <td>28</td>\n",
              "    </tr>\n",
              "  </tbody>\n",
              "</table>\n",
              "</div>"
            ],
            "text/plain": [
              "    transaction_id transactions_type  ... n_year  n_day\n",
              "0    transaction_0          TRANSFER  ...   2018     28\n",
              "1    transaction_0          TRANSFER  ...   2019     24\n",
              "2  transaction_378          TRANSFER  ...   2018     28\n",
              "3  transaction_378          TRANSFER  ...   2019     24\n",
              "4  transaction_379               ATM  ...   2018     28\n",
              "\n",
              "[5 rows x 28 columns]"
            ]
          },
          "metadata": {
            "tags": []
          },
          "execution_count": 52
        }
      ]
    },
    {
      "cell_type": "code",
      "metadata": {
        "id": "PYq4q4BaXv5T",
        "colab_type": "code",
        "outputId": "1a1e7c68-07ad-4d57-9acb-0871ebb8e387",
        "colab": {
          "base_uri": "https://localhost:8080/",
          "height": 34
        }
      },
      "source": [
        "df3.shape"
      ],
      "execution_count": 53,
      "outputs": [
        {
          "output_type": "execute_result",
          "data": {
            "text/plain": [
              "(17984549, 28)"
            ]
          },
          "metadata": {
            "tags": []
          },
          "execution_count": 53
        }
      ]
    },
    {
      "cell_type": "code",
      "metadata": {
        "id": "ohvq4M62Xv2_",
        "colab_type": "code",
        "colab": {}
      },
      "source": [
        "# df3.isna().sum()"
      ],
      "execution_count": 0,
      "outputs": []
    },
    {
      "cell_type": "code",
      "metadata": {
        "id": "n4u7yRgwXv0p",
        "colab_type": "code",
        "colab": {}
      },
      "source": [
        "# df3[df3['user_id']=='user_898']"
      ],
      "execution_count": 0,
      "outputs": []
    },
    {
      "cell_type": "code",
      "metadata": {
        "id": "5XBvqM7RXvyj",
        "colab_type": "code",
        "colab": {}
      },
      "source": [
        "#\n",
        "df_main = df3"
      ],
      "execution_count": 0,
      "outputs": []
    },
    {
      "cell_type": "code",
      "metadata": {
        "id": "9FnwvfPVgJ7c",
        "colab_type": "code",
        "outputId": "963d0228-5bcd-40da-a65e-fa96cff6da38",
        "colab": {
          "base_uri": "https://localhost:8080/",
          "height": 224
        }
      },
      "source": [
        "df_main.head()"
      ],
      "execution_count": 57,
      "outputs": [
        {
          "output_type": "execute_result",
          "data": {
            "text/html": [
              "<div>\n",
              "<style scoped>\n",
              "    .dataframe tbody tr th:only-of-type {\n",
              "        vertical-align: middle;\n",
              "    }\n",
              "\n",
              "    .dataframe tbody tr th {\n",
              "        vertical-align: top;\n",
              "    }\n",
              "\n",
              "    .dataframe thead th {\n",
              "        text-align: right;\n",
              "    }\n",
              "</style>\n",
              "<table border=\"1\" class=\"dataframe\">\n",
              "  <thead>\n",
              "    <tr style=\"text-align: right;\">\n",
              "      <th></th>\n",
              "      <th>transaction_id</th>\n",
              "      <th>transactions_type</th>\n",
              "      <th>transactions_currency</th>\n",
              "      <th>amount_usd</th>\n",
              "      <th>transactions_state</th>\n",
              "      <th>direction</th>\n",
              "      <th>user_id</th>\n",
              "      <th>t_month</th>\n",
              "      <th>t_year</th>\n",
              "      <th>t_day</th>\n",
              "      <th>birth_year</th>\n",
              "      <th>country</th>\n",
              "      <th>city</th>\n",
              "      <th>user_settings_crypto_unlocked</th>\n",
              "      <th>plan</th>\n",
              "      <th>attributes_notifications_marketing_push</th>\n",
              "      <th>attributes_notifications_marketing_email</th>\n",
              "      <th>num_contacts</th>\n",
              "      <th>u_month</th>\n",
              "      <th>u_year</th>\n",
              "      <th>u_day</th>\n",
              "      <th>brand</th>\n",
              "      <th>reason</th>\n",
              "      <th>channel</th>\n",
              "      <th>status</th>\n",
              "      <th>n_month</th>\n",
              "      <th>n_year</th>\n",
              "      <th>n_day</th>\n",
              "    </tr>\n",
              "  </thead>\n",
              "  <tbody>\n",
              "    <tr>\n",
              "      <th>0</th>\n",
              "      <td>transaction_0</td>\n",
              "      <td>TRANSFER</td>\n",
              "      <td>AED</td>\n",
              "      <td>4.55</td>\n",
              "      <td>COMPLETED</td>\n",
              "      <td>OUTBOUND</td>\n",
              "      <td>user_898</td>\n",
              "      <td>4</td>\n",
              "      <td>2018</td>\n",
              "      <td>3</td>\n",
              "      <td>1993</td>\n",
              "      <td>GB</td>\n",
              "      <td>Belfast</td>\n",
              "      <td>0</td>\n",
              "      <td>STANDARD</td>\n",
              "      <td>1.0</td>\n",
              "      <td>1.0</td>\n",
              "      <td>1</td>\n",
              "      <td>1</td>\n",
              "      <td>2018</td>\n",
              "      <td>11</td>\n",
              "      <td>Android</td>\n",
              "      <td>REENGAGEMENT_ACTIVE_FUNDS</td>\n",
              "      <td>PUSH</td>\n",
              "      <td>SENT</td>\n",
              "      <td>11</td>\n",
              "      <td>2018</td>\n",
              "      <td>28</td>\n",
              "    </tr>\n",
              "    <tr>\n",
              "      <th>1</th>\n",
              "      <td>transaction_0</td>\n",
              "      <td>TRANSFER</td>\n",
              "      <td>AED</td>\n",
              "      <td>4.55</td>\n",
              "      <td>COMPLETED</td>\n",
              "      <td>OUTBOUND</td>\n",
              "      <td>user_898</td>\n",
              "      <td>4</td>\n",
              "      <td>2018</td>\n",
              "      <td>3</td>\n",
              "      <td>1993</td>\n",
              "      <td>GB</td>\n",
              "      <td>Belfast</td>\n",
              "      <td>0</td>\n",
              "      <td>STANDARD</td>\n",
              "      <td>1.0</td>\n",
              "      <td>1.0</td>\n",
              "      <td>1</td>\n",
              "      <td>1</td>\n",
              "      <td>2018</td>\n",
              "      <td>11</td>\n",
              "      <td>Android</td>\n",
              "      <td>METAL_GAME_START</td>\n",
              "      <td>EMAIL</td>\n",
              "      <td>FAILED</td>\n",
              "      <td>2</td>\n",
              "      <td>2019</td>\n",
              "      <td>24</td>\n",
              "    </tr>\n",
              "    <tr>\n",
              "      <th>2</th>\n",
              "      <td>transaction_378</td>\n",
              "      <td>TRANSFER</td>\n",
              "      <td>AED</td>\n",
              "      <td>14.47</td>\n",
              "      <td>COMPLETED</td>\n",
              "      <td>OUTBOUND</td>\n",
              "      <td>user_898</td>\n",
              "      <td>4</td>\n",
              "      <td>2018</td>\n",
              "      <td>8</td>\n",
              "      <td>1993</td>\n",
              "      <td>GB</td>\n",
              "      <td>Belfast</td>\n",
              "      <td>0</td>\n",
              "      <td>STANDARD</td>\n",
              "      <td>1.0</td>\n",
              "      <td>1.0</td>\n",
              "      <td>1</td>\n",
              "      <td>1</td>\n",
              "      <td>2018</td>\n",
              "      <td>11</td>\n",
              "      <td>Android</td>\n",
              "      <td>REENGAGEMENT_ACTIVE_FUNDS</td>\n",
              "      <td>PUSH</td>\n",
              "      <td>SENT</td>\n",
              "      <td>11</td>\n",
              "      <td>2018</td>\n",
              "      <td>28</td>\n",
              "    </tr>\n",
              "    <tr>\n",
              "      <th>3</th>\n",
              "      <td>transaction_378</td>\n",
              "      <td>TRANSFER</td>\n",
              "      <td>AED</td>\n",
              "      <td>14.47</td>\n",
              "      <td>COMPLETED</td>\n",
              "      <td>OUTBOUND</td>\n",
              "      <td>user_898</td>\n",
              "      <td>4</td>\n",
              "      <td>2018</td>\n",
              "      <td>8</td>\n",
              "      <td>1993</td>\n",
              "      <td>GB</td>\n",
              "      <td>Belfast</td>\n",
              "      <td>0</td>\n",
              "      <td>STANDARD</td>\n",
              "      <td>1.0</td>\n",
              "      <td>1.0</td>\n",
              "      <td>1</td>\n",
              "      <td>1</td>\n",
              "      <td>2018</td>\n",
              "      <td>11</td>\n",
              "      <td>Android</td>\n",
              "      <td>METAL_GAME_START</td>\n",
              "      <td>EMAIL</td>\n",
              "      <td>FAILED</td>\n",
              "      <td>2</td>\n",
              "      <td>2019</td>\n",
              "      <td>24</td>\n",
              "    </tr>\n",
              "    <tr>\n",
              "      <th>4</th>\n",
              "      <td>transaction_379</td>\n",
              "      <td>ATM</td>\n",
              "      <td>AED</td>\n",
              "      <td>41.33</td>\n",
              "      <td>COMPLETED</td>\n",
              "      <td>OUTBOUND</td>\n",
              "      <td>user_898</td>\n",
              "      <td>4</td>\n",
              "      <td>2018</td>\n",
              "      <td>7</td>\n",
              "      <td>1993</td>\n",
              "      <td>GB</td>\n",
              "      <td>Belfast</td>\n",
              "      <td>0</td>\n",
              "      <td>STANDARD</td>\n",
              "      <td>1.0</td>\n",
              "      <td>1.0</td>\n",
              "      <td>1</td>\n",
              "      <td>1</td>\n",
              "      <td>2018</td>\n",
              "      <td>11</td>\n",
              "      <td>Android</td>\n",
              "      <td>REENGAGEMENT_ACTIVE_FUNDS</td>\n",
              "      <td>PUSH</td>\n",
              "      <td>SENT</td>\n",
              "      <td>11</td>\n",
              "      <td>2018</td>\n",
              "      <td>28</td>\n",
              "    </tr>\n",
              "  </tbody>\n",
              "</table>\n",
              "</div>"
            ],
            "text/plain": [
              "    transaction_id transactions_type  ... n_year  n_day\n",
              "0    transaction_0          TRANSFER  ...   2018     28\n",
              "1    transaction_0          TRANSFER  ...   2019     24\n",
              "2  transaction_378          TRANSFER  ...   2018     28\n",
              "3  transaction_378          TRANSFER  ...   2019     24\n",
              "4  transaction_379               ATM  ...   2018     28\n",
              "\n",
              "[5 rows x 28 columns]"
            ]
          },
          "metadata": {
            "tags": []
          },
          "execution_count": 57
        }
      ]
    },
    {
      "cell_type": "code",
      "metadata": {
        "id": "ge7XqstngKTS",
        "colab_type": "code",
        "outputId": "7fab83f8-a280-4a31-c5d7-4c3e6849c44c",
        "colab": {
          "base_uri": "https://localhost:8080/",
          "height": 317
        }
      },
      "source": [
        "df_main.describe()"
      ],
      "execution_count": 58,
      "outputs": [
        {
          "output_type": "execute_result",
          "data": {
            "text/html": [
              "<div>\n",
              "<style scoped>\n",
              "    .dataframe tbody tr th:only-of-type {\n",
              "        vertical-align: middle;\n",
              "    }\n",
              "\n",
              "    .dataframe tbody tr th {\n",
              "        vertical-align: top;\n",
              "    }\n",
              "\n",
              "    .dataframe thead th {\n",
              "        text-align: right;\n",
              "    }\n",
              "</style>\n",
              "<table border=\"1\" class=\"dataframe\">\n",
              "  <thead>\n",
              "    <tr style=\"text-align: right;\">\n",
              "      <th></th>\n",
              "      <th>amount_usd</th>\n",
              "      <th>t_month</th>\n",
              "      <th>t_year</th>\n",
              "      <th>t_day</th>\n",
              "      <th>birth_year</th>\n",
              "      <th>user_settings_crypto_unlocked</th>\n",
              "      <th>attributes_notifications_marketing_push</th>\n",
              "      <th>attributes_notifications_marketing_email</th>\n",
              "      <th>num_contacts</th>\n",
              "      <th>u_month</th>\n",
              "      <th>u_year</th>\n",
              "      <th>u_day</th>\n",
              "      <th>n_month</th>\n",
              "      <th>n_year</th>\n",
              "      <th>n_day</th>\n",
              "    </tr>\n",
              "  </thead>\n",
              "  <tbody>\n",
              "    <tr>\n",
              "      <th>count</th>\n",
              "      <td>1.798455e+07</td>\n",
              "      <td>1.798455e+07</td>\n",
              "      <td>1.798455e+07</td>\n",
              "      <td>1.798455e+07</td>\n",
              "      <td>1.798455e+07</td>\n",
              "      <td>1.798455e+07</td>\n",
              "      <td>1.798455e+07</td>\n",
              "      <td>1.798455e+07</td>\n",
              "      <td>1.798455e+07</td>\n",
              "      <td>1.798455e+07</td>\n",
              "      <td>1.798455e+07</td>\n",
              "      <td>1.798455e+07</td>\n",
              "      <td>1.798455e+07</td>\n",
              "      <td>1.798455e+07</td>\n",
              "      <td>1.798455e+07</td>\n",
              "    </tr>\n",
              "    <tr>\n",
              "      <th>mean</th>\n",
              "      <td>1.803333e+05</td>\n",
              "      <td>5.976039e+00</td>\n",
              "      <td>2.018471e+03</td>\n",
              "      <td>1.547571e+01</td>\n",
              "      <td>1.985635e+03</td>\n",
              "      <td>3.495371e-01</td>\n",
              "      <td>1.216640e+00</td>\n",
              "      <td>1.177101e+00</td>\n",
              "      <td>2.871786e+01</td>\n",
              "      <td>5.761378e+00</td>\n",
              "      <td>2.018001e+03</td>\n",
              "      <td>1.556557e+01</td>\n",
              "      <td>5.841665e+00</td>\n",
              "      <td>2.018461e+03</td>\n",
              "      <td>1.615781e+01</td>\n",
              "    </tr>\n",
              "    <tr>\n",
              "      <th>std</th>\n",
              "      <td>9.728314e+07</td>\n",
              "      <td>3.658456e+00</td>\n",
              "      <td>4.991442e-01</td>\n",
              "      <td>8.895053e+00</td>\n",
              "      <td>9.854630e+00</td>\n",
              "      <td>4.768238e-01</td>\n",
              "      <td>5.474480e-01</td>\n",
              "      <td>5.956569e-01</td>\n",
              "      <td>6.112604e+01</td>\n",
              "      <td>3.229601e+00</td>\n",
              "      <td>3.544632e-02</td>\n",
              "      <td>8.846522e+00</td>\n",
              "      <td>4.155020e+00</td>\n",
              "      <td>4.984896e-01</td>\n",
              "      <td>8.713968e+00</td>\n",
              "    </tr>\n",
              "    <tr>\n",
              "      <th>min</th>\n",
              "      <td>0.000000e+00</td>\n",
              "      <td>1.000000e+00</td>\n",
              "      <td>2.018000e+03</td>\n",
              "      <td>1.000000e+00</td>\n",
              "      <td>1.929000e+03</td>\n",
              "      <td>0.000000e+00</td>\n",
              "      <td>0.000000e+00</td>\n",
              "      <td>0.000000e+00</td>\n",
              "      <td>0.000000e+00</td>\n",
              "      <td>1.000000e+00</td>\n",
              "      <td>2.018000e+03</td>\n",
              "      <td>1.000000e+00</td>\n",
              "      <td>1.000000e+00</td>\n",
              "      <td>2.018000e+03</td>\n",
              "      <td>1.000000e+00</td>\n",
              "    </tr>\n",
              "    <tr>\n",
              "      <th>25%</th>\n",
              "      <td>2.150000e+00</td>\n",
              "      <td>3.000000e+00</td>\n",
              "      <td>2.018000e+03</td>\n",
              "      <td>8.000000e+00</td>\n",
              "      <td>1.981000e+03</td>\n",
              "      <td>0.000000e+00</td>\n",
              "      <td>1.000000e+00</td>\n",
              "      <td>1.000000e+00</td>\n",
              "      <td>3.000000e+00</td>\n",
              "      <td>3.000000e+00</td>\n",
              "      <td>2.018000e+03</td>\n",
              "      <td>8.000000e+00</td>\n",
              "      <td>2.000000e+00</td>\n",
              "      <td>2.018000e+03</td>\n",
              "      <td>9.000000e+00</td>\n",
              "    </tr>\n",
              "    <tr>\n",
              "      <th>50%</th>\n",
              "      <td>8.510000e+00</td>\n",
              "      <td>5.000000e+00</td>\n",
              "      <td>2.018000e+03</td>\n",
              "      <td>1.500000e+01</td>\n",
              "      <td>1.988000e+03</td>\n",
              "      <td>0.000000e+00</td>\n",
              "      <td>1.000000e+00</td>\n",
              "      <td>1.000000e+00</td>\n",
              "      <td>1.300000e+01</td>\n",
              "      <td>6.000000e+00</td>\n",
              "      <td>2.018000e+03</td>\n",
              "      <td>1.600000e+01</td>\n",
              "      <td>4.000000e+00</td>\n",
              "      <td>2.018000e+03</td>\n",
              "      <td>1.700000e+01</td>\n",
              "    </tr>\n",
              "    <tr>\n",
              "      <th>75%</th>\n",
              "      <td>2.997000e+01</td>\n",
              "      <td>9.000000e+00</td>\n",
              "      <td>2.019000e+03</td>\n",
              "      <td>2.300000e+01</td>\n",
              "      <td>1.993000e+03</td>\n",
              "      <td>1.000000e+00</td>\n",
              "      <td>2.000000e+00</td>\n",
              "      <td>2.000000e+00</td>\n",
              "      <td>3.400000e+01</td>\n",
              "      <td>8.000000e+00</td>\n",
              "      <td>2.018000e+03</td>\n",
              "      <td>2.300000e+01</td>\n",
              "      <td>1.000000e+01</td>\n",
              "      <td>2.019000e+03</td>\n",
              "      <td>2.400000e+01</td>\n",
              "    </tr>\n",
              "    <tr>\n",
              "      <th>max</th>\n",
              "      <td>8.510645e+10</td>\n",
              "      <td>1.200000e+01</td>\n",
              "      <td>2.019000e+03</td>\n",
              "      <td>3.100000e+01</td>\n",
              "      <td>2.001000e+03</td>\n",
              "      <td>1.000000e+00</td>\n",
              "      <td>2.000000e+00</td>\n",
              "      <td>2.000000e+00</td>\n",
              "      <td>2.918000e+03</td>\n",
              "      <td>1.200000e+01</td>\n",
              "      <td>2.019000e+03</td>\n",
              "      <td>3.100000e+01</td>\n",
              "      <td>1.200000e+01</td>\n",
              "      <td>2.019000e+03</td>\n",
              "      <td>3.100000e+01</td>\n",
              "    </tr>\n",
              "  </tbody>\n",
              "</table>\n",
              "</div>"
            ],
            "text/plain": [
              "         amount_usd       t_month  ...        n_year         n_day\n",
              "count  1.798455e+07  1.798455e+07  ...  1.798455e+07  1.798455e+07\n",
              "mean   1.803333e+05  5.976039e+00  ...  2.018461e+03  1.615781e+01\n",
              "std    9.728314e+07  3.658456e+00  ...  4.984896e-01  8.713968e+00\n",
              "min    0.000000e+00  1.000000e+00  ...  2.018000e+03  1.000000e+00\n",
              "25%    2.150000e+00  3.000000e+00  ...  2.018000e+03  9.000000e+00\n",
              "50%    8.510000e+00  5.000000e+00  ...  2.018000e+03  1.700000e+01\n",
              "75%    2.997000e+01  9.000000e+00  ...  2.019000e+03  2.400000e+01\n",
              "max    8.510645e+10  1.200000e+01  ...  2.019000e+03  3.100000e+01\n",
              "\n",
              "[8 rows x 15 columns]"
            ]
          },
          "metadata": {
            "tags": []
          },
          "execution_count": 58
        }
      ]
    },
    {
      "cell_type": "code",
      "metadata": {
        "id": "YRgYOZp5gLCV",
        "colab_type": "code",
        "colab": {}
      },
      "source": [
        "# Changing the Datatypes of below variables to Integer as the responses are 0 or 1\n",
        "df_main['attributes_notifications_marketing_push'] = df_main['attributes_notifications_marketing_push'].astype('int64')\n",
        "df_main['attributes_notifications_marketing_email'] = df_main['attributes_notifications_marketing_email'].astype('int64')"
      ],
      "execution_count": 0,
      "outputs": []
    },
    {
      "cell_type": "code",
      "metadata": {
        "id": "KhLkygD0gK_O",
        "colab_type": "code",
        "outputId": "f6b0b283-fc15-4745-e83a-93e68c533dcf",
        "colab": {
          "base_uri": "https://localhost:8080/",
          "height": 510
        }
      },
      "source": [
        "df_main.dtypes"
      ],
      "execution_count": 60,
      "outputs": [
        {
          "output_type": "execute_result",
          "data": {
            "text/plain": [
              "transaction_id                               object\n",
              "transactions_type                            object\n",
              "transactions_currency                        object\n",
              "amount_usd                                  float64\n",
              "transactions_state                           object\n",
              "direction                                    object\n",
              "user_id                                      object\n",
              "t_month                                       int64\n",
              "t_year                                        int64\n",
              "t_day                                         int64\n",
              "birth_year                                    int64\n",
              "country                                      object\n",
              "city                                         object\n",
              "user_settings_crypto_unlocked                 int64\n",
              "plan                                         object\n",
              "attributes_notifications_marketing_push       int64\n",
              "attributes_notifications_marketing_email      int64\n",
              "num_contacts                                  int64\n",
              "u_month                                       int64\n",
              "u_year                                        int64\n",
              "u_day                                         int64\n",
              "brand                                        object\n",
              "reason                                       object\n",
              "channel                                      object\n",
              "status                                       object\n",
              "n_month                                       int64\n",
              "n_year                                        int64\n",
              "n_day                                         int64\n",
              "dtype: object"
            ]
          },
          "metadata": {
            "tags": []
          },
          "execution_count": 60
        }
      ]
    },
    {
      "cell_type": "markdown",
      "metadata": {
        "id": "H4SEfZWdgs5m",
        "colab_type": "text"
      },
      "source": [
        "# Exploratory Data Anaysis"
      ]
    },
    {
      "cell_type": "code",
      "metadata": {
        "id": "b37JyNbGgKvU",
        "colab_type": "code",
        "outputId": "562a3764-147f-46fc-e351-9e6ded1cfa4d",
        "colab": {
          "base_uri": "https://localhost:8080/",
          "height": 68
        }
      },
      "source": [
        "df_main['user_settings_crypto_unlocked'].value_counts()"
      ],
      "execution_count": 61,
      "outputs": [
        {
          "output_type": "execute_result",
          "data": {
            "text/plain": [
              "0    11698282\n",
              "1     6286267\n",
              "Name: user_settings_crypto_unlocked, dtype: int64"
            ]
          },
          "metadata": {
            "tags": []
          },
          "execution_count": 61
        }
      ]
    },
    {
      "cell_type": "code",
      "metadata": {
        "id": "dFWI6c41Xvmx",
        "colab_type": "code",
        "colab": {}
      },
      "source": [
        "# plt.rcParams['figure.figsize'] = 13,6\n",
        "# sns.countplot(x=\"transactions_type\", hue=\"direction\",data=df_main)\n",
        "# plt.show()"
      ],
      "execution_count": 0,
      "outputs": []
    },
    {
      "cell_type": "code",
      "metadata": {
        "id": "DTaoWHfQXvku",
        "colab_type": "code",
        "colab": {}
      },
      "source": [
        "# sns.countplot(x=\"transactions_type\", hue=\"transactions_state\",data=df_main)\n",
        "# plt.show()"
      ],
      "execution_count": 0,
      "outputs": []
    },
    {
      "cell_type": "code",
      "metadata": {
        "id": "peW4u9vtXvWB",
        "colab_type": "code",
        "outputId": "7477dbc2-bf9c-400b-8fed-e6d007492095",
        "colab": {
          "base_uri": "https://localhost:8080/",
          "height": 142
        }
      },
      "source": [
        "#Year Wise how many transactions \n",
        "\n",
        "pd.crosstab(df_main[\"t_year\"],df_main[\"transactions_type\"])"
      ],
      "execution_count": 64,
      "outputs": [
        {
          "output_type": "execute_result",
          "data": {
            "text/html": [
              "<div>\n",
              "<style scoped>\n",
              "    .dataframe tbody tr th:only-of-type {\n",
              "        vertical-align: middle;\n",
              "    }\n",
              "\n",
              "    .dataframe tbody tr th {\n",
              "        vertical-align: top;\n",
              "    }\n",
              "\n",
              "    .dataframe thead th {\n",
              "        text-align: right;\n",
              "    }\n",
              "</style>\n",
              "<table border=\"1\" class=\"dataframe\">\n",
              "  <thead>\n",
              "    <tr style=\"text-align: right;\">\n",
              "      <th>transactions_type</th>\n",
              "      <th>ATM</th>\n",
              "      <th>CARD_PAYMENT</th>\n",
              "      <th>CARD_REFUND</th>\n",
              "      <th>CASHBACK</th>\n",
              "      <th>EXCHANGE</th>\n",
              "      <th>FEE</th>\n",
              "      <th>REFUND</th>\n",
              "      <th>TAX</th>\n",
              "      <th>TOPUP</th>\n",
              "      <th>TRANSFER</th>\n",
              "    </tr>\n",
              "    <tr>\n",
              "      <th>t_year</th>\n",
              "      <th></th>\n",
              "      <th></th>\n",
              "      <th></th>\n",
              "      <th></th>\n",
              "      <th></th>\n",
              "      <th></th>\n",
              "      <th></th>\n",
              "      <th></th>\n",
              "      <th></th>\n",
              "      <th></th>\n",
              "    </tr>\n",
              "  </thead>\n",
              "  <tbody>\n",
              "    <tr>\n",
              "      <th>2018</th>\n",
              "      <td>371755</td>\n",
              "      <td>5167305</td>\n",
              "      <td>38622</td>\n",
              "      <td>125405</td>\n",
              "      <td>629607</td>\n",
              "      <td>119025</td>\n",
              "      <td>7527</td>\n",
              "      <td>8710</td>\n",
              "      <td>1525198</td>\n",
              "      <td>1525022</td>\n",
              "    </tr>\n",
              "    <tr>\n",
              "      <th>2019</th>\n",
              "      <td>254096</td>\n",
              "      <td>4436018</td>\n",
              "      <td>38546</td>\n",
              "      <td>382575</td>\n",
              "      <td>443812</td>\n",
              "      <td>50707</td>\n",
              "      <td>2896</td>\n",
              "      <td>8556</td>\n",
              "      <td>1010927</td>\n",
              "      <td>1838240</td>\n",
              "    </tr>\n",
              "  </tbody>\n",
              "</table>\n",
              "</div>"
            ],
            "text/plain": [
              "transactions_type     ATM  CARD_PAYMENT  CARD_REFUND  ...   TAX    TOPUP  TRANSFER\n",
              "t_year                                                ...                         \n",
              "2018               371755       5167305        38622  ...  8710  1525198   1525022\n",
              "2019               254096       4436018        38546  ...  8556  1010927   1838240\n",
              "\n",
              "[2 rows x 10 columns]"
            ]
          },
          "metadata": {
            "tags": []
          },
          "execution_count": 64
        }
      ]
    },
    {
      "cell_type": "code",
      "metadata": {
        "id": "_Csbpkr8XvT3",
        "colab_type": "code",
        "outputId": "6a87398c-4321-41e4-b389-4615e4f58c4b",
        "colab": {
          "base_uri": "https://localhost:8080/",
          "height": 224
        }
      },
      "source": [
        "df_main.head()"
      ],
      "execution_count": 65,
      "outputs": [
        {
          "output_type": "execute_result",
          "data": {
            "text/html": [
              "<div>\n",
              "<style scoped>\n",
              "    .dataframe tbody tr th:only-of-type {\n",
              "        vertical-align: middle;\n",
              "    }\n",
              "\n",
              "    .dataframe tbody tr th {\n",
              "        vertical-align: top;\n",
              "    }\n",
              "\n",
              "    .dataframe thead th {\n",
              "        text-align: right;\n",
              "    }\n",
              "</style>\n",
              "<table border=\"1\" class=\"dataframe\">\n",
              "  <thead>\n",
              "    <tr style=\"text-align: right;\">\n",
              "      <th></th>\n",
              "      <th>transaction_id</th>\n",
              "      <th>transactions_type</th>\n",
              "      <th>transactions_currency</th>\n",
              "      <th>amount_usd</th>\n",
              "      <th>transactions_state</th>\n",
              "      <th>direction</th>\n",
              "      <th>user_id</th>\n",
              "      <th>t_month</th>\n",
              "      <th>t_year</th>\n",
              "      <th>t_day</th>\n",
              "      <th>birth_year</th>\n",
              "      <th>country</th>\n",
              "      <th>city</th>\n",
              "      <th>user_settings_crypto_unlocked</th>\n",
              "      <th>plan</th>\n",
              "      <th>attributes_notifications_marketing_push</th>\n",
              "      <th>attributes_notifications_marketing_email</th>\n",
              "      <th>num_contacts</th>\n",
              "      <th>u_month</th>\n",
              "      <th>u_year</th>\n",
              "      <th>u_day</th>\n",
              "      <th>brand</th>\n",
              "      <th>reason</th>\n",
              "      <th>channel</th>\n",
              "      <th>status</th>\n",
              "      <th>n_month</th>\n",
              "      <th>n_year</th>\n",
              "      <th>n_day</th>\n",
              "    </tr>\n",
              "  </thead>\n",
              "  <tbody>\n",
              "    <tr>\n",
              "      <th>0</th>\n",
              "      <td>transaction_0</td>\n",
              "      <td>TRANSFER</td>\n",
              "      <td>AED</td>\n",
              "      <td>4.55</td>\n",
              "      <td>COMPLETED</td>\n",
              "      <td>OUTBOUND</td>\n",
              "      <td>user_898</td>\n",
              "      <td>4</td>\n",
              "      <td>2018</td>\n",
              "      <td>3</td>\n",
              "      <td>1993</td>\n",
              "      <td>GB</td>\n",
              "      <td>Belfast</td>\n",
              "      <td>0</td>\n",
              "      <td>STANDARD</td>\n",
              "      <td>1</td>\n",
              "      <td>1</td>\n",
              "      <td>1</td>\n",
              "      <td>1</td>\n",
              "      <td>2018</td>\n",
              "      <td>11</td>\n",
              "      <td>Android</td>\n",
              "      <td>REENGAGEMENT_ACTIVE_FUNDS</td>\n",
              "      <td>PUSH</td>\n",
              "      <td>SENT</td>\n",
              "      <td>11</td>\n",
              "      <td>2018</td>\n",
              "      <td>28</td>\n",
              "    </tr>\n",
              "    <tr>\n",
              "      <th>1</th>\n",
              "      <td>transaction_0</td>\n",
              "      <td>TRANSFER</td>\n",
              "      <td>AED</td>\n",
              "      <td>4.55</td>\n",
              "      <td>COMPLETED</td>\n",
              "      <td>OUTBOUND</td>\n",
              "      <td>user_898</td>\n",
              "      <td>4</td>\n",
              "      <td>2018</td>\n",
              "      <td>3</td>\n",
              "      <td>1993</td>\n",
              "      <td>GB</td>\n",
              "      <td>Belfast</td>\n",
              "      <td>0</td>\n",
              "      <td>STANDARD</td>\n",
              "      <td>1</td>\n",
              "      <td>1</td>\n",
              "      <td>1</td>\n",
              "      <td>1</td>\n",
              "      <td>2018</td>\n",
              "      <td>11</td>\n",
              "      <td>Android</td>\n",
              "      <td>METAL_GAME_START</td>\n",
              "      <td>EMAIL</td>\n",
              "      <td>FAILED</td>\n",
              "      <td>2</td>\n",
              "      <td>2019</td>\n",
              "      <td>24</td>\n",
              "    </tr>\n",
              "    <tr>\n",
              "      <th>2</th>\n",
              "      <td>transaction_378</td>\n",
              "      <td>TRANSFER</td>\n",
              "      <td>AED</td>\n",
              "      <td>14.47</td>\n",
              "      <td>COMPLETED</td>\n",
              "      <td>OUTBOUND</td>\n",
              "      <td>user_898</td>\n",
              "      <td>4</td>\n",
              "      <td>2018</td>\n",
              "      <td>8</td>\n",
              "      <td>1993</td>\n",
              "      <td>GB</td>\n",
              "      <td>Belfast</td>\n",
              "      <td>0</td>\n",
              "      <td>STANDARD</td>\n",
              "      <td>1</td>\n",
              "      <td>1</td>\n",
              "      <td>1</td>\n",
              "      <td>1</td>\n",
              "      <td>2018</td>\n",
              "      <td>11</td>\n",
              "      <td>Android</td>\n",
              "      <td>REENGAGEMENT_ACTIVE_FUNDS</td>\n",
              "      <td>PUSH</td>\n",
              "      <td>SENT</td>\n",
              "      <td>11</td>\n",
              "      <td>2018</td>\n",
              "      <td>28</td>\n",
              "    </tr>\n",
              "    <tr>\n",
              "      <th>3</th>\n",
              "      <td>transaction_378</td>\n",
              "      <td>TRANSFER</td>\n",
              "      <td>AED</td>\n",
              "      <td>14.47</td>\n",
              "      <td>COMPLETED</td>\n",
              "      <td>OUTBOUND</td>\n",
              "      <td>user_898</td>\n",
              "      <td>4</td>\n",
              "      <td>2018</td>\n",
              "      <td>8</td>\n",
              "      <td>1993</td>\n",
              "      <td>GB</td>\n",
              "      <td>Belfast</td>\n",
              "      <td>0</td>\n",
              "      <td>STANDARD</td>\n",
              "      <td>1</td>\n",
              "      <td>1</td>\n",
              "      <td>1</td>\n",
              "      <td>1</td>\n",
              "      <td>2018</td>\n",
              "      <td>11</td>\n",
              "      <td>Android</td>\n",
              "      <td>METAL_GAME_START</td>\n",
              "      <td>EMAIL</td>\n",
              "      <td>FAILED</td>\n",
              "      <td>2</td>\n",
              "      <td>2019</td>\n",
              "      <td>24</td>\n",
              "    </tr>\n",
              "    <tr>\n",
              "      <th>4</th>\n",
              "      <td>transaction_379</td>\n",
              "      <td>ATM</td>\n",
              "      <td>AED</td>\n",
              "      <td>41.33</td>\n",
              "      <td>COMPLETED</td>\n",
              "      <td>OUTBOUND</td>\n",
              "      <td>user_898</td>\n",
              "      <td>4</td>\n",
              "      <td>2018</td>\n",
              "      <td>7</td>\n",
              "      <td>1993</td>\n",
              "      <td>GB</td>\n",
              "      <td>Belfast</td>\n",
              "      <td>0</td>\n",
              "      <td>STANDARD</td>\n",
              "      <td>1</td>\n",
              "      <td>1</td>\n",
              "      <td>1</td>\n",
              "      <td>1</td>\n",
              "      <td>2018</td>\n",
              "      <td>11</td>\n",
              "      <td>Android</td>\n",
              "      <td>REENGAGEMENT_ACTIVE_FUNDS</td>\n",
              "      <td>PUSH</td>\n",
              "      <td>SENT</td>\n",
              "      <td>11</td>\n",
              "      <td>2018</td>\n",
              "      <td>28</td>\n",
              "    </tr>\n",
              "  </tbody>\n",
              "</table>\n",
              "</div>"
            ],
            "text/plain": [
              "    transaction_id transactions_type  ... n_year  n_day\n",
              "0    transaction_0          TRANSFER  ...   2018     28\n",
              "1    transaction_0          TRANSFER  ...   2019     24\n",
              "2  transaction_378          TRANSFER  ...   2018     28\n",
              "3  transaction_378          TRANSFER  ...   2019     24\n",
              "4  transaction_379               ATM  ...   2018     28\n",
              "\n",
              "[5 rows x 28 columns]"
            ]
          },
          "metadata": {
            "tags": []
          },
          "execution_count": 65
        }
      ]
    },
    {
      "cell_type": "code",
      "metadata": {
        "id": "-uTtH28dXvQC",
        "colab_type": "code",
        "colab": {}
      },
      "source": [
        "# df_main.groupby('brand')['transaction_id'].count()"
      ],
      "execution_count": 0,
      "outputs": []
    },
    {
      "cell_type": "code",
      "metadata": {
        "id": "YUR8fsM2XvOH",
        "colab_type": "code",
        "colab": {}
      },
      "source": [
        "# plt.rcParams['figure.figsize']= 15,8\n",
        "# sns.countplot(df_main['transactions_currency'])\n",
        "# plt.show()"
      ],
      "execution_count": 0,
      "outputs": []
    },
    {
      "cell_type": "code",
      "metadata": {
        "id": "-oXrbU64j-jG",
        "colab_type": "code",
        "outputId": "ea6fcf15-9b7a-4141-b34a-711d22e12cce",
        "colab": {
          "base_uri": "https://localhost:8080/",
          "height": 51
        }
      },
      "source": [
        "who"
      ],
      "execution_count": 68,
      "outputs": [
        {
          "output_type": "stream",
          "text": [
            "col\t device\t df1\t df2\t df3\t df_main\t notification\t np\t os\t \n",
            "pd\t plt\t pp\t sns\t transaction\t users\t warnings\t \n"
          ],
          "name": "stdout"
        }
      ]
    },
    {
      "cell_type": "code",
      "metadata": {
        "id": "PS3jFZGOj-1e",
        "colab_type": "code",
        "colab": {}
      },
      "source": [
        "del df1,df2,df3"
      ],
      "execution_count": 0,
      "outputs": []
    },
    {
      "cell_type": "code",
      "metadata": {
        "id": "ZulMUBvKpSjW",
        "colab_type": "code",
        "outputId": "516baadf-4ec1-456d-eeee-be1f0ef780a0",
        "colab": {
          "base_uri": "https://localhost:8080/",
          "height": 419
        }
      },
      "source": [
        "df_main.groupby('user_id')['transaction_id'].count().reset_index()"
      ],
      "execution_count": 70,
      "outputs": [
        {
          "output_type": "execute_result",
          "data": {
            "text/html": [
              "<div>\n",
              "<style scoped>\n",
              "    .dataframe tbody tr th:only-of-type {\n",
              "        vertical-align: middle;\n",
              "    }\n",
              "\n",
              "    .dataframe tbody tr th {\n",
              "        vertical-align: top;\n",
              "    }\n",
              "\n",
              "    .dataframe thead th {\n",
              "        text-align: right;\n",
              "    }\n",
              "</style>\n",
              "<table border=\"1\" class=\"dataframe\">\n",
              "  <thead>\n",
              "    <tr style=\"text-align: right;\">\n",
              "      <th></th>\n",
              "      <th>user_id</th>\n",
              "      <th>transaction_id</th>\n",
              "    </tr>\n",
              "  </thead>\n",
              "  <tbody>\n",
              "    <tr>\n",
              "      <th>0</th>\n",
              "      <td>user_0</td>\n",
              "      <td>3112</td>\n",
              "    </tr>\n",
              "    <tr>\n",
              "      <th>1</th>\n",
              "      <td>user_1</td>\n",
              "      <td>903</td>\n",
              "    </tr>\n",
              "    <tr>\n",
              "      <th>2</th>\n",
              "      <td>user_10</td>\n",
              "      <td>6318</td>\n",
              "    </tr>\n",
              "    <tr>\n",
              "      <th>3</th>\n",
              "      <td>user_100</td>\n",
              "      <td>532</td>\n",
              "    </tr>\n",
              "    <tr>\n",
              "      <th>4</th>\n",
              "      <td>user_1000</td>\n",
              "      <td>702</td>\n",
              "    </tr>\n",
              "    <tr>\n",
              "      <th>...</th>\n",
              "      <td>...</td>\n",
              "      <td>...</td>\n",
              "    </tr>\n",
              "    <tr>\n",
              "      <th>18332</th>\n",
              "      <td>user_9995</td>\n",
              "      <td>4920</td>\n",
              "    </tr>\n",
              "    <tr>\n",
              "      <th>18333</th>\n",
              "      <td>user_9996</td>\n",
              "      <td>1440</td>\n",
              "    </tr>\n",
              "    <tr>\n",
              "      <th>18334</th>\n",
              "      <td>user_9997</td>\n",
              "      <td>1079</td>\n",
              "    </tr>\n",
              "    <tr>\n",
              "      <th>18335</th>\n",
              "      <td>user_9998</td>\n",
              "      <td>8</td>\n",
              "    </tr>\n",
              "    <tr>\n",
              "      <th>18336</th>\n",
              "      <td>user_9999</td>\n",
              "      <td>574</td>\n",
              "    </tr>\n",
              "  </tbody>\n",
              "</table>\n",
              "<p>18337 rows × 2 columns</p>\n",
              "</div>"
            ],
            "text/plain": [
              "         user_id  transaction_id\n",
              "0         user_0            3112\n",
              "1         user_1             903\n",
              "2        user_10            6318\n",
              "3       user_100             532\n",
              "4      user_1000             702\n",
              "...          ...             ...\n",
              "18332  user_9995            4920\n",
              "18333  user_9996            1440\n",
              "18334  user_9997            1079\n",
              "18335  user_9998               8\n",
              "18336  user_9999             574\n",
              "\n",
              "[18337 rows x 2 columns]"
            ]
          },
          "metadata": {
            "tags": []
          },
          "execution_count": 70
        }
      ]
    },
    {
      "cell_type": "code",
      "metadata": {
        "id": "1ngfEbOfj_AJ",
        "colab_type": "code",
        "colab": {}
      },
      "source": [
        "d = df_main.groupby('user_id')['transaction_id'].count().reset_index()\n",
        "\n",
        "d.columns = ['user_id','tran_count_each_user']\n",
        "\n",
        "df_main = pd.merge(df_main,d,on='user_id',how='left')\n",
        "\n",
        "df_main.head()\n",
        "\n",
        "del d"
      ],
      "execution_count": 0,
      "outputs": []
    },
    {
      "cell_type": "code",
      "metadata": {
        "id": "QPAu1Gp2j_Hy",
        "colab_type": "code",
        "outputId": "5094b72d-e65a-4e7f-d7b2-1ea0db41e1ff",
        "colab": {
          "base_uri": "https://localhost:8080/",
          "height": 34
        }
      },
      "source": [
        "df_main.shape"
      ],
      "execution_count": 72,
      "outputs": [
        {
          "output_type": "execute_result",
          "data": {
            "text/plain": [
              "(17984549, 29)"
            ]
          },
          "metadata": {
            "tags": []
          },
          "execution_count": 72
        }
      ]
    },
    {
      "cell_type": "code",
      "metadata": {
        "id": "LO4S8T30j_FC",
        "colab_type": "code",
        "outputId": "3122e006-bda9-4af7-c202-574daf312a4b",
        "colab": {
          "base_uri": "https://localhost:8080/",
          "height": 34
        }
      },
      "source": [
        "df_main['transaction_id'].nunique()"
      ],
      "execution_count": 73,
      "outputs": [
        {
          "output_type": "execute_result",
          "data": {
            "text/plain": [
              "2707436"
            ]
          },
          "metadata": {
            "tags": []
          },
          "execution_count": 73
        }
      ]
    },
    {
      "cell_type": "code",
      "metadata": {
        "id": "qdj0PYI9pIjw",
        "colab_type": "code",
        "colab": {}
      },
      "source": [
        "#  pp.ProfileReport(df_main)"
      ],
      "execution_count": 0,
      "outputs": []
    },
    {
      "cell_type": "code",
      "metadata": {
        "id": "L1R2Qw6YrLK4",
        "colab_type": "code",
        "colab": {}
      },
      "source": [
        "# attributes_notifications_marketing_email is highly correlated with attributes_notifications_marketing_push (ρ = 0.92296)\n",
        "df_main.drop('attributes_notifications_marketing_push',axis=1,inplace=True)"
      ],
      "execution_count": 0,
      "outputs": []
    },
    {
      "cell_type": "code",
      "metadata": {
        "id": "T6FipGMfsF-f",
        "colab_type": "code",
        "outputId": "0dfd3632-6b90-43bd-b276-0c5cd5eb3125",
        "colab": {
          "base_uri": "https://localhost:8080/",
          "height": 162
        }
      },
      "source": [
        "df_main.head(3)"
      ],
      "execution_count": 76,
      "outputs": [
        {
          "output_type": "execute_result",
          "data": {
            "text/html": [
              "<div>\n",
              "<style scoped>\n",
              "    .dataframe tbody tr th:only-of-type {\n",
              "        vertical-align: middle;\n",
              "    }\n",
              "\n",
              "    .dataframe tbody tr th {\n",
              "        vertical-align: top;\n",
              "    }\n",
              "\n",
              "    .dataframe thead th {\n",
              "        text-align: right;\n",
              "    }\n",
              "</style>\n",
              "<table border=\"1\" class=\"dataframe\">\n",
              "  <thead>\n",
              "    <tr style=\"text-align: right;\">\n",
              "      <th></th>\n",
              "      <th>transaction_id</th>\n",
              "      <th>transactions_type</th>\n",
              "      <th>transactions_currency</th>\n",
              "      <th>amount_usd</th>\n",
              "      <th>transactions_state</th>\n",
              "      <th>direction</th>\n",
              "      <th>user_id</th>\n",
              "      <th>t_month</th>\n",
              "      <th>t_year</th>\n",
              "      <th>t_day</th>\n",
              "      <th>birth_year</th>\n",
              "      <th>country</th>\n",
              "      <th>city</th>\n",
              "      <th>user_settings_crypto_unlocked</th>\n",
              "      <th>plan</th>\n",
              "      <th>attributes_notifications_marketing_email</th>\n",
              "      <th>num_contacts</th>\n",
              "      <th>u_month</th>\n",
              "      <th>u_year</th>\n",
              "      <th>u_day</th>\n",
              "      <th>brand</th>\n",
              "      <th>reason</th>\n",
              "      <th>channel</th>\n",
              "      <th>status</th>\n",
              "      <th>n_month</th>\n",
              "      <th>n_year</th>\n",
              "      <th>n_day</th>\n",
              "      <th>tran_count_each_user</th>\n",
              "    </tr>\n",
              "  </thead>\n",
              "  <tbody>\n",
              "    <tr>\n",
              "      <th>0</th>\n",
              "      <td>transaction_0</td>\n",
              "      <td>TRANSFER</td>\n",
              "      <td>AED</td>\n",
              "      <td>4.55</td>\n",
              "      <td>COMPLETED</td>\n",
              "      <td>OUTBOUND</td>\n",
              "      <td>user_898</td>\n",
              "      <td>4</td>\n",
              "      <td>2018</td>\n",
              "      <td>3</td>\n",
              "      <td>1993</td>\n",
              "      <td>GB</td>\n",
              "      <td>Belfast</td>\n",
              "      <td>0</td>\n",
              "      <td>STANDARD</td>\n",
              "      <td>1</td>\n",
              "      <td>1</td>\n",
              "      <td>1</td>\n",
              "      <td>2018</td>\n",
              "      <td>11</td>\n",
              "      <td>Android</td>\n",
              "      <td>REENGAGEMENT_ACTIVE_FUNDS</td>\n",
              "      <td>PUSH</td>\n",
              "      <td>SENT</td>\n",
              "      <td>11</td>\n",
              "      <td>2018</td>\n",
              "      <td>28</td>\n",
              "      <td>522</td>\n",
              "    </tr>\n",
              "    <tr>\n",
              "      <th>1</th>\n",
              "      <td>transaction_0</td>\n",
              "      <td>TRANSFER</td>\n",
              "      <td>AED</td>\n",
              "      <td>4.55</td>\n",
              "      <td>COMPLETED</td>\n",
              "      <td>OUTBOUND</td>\n",
              "      <td>user_898</td>\n",
              "      <td>4</td>\n",
              "      <td>2018</td>\n",
              "      <td>3</td>\n",
              "      <td>1993</td>\n",
              "      <td>GB</td>\n",
              "      <td>Belfast</td>\n",
              "      <td>0</td>\n",
              "      <td>STANDARD</td>\n",
              "      <td>1</td>\n",
              "      <td>1</td>\n",
              "      <td>1</td>\n",
              "      <td>2018</td>\n",
              "      <td>11</td>\n",
              "      <td>Android</td>\n",
              "      <td>METAL_GAME_START</td>\n",
              "      <td>EMAIL</td>\n",
              "      <td>FAILED</td>\n",
              "      <td>2</td>\n",
              "      <td>2019</td>\n",
              "      <td>24</td>\n",
              "      <td>522</td>\n",
              "    </tr>\n",
              "    <tr>\n",
              "      <th>2</th>\n",
              "      <td>transaction_378</td>\n",
              "      <td>TRANSFER</td>\n",
              "      <td>AED</td>\n",
              "      <td>14.47</td>\n",
              "      <td>COMPLETED</td>\n",
              "      <td>OUTBOUND</td>\n",
              "      <td>user_898</td>\n",
              "      <td>4</td>\n",
              "      <td>2018</td>\n",
              "      <td>8</td>\n",
              "      <td>1993</td>\n",
              "      <td>GB</td>\n",
              "      <td>Belfast</td>\n",
              "      <td>0</td>\n",
              "      <td>STANDARD</td>\n",
              "      <td>1</td>\n",
              "      <td>1</td>\n",
              "      <td>1</td>\n",
              "      <td>2018</td>\n",
              "      <td>11</td>\n",
              "      <td>Android</td>\n",
              "      <td>REENGAGEMENT_ACTIVE_FUNDS</td>\n",
              "      <td>PUSH</td>\n",
              "      <td>SENT</td>\n",
              "      <td>11</td>\n",
              "      <td>2018</td>\n",
              "      <td>28</td>\n",
              "      <td>522</td>\n",
              "    </tr>\n",
              "  </tbody>\n",
              "</table>\n",
              "</div>"
            ],
            "text/plain": [
              "    transaction_id transactions_type  ... n_day  tran_count_each_user\n",
              "0    transaction_0          TRANSFER  ...    28                   522\n",
              "1    transaction_0          TRANSFER  ...    24                   522\n",
              "2  transaction_378          TRANSFER  ...    28                   522\n",
              "\n",
              "[3 rows x 28 columns]"
            ]
          },
          "metadata": {
            "tags": []
          },
          "execution_count": 76
        }
      ]
    },
    {
      "cell_type": "code",
      "metadata": {
        "id": "CFFYoAFXpjg5",
        "colab_type": "code",
        "colab": {}
      },
      "source": [
        "# Which month we have most of the Transactions\n",
        "# Which month we have sent most of the notification"
      ],
      "execution_count": 0,
      "outputs": []
    },
    {
      "cell_type": "code",
      "metadata": {
        "id": "7JNNW23Erq0V",
        "colab_type": "code",
        "colab": {}
      },
      "source": [
        "# # Monthwise user creations,user notifications ,user transactions \n",
        "# sns.set_style('dark')\n",
        "# mylevels = ['u_month','n_month','t_month']\n",
        "# plt.hist([df_main['u_month'],df_main['n_month'],df_main['t_month']],stacked=True,bins=12,rwidth=1,label=mylevels, color = [\"skyblue\",'pink','lightgreen'])\n",
        "# plt.legend()\n",
        "# plt.show()"
      ],
      "execution_count": 0,
      "outputs": []
    },
    {
      "cell_type": "code",
      "metadata": {
        "id": "F0ZOJrxlry83",
        "colab_type": "code",
        "colab": {}
      },
      "source": [
        "# Per Year user creations,user notifications ,user transactions\n",
        "# plt.rcParams['figure.figsize']=6,3 \n",
        "# sns.set_style('dark')\n",
        "# mylevels = ['u_year','n_year','t_year']\n",
        "# plt.hist([df_main['u_year'],df_main['n_year'],df_main['t_year']],stacked=True,bins=2,rwidth=1,label=mylevels)\n",
        "# plt.legend()\n",
        "# plt.show()\n",
        "\n",
        "# We can see we dnt have the data in 2019 which have users created"
      ],
      "execution_count": 0,
      "outputs": []
    },
    {
      "cell_type": "code",
      "metadata": {
        "id": "TmIsN_s8xmPi",
        "colab_type": "code",
        "colab": {}
      },
      "source": [
        "# # Per Day user creations,user notifications ,user transactions \n",
        "# plt.rcParams['figure.figsize']=15,8\n",
        "# sns.set_style('dark')\n",
        "# mylevels = ['u_day','n_day','t_day']\n",
        "# plt.hist([df_main['u_day'],df_main['n_day'],df_main['t_day']],stacked=True,bins=31,rwidth=1,label=mylevels, color = [\"lightpink\",'orange','skyblue'])\n",
        "# plt.legend()\n",
        "# plt.show()"
      ],
      "execution_count": 0,
      "outputs": []
    },
    {
      "cell_type": "code",
      "metadata": {
        "id": "GF4MUzrhygpe",
        "colab_type": "code",
        "outputId": "bdd21eab-590b-4d20-f530-533a8d0834b5",
        "colab": {
          "base_uri": "https://localhost:8080/",
          "height": 224
        }
      },
      "source": [
        "df_main.head()"
      ],
      "execution_count": 81,
      "outputs": [
        {
          "output_type": "execute_result",
          "data": {
            "text/html": [
              "<div>\n",
              "<style scoped>\n",
              "    .dataframe tbody tr th:only-of-type {\n",
              "        vertical-align: middle;\n",
              "    }\n",
              "\n",
              "    .dataframe tbody tr th {\n",
              "        vertical-align: top;\n",
              "    }\n",
              "\n",
              "    .dataframe thead th {\n",
              "        text-align: right;\n",
              "    }\n",
              "</style>\n",
              "<table border=\"1\" class=\"dataframe\">\n",
              "  <thead>\n",
              "    <tr style=\"text-align: right;\">\n",
              "      <th></th>\n",
              "      <th>transaction_id</th>\n",
              "      <th>transactions_type</th>\n",
              "      <th>transactions_currency</th>\n",
              "      <th>amount_usd</th>\n",
              "      <th>transactions_state</th>\n",
              "      <th>direction</th>\n",
              "      <th>user_id</th>\n",
              "      <th>t_month</th>\n",
              "      <th>t_year</th>\n",
              "      <th>t_day</th>\n",
              "      <th>birth_year</th>\n",
              "      <th>country</th>\n",
              "      <th>city</th>\n",
              "      <th>user_settings_crypto_unlocked</th>\n",
              "      <th>plan</th>\n",
              "      <th>attributes_notifications_marketing_email</th>\n",
              "      <th>num_contacts</th>\n",
              "      <th>u_month</th>\n",
              "      <th>u_year</th>\n",
              "      <th>u_day</th>\n",
              "      <th>brand</th>\n",
              "      <th>reason</th>\n",
              "      <th>channel</th>\n",
              "      <th>status</th>\n",
              "      <th>n_month</th>\n",
              "      <th>n_year</th>\n",
              "      <th>n_day</th>\n",
              "      <th>tran_count_each_user</th>\n",
              "    </tr>\n",
              "  </thead>\n",
              "  <tbody>\n",
              "    <tr>\n",
              "      <th>0</th>\n",
              "      <td>transaction_0</td>\n",
              "      <td>TRANSFER</td>\n",
              "      <td>AED</td>\n",
              "      <td>4.55</td>\n",
              "      <td>COMPLETED</td>\n",
              "      <td>OUTBOUND</td>\n",
              "      <td>user_898</td>\n",
              "      <td>4</td>\n",
              "      <td>2018</td>\n",
              "      <td>3</td>\n",
              "      <td>1993</td>\n",
              "      <td>GB</td>\n",
              "      <td>Belfast</td>\n",
              "      <td>0</td>\n",
              "      <td>STANDARD</td>\n",
              "      <td>1</td>\n",
              "      <td>1</td>\n",
              "      <td>1</td>\n",
              "      <td>2018</td>\n",
              "      <td>11</td>\n",
              "      <td>Android</td>\n",
              "      <td>REENGAGEMENT_ACTIVE_FUNDS</td>\n",
              "      <td>PUSH</td>\n",
              "      <td>SENT</td>\n",
              "      <td>11</td>\n",
              "      <td>2018</td>\n",
              "      <td>28</td>\n",
              "      <td>522</td>\n",
              "    </tr>\n",
              "    <tr>\n",
              "      <th>1</th>\n",
              "      <td>transaction_0</td>\n",
              "      <td>TRANSFER</td>\n",
              "      <td>AED</td>\n",
              "      <td>4.55</td>\n",
              "      <td>COMPLETED</td>\n",
              "      <td>OUTBOUND</td>\n",
              "      <td>user_898</td>\n",
              "      <td>4</td>\n",
              "      <td>2018</td>\n",
              "      <td>3</td>\n",
              "      <td>1993</td>\n",
              "      <td>GB</td>\n",
              "      <td>Belfast</td>\n",
              "      <td>0</td>\n",
              "      <td>STANDARD</td>\n",
              "      <td>1</td>\n",
              "      <td>1</td>\n",
              "      <td>1</td>\n",
              "      <td>2018</td>\n",
              "      <td>11</td>\n",
              "      <td>Android</td>\n",
              "      <td>METAL_GAME_START</td>\n",
              "      <td>EMAIL</td>\n",
              "      <td>FAILED</td>\n",
              "      <td>2</td>\n",
              "      <td>2019</td>\n",
              "      <td>24</td>\n",
              "      <td>522</td>\n",
              "    </tr>\n",
              "    <tr>\n",
              "      <th>2</th>\n",
              "      <td>transaction_378</td>\n",
              "      <td>TRANSFER</td>\n",
              "      <td>AED</td>\n",
              "      <td>14.47</td>\n",
              "      <td>COMPLETED</td>\n",
              "      <td>OUTBOUND</td>\n",
              "      <td>user_898</td>\n",
              "      <td>4</td>\n",
              "      <td>2018</td>\n",
              "      <td>8</td>\n",
              "      <td>1993</td>\n",
              "      <td>GB</td>\n",
              "      <td>Belfast</td>\n",
              "      <td>0</td>\n",
              "      <td>STANDARD</td>\n",
              "      <td>1</td>\n",
              "      <td>1</td>\n",
              "      <td>1</td>\n",
              "      <td>2018</td>\n",
              "      <td>11</td>\n",
              "      <td>Android</td>\n",
              "      <td>REENGAGEMENT_ACTIVE_FUNDS</td>\n",
              "      <td>PUSH</td>\n",
              "      <td>SENT</td>\n",
              "      <td>11</td>\n",
              "      <td>2018</td>\n",
              "      <td>28</td>\n",
              "      <td>522</td>\n",
              "    </tr>\n",
              "    <tr>\n",
              "      <th>3</th>\n",
              "      <td>transaction_378</td>\n",
              "      <td>TRANSFER</td>\n",
              "      <td>AED</td>\n",
              "      <td>14.47</td>\n",
              "      <td>COMPLETED</td>\n",
              "      <td>OUTBOUND</td>\n",
              "      <td>user_898</td>\n",
              "      <td>4</td>\n",
              "      <td>2018</td>\n",
              "      <td>8</td>\n",
              "      <td>1993</td>\n",
              "      <td>GB</td>\n",
              "      <td>Belfast</td>\n",
              "      <td>0</td>\n",
              "      <td>STANDARD</td>\n",
              "      <td>1</td>\n",
              "      <td>1</td>\n",
              "      <td>1</td>\n",
              "      <td>2018</td>\n",
              "      <td>11</td>\n",
              "      <td>Android</td>\n",
              "      <td>METAL_GAME_START</td>\n",
              "      <td>EMAIL</td>\n",
              "      <td>FAILED</td>\n",
              "      <td>2</td>\n",
              "      <td>2019</td>\n",
              "      <td>24</td>\n",
              "      <td>522</td>\n",
              "    </tr>\n",
              "    <tr>\n",
              "      <th>4</th>\n",
              "      <td>transaction_379</td>\n",
              "      <td>ATM</td>\n",
              "      <td>AED</td>\n",
              "      <td>41.33</td>\n",
              "      <td>COMPLETED</td>\n",
              "      <td>OUTBOUND</td>\n",
              "      <td>user_898</td>\n",
              "      <td>4</td>\n",
              "      <td>2018</td>\n",
              "      <td>7</td>\n",
              "      <td>1993</td>\n",
              "      <td>GB</td>\n",
              "      <td>Belfast</td>\n",
              "      <td>0</td>\n",
              "      <td>STANDARD</td>\n",
              "      <td>1</td>\n",
              "      <td>1</td>\n",
              "      <td>1</td>\n",
              "      <td>2018</td>\n",
              "      <td>11</td>\n",
              "      <td>Android</td>\n",
              "      <td>REENGAGEMENT_ACTIVE_FUNDS</td>\n",
              "      <td>PUSH</td>\n",
              "      <td>SENT</td>\n",
              "      <td>11</td>\n",
              "      <td>2018</td>\n",
              "      <td>28</td>\n",
              "      <td>522</td>\n",
              "    </tr>\n",
              "  </tbody>\n",
              "</table>\n",
              "</div>"
            ],
            "text/plain": [
              "    transaction_id transactions_type  ... n_day  tran_count_each_user\n",
              "0    transaction_0          TRANSFER  ...    28                   522\n",
              "1    transaction_0          TRANSFER  ...    24                   522\n",
              "2  transaction_378          TRANSFER  ...    28                   522\n",
              "3  transaction_378          TRANSFER  ...    24                   522\n",
              "4  transaction_379               ATM  ...    28                   522\n",
              "\n",
              "[5 rows x 28 columns]"
            ]
          },
          "metadata": {
            "tags": []
          },
          "execution_count": 81
        }
      ]
    },
    {
      "cell_type": "code",
      "metadata": {
        "id": "IInrcT_ewMTS",
        "colab_type": "code",
        "outputId": "c4d8e1c1-5794-4ab1-92d3-6f29fdce51dc",
        "colab": {
          "base_uri": "https://localhost:8080/",
          "height": 204
        }
      },
      "source": [
        "# Transaction made by each user each month\n",
        "d = df_main.groupby(['user_id','t_month','t_year'])['transaction_id'].count().reset_index()\n",
        "\n",
        "d.head()"
      ],
      "execution_count": 82,
      "outputs": [
        {
          "output_type": "execute_result",
          "data": {
            "text/html": [
              "<div>\n",
              "<style scoped>\n",
              "    .dataframe tbody tr th:only-of-type {\n",
              "        vertical-align: middle;\n",
              "    }\n",
              "\n",
              "    .dataframe tbody tr th {\n",
              "        vertical-align: top;\n",
              "    }\n",
              "\n",
              "    .dataframe thead th {\n",
              "        text-align: right;\n",
              "    }\n",
              "</style>\n",
              "<table border=\"1\" class=\"dataframe\">\n",
              "  <thead>\n",
              "    <tr style=\"text-align: right;\">\n",
              "      <th></th>\n",
              "      <th>user_id</th>\n",
              "      <th>t_month</th>\n",
              "      <th>t_year</th>\n",
              "      <th>transaction_id</th>\n",
              "    </tr>\n",
              "  </thead>\n",
              "  <tbody>\n",
              "    <tr>\n",
              "      <th>0</th>\n",
              "      <td>user_0</td>\n",
              "      <td>1</td>\n",
              "      <td>2018</td>\n",
              "      <td>152</td>\n",
              "    </tr>\n",
              "    <tr>\n",
              "      <th>1</th>\n",
              "      <td>user_0</td>\n",
              "      <td>1</td>\n",
              "      <td>2019</td>\n",
              "      <td>56</td>\n",
              "    </tr>\n",
              "    <tr>\n",
              "      <th>2</th>\n",
              "      <td>user_0</td>\n",
              "      <td>2</td>\n",
              "      <td>2018</td>\n",
              "      <td>112</td>\n",
              "    </tr>\n",
              "    <tr>\n",
              "      <th>3</th>\n",
              "      <td>user_0</td>\n",
              "      <td>2</td>\n",
              "      <td>2019</td>\n",
              "      <td>168</td>\n",
              "    </tr>\n",
              "    <tr>\n",
              "      <th>4</th>\n",
              "      <td>user_0</td>\n",
              "      <td>3</td>\n",
              "      <td>2018</td>\n",
              "      <td>328</td>\n",
              "    </tr>\n",
              "  </tbody>\n",
              "</table>\n",
              "</div>"
            ],
            "text/plain": [
              "  user_id  t_month  t_year  transaction_id\n",
              "0  user_0        1    2018             152\n",
              "1  user_0        1    2019              56\n",
              "2  user_0        2    2018             112\n",
              "3  user_0        2    2019             168\n",
              "4  user_0        3    2018             328"
            ]
          },
          "metadata": {
            "tags": []
          },
          "execution_count": 82
        }
      ]
    },
    {
      "cell_type": "code",
      "metadata": {
        "id": "XYvHRhNAwfBQ",
        "colab_type": "code",
        "outputId": "902202e7-3548-4f64-fa22-3c37dcbf102b",
        "colab": {
          "base_uri": "https://localhost:8080/",
          "height": 669
        }
      },
      "source": [
        "# Transaction made by each user each month\n",
        "d1 = df_main.groupby(['user_id','u_year','u_month','t_year','t_month'])['transaction_id'].count().reset_index()\n",
        "\n",
        "d1.head(20)"
      ],
      "execution_count": 83,
      "outputs": [
        {
          "output_type": "execute_result",
          "data": {
            "text/html": [
              "<div>\n",
              "<style scoped>\n",
              "    .dataframe tbody tr th:only-of-type {\n",
              "        vertical-align: middle;\n",
              "    }\n",
              "\n",
              "    .dataframe tbody tr th {\n",
              "        vertical-align: top;\n",
              "    }\n",
              "\n",
              "    .dataframe thead th {\n",
              "        text-align: right;\n",
              "    }\n",
              "</style>\n",
              "<table border=\"1\" class=\"dataframe\">\n",
              "  <thead>\n",
              "    <tr style=\"text-align: right;\">\n",
              "      <th></th>\n",
              "      <th>user_id</th>\n",
              "      <th>u_year</th>\n",
              "      <th>u_month</th>\n",
              "      <th>t_year</th>\n",
              "      <th>t_month</th>\n",
              "      <th>transaction_id</th>\n",
              "    </tr>\n",
              "  </thead>\n",
              "  <tbody>\n",
              "    <tr>\n",
              "      <th>0</th>\n",
              "      <td>user_0</td>\n",
              "      <td>2018</td>\n",
              "      <td>1</td>\n",
              "      <td>2018</td>\n",
              "      <td>1</td>\n",
              "      <td>152</td>\n",
              "    </tr>\n",
              "    <tr>\n",
              "      <th>1</th>\n",
              "      <td>user_0</td>\n",
              "      <td>2018</td>\n",
              "      <td>1</td>\n",
              "      <td>2018</td>\n",
              "      <td>2</td>\n",
              "      <td>112</td>\n",
              "    </tr>\n",
              "    <tr>\n",
              "      <th>2</th>\n",
              "      <td>user_0</td>\n",
              "      <td>2018</td>\n",
              "      <td>1</td>\n",
              "      <td>2018</td>\n",
              "      <td>3</td>\n",
              "      <td>328</td>\n",
              "    </tr>\n",
              "    <tr>\n",
              "      <th>3</th>\n",
              "      <td>user_0</td>\n",
              "      <td>2018</td>\n",
              "      <td>1</td>\n",
              "      <td>2018</td>\n",
              "      <td>4</td>\n",
              "      <td>96</td>\n",
              "    </tr>\n",
              "    <tr>\n",
              "      <th>4</th>\n",
              "      <td>user_0</td>\n",
              "      <td>2018</td>\n",
              "      <td>1</td>\n",
              "      <td>2018</td>\n",
              "      <td>5</td>\n",
              "      <td>144</td>\n",
              "    </tr>\n",
              "    <tr>\n",
              "      <th>5</th>\n",
              "      <td>user_0</td>\n",
              "      <td>2018</td>\n",
              "      <td>1</td>\n",
              "      <td>2018</td>\n",
              "      <td>6</td>\n",
              "      <td>224</td>\n",
              "    </tr>\n",
              "    <tr>\n",
              "      <th>6</th>\n",
              "      <td>user_0</td>\n",
              "      <td>2018</td>\n",
              "      <td>1</td>\n",
              "      <td>2018</td>\n",
              "      <td>7</td>\n",
              "      <td>376</td>\n",
              "    </tr>\n",
              "    <tr>\n",
              "      <th>7</th>\n",
              "      <td>user_0</td>\n",
              "      <td>2018</td>\n",
              "      <td>1</td>\n",
              "      <td>2018</td>\n",
              "      <td>8</td>\n",
              "      <td>168</td>\n",
              "    </tr>\n",
              "    <tr>\n",
              "      <th>8</th>\n",
              "      <td>user_0</td>\n",
              "      <td>2018</td>\n",
              "      <td>1</td>\n",
              "      <td>2018</td>\n",
              "      <td>9</td>\n",
              "      <td>40</td>\n",
              "    </tr>\n",
              "    <tr>\n",
              "      <th>9</th>\n",
              "      <td>user_0</td>\n",
              "      <td>2018</td>\n",
              "      <td>1</td>\n",
              "      <td>2018</td>\n",
              "      <td>10</td>\n",
              "      <td>216</td>\n",
              "    </tr>\n",
              "    <tr>\n",
              "      <th>10</th>\n",
              "      <td>user_0</td>\n",
              "      <td>2018</td>\n",
              "      <td>1</td>\n",
              "      <td>2018</td>\n",
              "      <td>11</td>\n",
              "      <td>96</td>\n",
              "    </tr>\n",
              "    <tr>\n",
              "      <th>11</th>\n",
              "      <td>user_0</td>\n",
              "      <td>2018</td>\n",
              "      <td>1</td>\n",
              "      <td>2018</td>\n",
              "      <td>12</td>\n",
              "      <td>80</td>\n",
              "    </tr>\n",
              "    <tr>\n",
              "      <th>12</th>\n",
              "      <td>user_0</td>\n",
              "      <td>2018</td>\n",
              "      <td>1</td>\n",
              "      <td>2019</td>\n",
              "      <td>1</td>\n",
              "      <td>56</td>\n",
              "    </tr>\n",
              "    <tr>\n",
              "      <th>13</th>\n",
              "      <td>user_0</td>\n",
              "      <td>2018</td>\n",
              "      <td>1</td>\n",
              "      <td>2019</td>\n",
              "      <td>2</td>\n",
              "      <td>168</td>\n",
              "    </tr>\n",
              "    <tr>\n",
              "      <th>14</th>\n",
              "      <td>user_0</td>\n",
              "      <td>2018</td>\n",
              "      <td>1</td>\n",
              "      <td>2019</td>\n",
              "      <td>3</td>\n",
              "      <td>136</td>\n",
              "    </tr>\n",
              "    <tr>\n",
              "      <th>15</th>\n",
              "      <td>user_0</td>\n",
              "      <td>2018</td>\n",
              "      <td>1</td>\n",
              "      <td>2019</td>\n",
              "      <td>4</td>\n",
              "      <td>704</td>\n",
              "    </tr>\n",
              "    <tr>\n",
              "      <th>16</th>\n",
              "      <td>user_0</td>\n",
              "      <td>2018</td>\n",
              "      <td>1</td>\n",
              "      <td>2019</td>\n",
              "      <td>5</td>\n",
              "      <td>16</td>\n",
              "    </tr>\n",
              "    <tr>\n",
              "      <th>17</th>\n",
              "      <td>user_1</td>\n",
              "      <td>2018</td>\n",
              "      <td>1</td>\n",
              "      <td>2018</td>\n",
              "      <td>1</td>\n",
              "      <td>21</td>\n",
              "    </tr>\n",
              "    <tr>\n",
              "      <th>18</th>\n",
              "      <td>user_1</td>\n",
              "      <td>2018</td>\n",
              "      <td>1</td>\n",
              "      <td>2018</td>\n",
              "      <td>3</td>\n",
              "      <td>63</td>\n",
              "    </tr>\n",
              "    <tr>\n",
              "      <th>19</th>\n",
              "      <td>user_1</td>\n",
              "      <td>2018</td>\n",
              "      <td>1</td>\n",
              "      <td>2018</td>\n",
              "      <td>4</td>\n",
              "      <td>266</td>\n",
              "    </tr>\n",
              "  </tbody>\n",
              "</table>\n",
              "</div>"
            ],
            "text/plain": [
              "   user_id  u_year  u_month  t_year  t_month  transaction_id\n",
              "0   user_0    2018        1    2018        1             152\n",
              "1   user_0    2018        1    2018        2             112\n",
              "2   user_0    2018        1    2018        3             328\n",
              "3   user_0    2018        1    2018        4              96\n",
              "4   user_0    2018        1    2018        5             144\n",
              "5   user_0    2018        1    2018        6             224\n",
              "6   user_0    2018        1    2018        7             376\n",
              "7   user_0    2018        1    2018        8             168\n",
              "8   user_0    2018        1    2018        9              40\n",
              "9   user_0    2018        1    2018       10             216\n",
              "10  user_0    2018        1    2018       11              96\n",
              "11  user_0    2018        1    2018       12              80\n",
              "12  user_0    2018        1    2019        1              56\n",
              "13  user_0    2018        1    2019        2             168\n",
              "14  user_0    2018        1    2019        3             136\n",
              "15  user_0    2018        1    2019        4             704\n",
              "16  user_0    2018        1    2019        5              16\n",
              "17  user_1    2018        1    2018        1              21\n",
              "18  user_1    2018        1    2018        3              63\n",
              "19  user_1    2018        1    2018        4             266"
            ]
          },
          "metadata": {
            "tags": []
          },
          "execution_count": 83
        }
      ]
    },
    {
      "cell_type": "code",
      "metadata": {
        "id": "0OHtcf3w39an",
        "colab_type": "code",
        "outputId": "6808e51f-5412-4eae-92dc-5787dea54a48",
        "colab": {
          "base_uri": "https://localhost:8080/",
          "height": 272
        }
      },
      "source": [
        "# We can see here most of the users are created in 2018 and only 22625 were created in 2019\n",
        "df_main.groupby(['u_year','u_month'])['user_id'].count()"
      ],
      "execution_count": 84,
      "outputs": [
        {
          "output_type": "execute_result",
          "data": {
            "text/plain": [
              "u_year  u_month\n",
              "2018    1          1939590\n",
              "        2          1285802\n",
              "        3          2428443\n",
              "        4          1418007\n",
              "        5          1802333\n",
              "        6          1719792\n",
              "        7          1472975\n",
              "        8          1922154\n",
              "        9          1316676\n",
              "        10          906287\n",
              "        11          805208\n",
              "        12          944657\n",
              "2019    1            22625\n",
              "Name: user_id, dtype: int64"
            ]
          },
          "metadata": {
            "tags": []
          },
          "execution_count": 84
        }
      ]
    },
    {
      "cell_type": "code",
      "metadata": {
        "id": "AEFKKFXJ3hMW",
        "colab_type": "code",
        "colab": {}
      },
      "source": [
        "# plt.rcParams['figure.figsize'] = 9,6\n",
        "# sns.countplot(df_main['u_year'])\n",
        "# plt.show()"
      ],
      "execution_count": 0,
      "outputs": []
    },
    {
      "cell_type": "code",
      "metadata": {
        "id": "35dny5drx3-e",
        "colab_type": "code",
        "outputId": "07bb96ac-3bf8-4e2a-94af-418b110ea6ab",
        "colab": {
          "base_uri": "https://localhost:8080/",
          "height": 359
        }
      },
      "source": [
        "d2 = df_main.groupby(['user_id','u_year','u_month','t_year','t_month'])['transaction_id'].count().reset_index()\n",
        "\n",
        "d2.head(10)"
      ],
      "execution_count": 86,
      "outputs": [
        {
          "output_type": "execute_result",
          "data": {
            "text/html": [
              "<div>\n",
              "<style scoped>\n",
              "    .dataframe tbody tr th:only-of-type {\n",
              "        vertical-align: middle;\n",
              "    }\n",
              "\n",
              "    .dataframe tbody tr th {\n",
              "        vertical-align: top;\n",
              "    }\n",
              "\n",
              "    .dataframe thead th {\n",
              "        text-align: right;\n",
              "    }\n",
              "</style>\n",
              "<table border=\"1\" class=\"dataframe\">\n",
              "  <thead>\n",
              "    <tr style=\"text-align: right;\">\n",
              "      <th></th>\n",
              "      <th>user_id</th>\n",
              "      <th>u_year</th>\n",
              "      <th>u_month</th>\n",
              "      <th>t_year</th>\n",
              "      <th>t_month</th>\n",
              "      <th>transaction_id</th>\n",
              "    </tr>\n",
              "  </thead>\n",
              "  <tbody>\n",
              "    <tr>\n",
              "      <th>0</th>\n",
              "      <td>user_0</td>\n",
              "      <td>2018</td>\n",
              "      <td>1</td>\n",
              "      <td>2018</td>\n",
              "      <td>1</td>\n",
              "      <td>152</td>\n",
              "    </tr>\n",
              "    <tr>\n",
              "      <th>1</th>\n",
              "      <td>user_0</td>\n",
              "      <td>2018</td>\n",
              "      <td>1</td>\n",
              "      <td>2018</td>\n",
              "      <td>2</td>\n",
              "      <td>112</td>\n",
              "    </tr>\n",
              "    <tr>\n",
              "      <th>2</th>\n",
              "      <td>user_0</td>\n",
              "      <td>2018</td>\n",
              "      <td>1</td>\n",
              "      <td>2018</td>\n",
              "      <td>3</td>\n",
              "      <td>328</td>\n",
              "    </tr>\n",
              "    <tr>\n",
              "      <th>3</th>\n",
              "      <td>user_0</td>\n",
              "      <td>2018</td>\n",
              "      <td>1</td>\n",
              "      <td>2018</td>\n",
              "      <td>4</td>\n",
              "      <td>96</td>\n",
              "    </tr>\n",
              "    <tr>\n",
              "      <th>4</th>\n",
              "      <td>user_0</td>\n",
              "      <td>2018</td>\n",
              "      <td>1</td>\n",
              "      <td>2018</td>\n",
              "      <td>5</td>\n",
              "      <td>144</td>\n",
              "    </tr>\n",
              "    <tr>\n",
              "      <th>5</th>\n",
              "      <td>user_0</td>\n",
              "      <td>2018</td>\n",
              "      <td>1</td>\n",
              "      <td>2018</td>\n",
              "      <td>6</td>\n",
              "      <td>224</td>\n",
              "    </tr>\n",
              "    <tr>\n",
              "      <th>6</th>\n",
              "      <td>user_0</td>\n",
              "      <td>2018</td>\n",
              "      <td>1</td>\n",
              "      <td>2018</td>\n",
              "      <td>7</td>\n",
              "      <td>376</td>\n",
              "    </tr>\n",
              "    <tr>\n",
              "      <th>7</th>\n",
              "      <td>user_0</td>\n",
              "      <td>2018</td>\n",
              "      <td>1</td>\n",
              "      <td>2018</td>\n",
              "      <td>8</td>\n",
              "      <td>168</td>\n",
              "    </tr>\n",
              "    <tr>\n",
              "      <th>8</th>\n",
              "      <td>user_0</td>\n",
              "      <td>2018</td>\n",
              "      <td>1</td>\n",
              "      <td>2018</td>\n",
              "      <td>9</td>\n",
              "      <td>40</td>\n",
              "    </tr>\n",
              "    <tr>\n",
              "      <th>9</th>\n",
              "      <td>user_0</td>\n",
              "      <td>2018</td>\n",
              "      <td>1</td>\n",
              "      <td>2018</td>\n",
              "      <td>10</td>\n",
              "      <td>216</td>\n",
              "    </tr>\n",
              "  </tbody>\n",
              "</table>\n",
              "</div>"
            ],
            "text/plain": [
              "  user_id  u_year  u_month  t_year  t_month  transaction_id\n",
              "0  user_0    2018        1    2018        1             152\n",
              "1  user_0    2018        1    2018        2             112\n",
              "2  user_0    2018        1    2018        3             328\n",
              "3  user_0    2018        1    2018        4              96\n",
              "4  user_0    2018        1    2018        5             144\n",
              "5  user_0    2018        1    2018        6             224\n",
              "6  user_0    2018        1    2018        7             376\n",
              "7  user_0    2018        1    2018        8             168\n",
              "8  user_0    2018        1    2018        9              40\n",
              "9  user_0    2018        1    2018       10             216"
            ]
          },
          "metadata": {
            "tags": []
          },
          "execution_count": 86
        }
      ]
    },
    {
      "cell_type": "code",
      "metadata": {
        "id": "VlGLhLvYzotl",
        "colab_type": "code",
        "colab": {}
      },
      "source": [
        "# Define a target metric to measure user engagement. How would you define an ​engaged vs. ​unengaged​ user?\n",
        "\n",
        "# If user was created in 2018 and he has not done much transaction in 2018 and 2019 he will treated as unengaged user if so he is engaged user."
      ],
      "execution_count": 0,
      "outputs": []
    },
    {
      "cell_type": "code",
      "metadata": {
        "id": "Niqhac701Jpt",
        "colab_type": "code",
        "outputId": "03f7a876-1f65-4b9c-9c6c-1ec7345cd36e",
        "colab": {
          "base_uri": "https://localhost:8080/",
          "height": 204
        }
      },
      "source": [
        "# These are the users which are identified as unengaged users as there numbers of trasactions are less  than 1 transactions per month\n",
        "unengaged_users = d2[d2['transaction_id']<12]\n",
        "\n",
        "unengaged_users.head()"
      ],
      "execution_count": 88,
      "outputs": [
        {
          "output_type": "execute_result",
          "data": {
            "text/html": [
              "<div>\n",
              "<style scoped>\n",
              "    .dataframe tbody tr th:only-of-type {\n",
              "        vertical-align: middle;\n",
              "    }\n",
              "\n",
              "    .dataframe tbody tr th {\n",
              "        vertical-align: top;\n",
              "    }\n",
              "\n",
              "    .dataframe thead th {\n",
              "        text-align: right;\n",
              "    }\n",
              "</style>\n",
              "<table border=\"1\" class=\"dataframe\">\n",
              "  <thead>\n",
              "    <tr style=\"text-align: right;\">\n",
              "      <th></th>\n",
              "      <th>user_id</th>\n",
              "      <th>u_year</th>\n",
              "      <th>u_month</th>\n",
              "      <th>t_year</th>\n",
              "      <th>t_month</th>\n",
              "      <th>transaction_id</th>\n",
              "    </tr>\n",
              "  </thead>\n",
              "  <tbody>\n",
              "    <tr>\n",
              "      <th>50</th>\n",
              "      <td>user_100</td>\n",
              "      <td>2018</td>\n",
              "      <td>1</td>\n",
              "      <td>2018</td>\n",
              "      <td>5</td>\n",
              "      <td>4</td>\n",
              "    </tr>\n",
              "    <tr>\n",
              "      <th>53</th>\n",
              "      <td>user_100</td>\n",
              "      <td>2018</td>\n",
              "      <td>1</td>\n",
              "      <td>2018</td>\n",
              "      <td>9</td>\n",
              "      <td>8</td>\n",
              "    </tr>\n",
              "    <tr>\n",
              "      <th>114</th>\n",
              "      <td>user_10007</td>\n",
              "      <td>2018</td>\n",
              "      <td>8</td>\n",
              "      <td>2019</td>\n",
              "      <td>3</td>\n",
              "      <td>9</td>\n",
              "    </tr>\n",
              "    <tr>\n",
              "      <th>130</th>\n",
              "      <td>user_10009</td>\n",
              "      <td>2018</td>\n",
              "      <td>8</td>\n",
              "      <td>2019</td>\n",
              "      <td>5</td>\n",
              "      <td>7</td>\n",
              "    </tr>\n",
              "    <tr>\n",
              "      <th>133</th>\n",
              "      <td>user_1001</td>\n",
              "      <td>2018</td>\n",
              "      <td>1</td>\n",
              "      <td>2018</td>\n",
              "      <td>6</td>\n",
              "      <td>4</td>\n",
              "    </tr>\n",
              "  </tbody>\n",
              "</table>\n",
              "</div>"
            ],
            "text/plain": [
              "        user_id  u_year  u_month  t_year  t_month  transaction_id\n",
              "50     user_100    2018        1    2018        5               4\n",
              "53     user_100    2018        1    2018        9               8\n",
              "114  user_10007    2018        8    2019        3               9\n",
              "130  user_10009    2018        8    2019        5               7\n",
              "133   user_1001    2018        1    2018        6               4"
            ]
          },
          "metadata": {
            "tags": []
          },
          "execution_count": 88
        }
      ]
    },
    {
      "cell_type": "code",
      "metadata": {
        "id": "pPbhlb-rzozO",
        "colab_type": "code",
        "colab": {}
      },
      "source": [
        "# Now I will make my Target class as Engaged or Unengaged in terms of Zero and One where Zero represents Engaged and 1 represent unengaged"
      ],
      "execution_count": 0,
      "outputs": []
    },
    {
      "cell_type": "code",
      "metadata": {
        "id": "ZYl__gbn-Dxi",
        "colab_type": "code",
        "outputId": "6fd305a2-133f-462d-98db-f14307c0e9d7",
        "colab": {
          "base_uri": "https://localhost:8080/",
          "height": 136
        }
      },
      "source": [
        "unengaged_users.isna().sum()"
      ],
      "execution_count": 90,
      "outputs": [
        {
          "output_type": "execute_result",
          "data": {
            "text/plain": [
              "user_id           0\n",
              "u_year            0\n",
              "u_month           0\n",
              "t_year            0\n",
              "t_month           0\n",
              "transaction_id    0\n",
              "dtype: int64"
            ]
          },
          "metadata": {
            "tags": []
          },
          "execution_count": 90
        }
      ]
    },
    {
      "cell_type": "code",
      "metadata": {
        "id": "RHUyvGro77Bq",
        "colab_type": "code",
        "colab": {}
      },
      "source": [
        "df_main_new = df_main.copy()"
      ],
      "execution_count": 0,
      "outputs": []
    },
    {
      "cell_type": "code",
      "metadata": {
        "id": "Yqv6HgLN9tHe",
        "colab_type": "code",
        "colab": {}
      },
      "source": [
        "# [(count,userid) for (count,userid) in enumerate(unengaged_users_list)]"
      ],
      "execution_count": 0,
      "outputs": []
    },
    {
      "cell_type": "code",
      "metadata": {
        "id": "Kc1i3P0g7Xxf",
        "colab_type": "code",
        "colab": {}
      },
      "source": [
        "# [userid for userid in unengaged_users_list if userid in list(df_main_new['user_id'])]"
      ],
      "execution_count": 0,
      "outputs": []
    },
    {
      "cell_type": "code",
      "metadata": {
        "id": "GepHLRY9FiyJ",
        "colab_type": "code",
        "outputId": "6f50cf52-2f84-4109-a9ed-bb3429d2bb04",
        "colab": {
          "base_uri": "https://localhost:8080/",
          "height": 439
        }
      },
      "source": [
        "# IF the user was created in 2018 and we have data till 2019 still if he has done total trnsacation less than 12 will be considered as unengaged\n",
        "df_main_new[(df_main_new['tran_count_each_user']<=12) & (df_main_new['u_year']==2018)]\n",
        "\n"
      ],
      "execution_count": 94,
      "outputs": [
        {
          "output_type": "execute_result",
          "data": {
            "text/html": [
              "<div>\n",
              "<style scoped>\n",
              "    .dataframe tbody tr th:only-of-type {\n",
              "        vertical-align: middle;\n",
              "    }\n",
              "\n",
              "    .dataframe tbody tr th {\n",
              "        vertical-align: top;\n",
              "    }\n",
              "\n",
              "    .dataframe thead th {\n",
              "        text-align: right;\n",
              "    }\n",
              "</style>\n",
              "<table border=\"1\" class=\"dataframe\">\n",
              "  <thead>\n",
              "    <tr style=\"text-align: right;\">\n",
              "      <th></th>\n",
              "      <th>transaction_id</th>\n",
              "      <th>transactions_type</th>\n",
              "      <th>transactions_currency</th>\n",
              "      <th>amount_usd</th>\n",
              "      <th>transactions_state</th>\n",
              "      <th>direction</th>\n",
              "      <th>user_id</th>\n",
              "      <th>t_month</th>\n",
              "      <th>t_year</th>\n",
              "      <th>t_day</th>\n",
              "      <th>birth_year</th>\n",
              "      <th>country</th>\n",
              "      <th>city</th>\n",
              "      <th>user_settings_crypto_unlocked</th>\n",
              "      <th>plan</th>\n",
              "      <th>attributes_notifications_marketing_email</th>\n",
              "      <th>num_contacts</th>\n",
              "      <th>u_month</th>\n",
              "      <th>u_year</th>\n",
              "      <th>u_day</th>\n",
              "      <th>brand</th>\n",
              "      <th>reason</th>\n",
              "      <th>channel</th>\n",
              "      <th>status</th>\n",
              "      <th>n_month</th>\n",
              "      <th>n_year</th>\n",
              "      <th>n_day</th>\n",
              "      <th>tran_count_each_user</th>\n",
              "    </tr>\n",
              "  </thead>\n",
              "  <tbody>\n",
              "    <tr>\n",
              "      <th>411003</th>\n",
              "      <td>transaction_2283</td>\n",
              "      <td>CARD_PAYMENT</td>\n",
              "      <td>SEK</td>\n",
              "      <td>0.75</td>\n",
              "      <td>COMPLETED</td>\n",
              "      <td>OUTBOUND</td>\n",
              "      <td>user_830</td>\n",
              "      <td>3</td>\n",
              "      <td>2018</td>\n",
              "      <td>29</td>\n",
              "      <td>1981</td>\n",
              "      <td>SE</td>\n",
              "      <td>Kungälv</td>\n",
              "      <td>0</td>\n",
              "      <td>STANDARD</td>\n",
              "      <td>2</td>\n",
              "      <td>0</td>\n",
              "      <td>1</td>\n",
              "      <td>2018</td>\n",
              "      <td>23</td>\n",
              "      <td>Apple</td>\n",
              "      <td>NO_INITIAL_CARD_ORDER</td>\n",
              "      <td>EMAIL</td>\n",
              "      <td>SENT</td>\n",
              "      <td>1</td>\n",
              "      <td>2018</td>\n",
              "      <td>27</td>\n",
              "      <td>12</td>\n",
              "    </tr>\n",
              "    <tr>\n",
              "      <th>411004</th>\n",
              "      <td>transaction_2283</td>\n",
              "      <td>CARD_PAYMENT</td>\n",
              "      <td>SEK</td>\n",
              "      <td>0.75</td>\n",
              "      <td>COMPLETED</td>\n",
              "      <td>OUTBOUND</td>\n",
              "      <td>user_830</td>\n",
              "      <td>3</td>\n",
              "      <td>2018</td>\n",
              "      <td>29</td>\n",
              "      <td>1981</td>\n",
              "      <td>SE</td>\n",
              "      <td>Kungälv</td>\n",
              "      <td>0</td>\n",
              "      <td>STANDARD</td>\n",
              "      <td>2</td>\n",
              "      <td>0</td>\n",
              "      <td>1</td>\n",
              "      <td>2018</td>\n",
              "      <td>23</td>\n",
              "      <td>Apple</td>\n",
              "      <td>FIFTH_PAYMENT_PROMO</td>\n",
              "      <td>EMAIL</td>\n",
              "      <td>SENT</td>\n",
              "      <td>2</td>\n",
              "      <td>2019</td>\n",
              "      <td>12</td>\n",
              "      <td>12</td>\n",
              "    </tr>\n",
              "    <tr>\n",
              "      <th>411005</th>\n",
              "      <td>transaction_2283</td>\n",
              "      <td>CARD_PAYMENT</td>\n",
              "      <td>SEK</td>\n",
              "      <td>0.75</td>\n",
              "      <td>COMPLETED</td>\n",
              "      <td>OUTBOUND</td>\n",
              "      <td>user_830</td>\n",
              "      <td>3</td>\n",
              "      <td>2018</td>\n",
              "      <td>29</td>\n",
              "      <td>1981</td>\n",
              "      <td>SE</td>\n",
              "      <td>Kungälv</td>\n",
              "      <td>0</td>\n",
              "      <td>STANDARD</td>\n",
              "      <td>2</td>\n",
              "      <td>0</td>\n",
              "      <td>1</td>\n",
              "      <td>2018</td>\n",
              "      <td>23</td>\n",
              "      <td>Apple</td>\n",
              "      <td>FIFTH_PAYMENT_PROMO</td>\n",
              "      <td>PUSH</td>\n",
              "      <td>SENT</td>\n",
              "      <td>2</td>\n",
              "      <td>2019</td>\n",
              "      <td>12</td>\n",
              "      <td>12</td>\n",
              "    </tr>\n",
              "    <tr>\n",
              "      <th>411006</th>\n",
              "      <td>transaction_2283</td>\n",
              "      <td>CARD_PAYMENT</td>\n",
              "      <td>SEK</td>\n",
              "      <td>0.75</td>\n",
              "      <td>COMPLETED</td>\n",
              "      <td>OUTBOUND</td>\n",
              "      <td>user_830</td>\n",
              "      <td>3</td>\n",
              "      <td>2018</td>\n",
              "      <td>29</td>\n",
              "      <td>1981</td>\n",
              "      <td>SE</td>\n",
              "      <td>Kungälv</td>\n",
              "      <td>0</td>\n",
              "      <td>STANDARD</td>\n",
              "      <td>2</td>\n",
              "      <td>0</td>\n",
              "      <td>1</td>\n",
              "      <td>2018</td>\n",
              "      <td>23</td>\n",
              "      <td>Apple</td>\n",
              "      <td>NO_INITIAL_CARD_ORDER</td>\n",
              "      <td>EMAIL</td>\n",
              "      <td>SENT</td>\n",
              "      <td>2</td>\n",
              "      <td>2018</td>\n",
              "      <td>7</td>\n",
              "      <td>12</td>\n",
              "    </tr>\n",
              "    <tr>\n",
              "      <th>411007</th>\n",
              "      <td>transaction_2283</td>\n",
              "      <td>CARD_PAYMENT</td>\n",
              "      <td>SEK</td>\n",
              "      <td>0.75</td>\n",
              "      <td>COMPLETED</td>\n",
              "      <td>OUTBOUND</td>\n",
              "      <td>user_830</td>\n",
              "      <td>3</td>\n",
              "      <td>2018</td>\n",
              "      <td>29</td>\n",
              "      <td>1981</td>\n",
              "      <td>SE</td>\n",
              "      <td>Kungälv</td>\n",
              "      <td>0</td>\n",
              "      <td>STANDARD</td>\n",
              "      <td>2</td>\n",
              "      <td>0</td>\n",
              "      <td>1</td>\n",
              "      <td>2018</td>\n",
              "      <td>23</td>\n",
              "      <td>Apple</td>\n",
              "      <td>NO_INITIAL_CARD_ORDER</td>\n",
              "      <td>EMAIL</td>\n",
              "      <td>SENT</td>\n",
              "      <td>2</td>\n",
              "      <td>2018</td>\n",
              "      <td>1</td>\n",
              "      <td>12</td>\n",
              "    </tr>\n",
              "    <tr>\n",
              "      <th>...</th>\n",
              "      <td>...</td>\n",
              "      <td>...</td>\n",
              "      <td>...</td>\n",
              "      <td>...</td>\n",
              "      <td>...</td>\n",
              "      <td>...</td>\n",
              "      <td>...</td>\n",
              "      <td>...</td>\n",
              "      <td>...</td>\n",
              "      <td>...</td>\n",
              "      <td>...</td>\n",
              "      <td>...</td>\n",
              "      <td>...</td>\n",
              "      <td>...</td>\n",
              "      <td>...</td>\n",
              "      <td>...</td>\n",
              "      <td>...</td>\n",
              "      <td>...</td>\n",
              "      <td>...</td>\n",
              "      <td>...</td>\n",
              "      <td>...</td>\n",
              "      <td>...</td>\n",
              "      <td>...</td>\n",
              "      <td>...</td>\n",
              "      <td>...</td>\n",
              "      <td>...</td>\n",
              "      <td>...</td>\n",
              "      <td>...</td>\n",
              "    </tr>\n",
              "    <tr>\n",
              "      <th>17984544</th>\n",
              "      <td>transaction_2722402</td>\n",
              "      <td>TOPUP</td>\n",
              "      <td>EUR</td>\n",
              "      <td>0.85</td>\n",
              "      <td>FAILED</td>\n",
              "      <td>INBOUND</td>\n",
              "      <td>user_17490</td>\n",
              "      <td>5</td>\n",
              "      <td>2019</td>\n",
              "      <td>10</td>\n",
              "      <td>1985</td>\n",
              "      <td>FR</td>\n",
              "      <td>Paris</td>\n",
              "      <td>0</td>\n",
              "      <td>STANDARD</td>\n",
              "      <td>1</td>\n",
              "      <td>0</td>\n",
              "      <td>12</td>\n",
              "      <td>2018</td>\n",
              "      <td>9</td>\n",
              "      <td>Apple</td>\n",
              "      <td>NO_INITIAL_FREE_PROMOPAGE_CARD_ORDER</td>\n",
              "      <td>EMAIL</td>\n",
              "      <td>SENT</td>\n",
              "      <td>1</td>\n",
              "      <td>2019</td>\n",
              "      <td>1</td>\n",
              "      <td>3</td>\n",
              "    </tr>\n",
              "    <tr>\n",
              "      <th>17984545</th>\n",
              "      <td>transaction_2722402</td>\n",
              "      <td>TOPUP</td>\n",
              "      <td>EUR</td>\n",
              "      <td>0.85</td>\n",
              "      <td>FAILED</td>\n",
              "      <td>INBOUND</td>\n",
              "      <td>user_17490</td>\n",
              "      <td>5</td>\n",
              "      <td>2019</td>\n",
              "      <td>10</td>\n",
              "      <td>1985</td>\n",
              "      <td>FR</td>\n",
              "      <td>Paris</td>\n",
              "      <td>0</td>\n",
              "      <td>STANDARD</td>\n",
              "      <td>1</td>\n",
              "      <td>0</td>\n",
              "      <td>12</td>\n",
              "      <td>2018</td>\n",
              "      <td>9</td>\n",
              "      <td>Apple</td>\n",
              "      <td>NO_INITIAL_FREE_PROMOPAGE_CARD_ORDER</td>\n",
              "      <td>EMAIL</td>\n",
              "      <td>SENT</td>\n",
              "      <td>1</td>\n",
              "      <td>2019</td>\n",
              "      <td>5</td>\n",
              "      <td>3</td>\n",
              "    </tr>\n",
              "    <tr>\n",
              "      <th>17984546</th>\n",
              "      <td>transaction_2730860</td>\n",
              "      <td>TRANSFER</td>\n",
              "      <td>EUR</td>\n",
              "      <td>12.77</td>\n",
              "      <td>COMPLETED</td>\n",
              "      <td>INBOUND</td>\n",
              "      <td>user_15011</td>\n",
              "      <td>5</td>\n",
              "      <td>2019</td>\n",
              "      <td>7</td>\n",
              "      <td>1993</td>\n",
              "      <td>IE</td>\n",
              "      <td>Killiney</td>\n",
              "      <td>0</td>\n",
              "      <td>STANDARD</td>\n",
              "      <td>1</td>\n",
              "      <td>52</td>\n",
              "      <td>10</td>\n",
              "      <td>2018</td>\n",
              "      <td>11</td>\n",
              "      <td>Apple</td>\n",
              "      <td>NO_INITIAL_FREE_PROMOPAGE_CARD_ORDER</td>\n",
              "      <td>EMAIL</td>\n",
              "      <td>SENT</td>\n",
              "      <td>11</td>\n",
              "      <td>2018</td>\n",
              "      <td>5</td>\n",
              "      <td>3</td>\n",
              "    </tr>\n",
              "    <tr>\n",
              "      <th>17984547</th>\n",
              "      <td>transaction_2730860</td>\n",
              "      <td>TRANSFER</td>\n",
              "      <td>EUR</td>\n",
              "      <td>12.77</td>\n",
              "      <td>COMPLETED</td>\n",
              "      <td>INBOUND</td>\n",
              "      <td>user_15011</td>\n",
              "      <td>5</td>\n",
              "      <td>2019</td>\n",
              "      <td>7</td>\n",
              "      <td>1993</td>\n",
              "      <td>IE</td>\n",
              "      <td>Killiney</td>\n",
              "      <td>0</td>\n",
              "      <td>STANDARD</td>\n",
              "      <td>1</td>\n",
              "      <td>52</td>\n",
              "      <td>10</td>\n",
              "      <td>2018</td>\n",
              "      <td>11</td>\n",
              "      <td>Apple</td>\n",
              "      <td>NO_INITIAL_FREE_PROMOPAGE_CARD_ORDER</td>\n",
              "      <td>EMAIL</td>\n",
              "      <td>SENT</td>\n",
              "      <td>11</td>\n",
              "      <td>2018</td>\n",
              "      <td>1</td>\n",
              "      <td>3</td>\n",
              "    </tr>\n",
              "    <tr>\n",
              "      <th>17984548</th>\n",
              "      <td>transaction_2730860</td>\n",
              "      <td>TRANSFER</td>\n",
              "      <td>EUR</td>\n",
              "      <td>12.77</td>\n",
              "      <td>COMPLETED</td>\n",
              "      <td>INBOUND</td>\n",
              "      <td>user_15011</td>\n",
              "      <td>5</td>\n",
              "      <td>2019</td>\n",
              "      <td>7</td>\n",
              "      <td>1993</td>\n",
              "      <td>IE</td>\n",
              "      <td>Killiney</td>\n",
              "      <td>0</td>\n",
              "      <td>STANDARD</td>\n",
              "      <td>1</td>\n",
              "      <td>52</td>\n",
              "      <td>10</td>\n",
              "      <td>2018</td>\n",
              "      <td>11</td>\n",
              "      <td>Apple</td>\n",
              "      <td>NO_INITIAL_CARD_ORDER</td>\n",
              "      <td>EMAIL</td>\n",
              "      <td>SENT</td>\n",
              "      <td>10</td>\n",
              "      <td>2018</td>\n",
              "      <td>12</td>\n",
              "      <td>3</td>\n",
              "    </tr>\n",
              "  </tbody>\n",
              "</table>\n",
              "<p>8467 rows × 28 columns</p>\n",
              "</div>"
            ],
            "text/plain": [
              "               transaction_id transactions_type  ... n_day  tran_count_each_user\n",
              "411003       transaction_2283      CARD_PAYMENT  ...    27                    12\n",
              "411004       transaction_2283      CARD_PAYMENT  ...    12                    12\n",
              "411005       transaction_2283      CARD_PAYMENT  ...    12                    12\n",
              "411006       transaction_2283      CARD_PAYMENT  ...     7                    12\n",
              "411007       transaction_2283      CARD_PAYMENT  ...     1                    12\n",
              "...                       ...               ...  ...   ...                   ...\n",
              "17984544  transaction_2722402             TOPUP  ...     1                     3\n",
              "17984545  transaction_2722402             TOPUP  ...     5                     3\n",
              "17984546  transaction_2730860          TRANSFER  ...     5                     3\n",
              "17984547  transaction_2730860          TRANSFER  ...     1                     3\n",
              "17984548  transaction_2730860          TRANSFER  ...    12                     3\n",
              "\n",
              "[8467 rows x 28 columns]"
            ]
          },
          "metadata": {
            "tags": []
          },
          "execution_count": 94
        }
      ]
    },
    {
      "cell_type": "code",
      "metadata": {
        "id": "nEB1j089FjEi",
        "colab_type": "code",
        "colab": {}
      },
      "source": [
        "# Unengaged =1\n",
        "# Engaged =0\n",
        "df_main_new['engagedORUnengaged'] = np.where((df_main_new['tran_count_each_user']<=12) & (df_main_new['u_year']==2018),1 ,0)"
      ],
      "execution_count": 0,
      "outputs": []
    },
    {
      "cell_type": "code",
      "metadata": {
        "id": "Jqdev_rpAT-U",
        "colab_type": "code",
        "outputId": "54d7c095-018b-4f6f-9d72-324e3205e30b",
        "colab": {
          "base_uri": "https://localhost:8080/",
          "height": 68
        }
      },
      "source": [
        "df_main_new['engagedORUnengaged'].value_counts()"
      ],
      "execution_count": 96,
      "outputs": [
        {
          "output_type": "execute_result",
          "data": {
            "text/plain": [
              "0    17976082\n",
              "1        8467\n",
              "Name: engagedORUnengaged, dtype: int64"
            ]
          },
          "metadata": {
            "tags": []
          },
          "execution_count": 96
        }
      ]
    },
    {
      "cell_type": "code",
      "metadata": {
        "id": "DLFiPiSWJAXG",
        "colab_type": "code",
        "colab": {}
      },
      "source": [
        "# sns.countplot(df_main_new['engagedORUnengaged'])"
      ],
      "execution_count": 0,
      "outputs": []
    },
    {
      "cell_type": "code",
      "metadata": {
        "id": "5B70DLwUJHL-",
        "colab_type": "code",
        "colab": {}
      },
      "source": [
        "# Our Dataset is Highly Skewed so that needs to be treated first \n",
        "# Our Data has catagorical variables that needs to be converted to numerical"
      ],
      "execution_count": 0,
      "outputs": []
    },
    {
      "cell_type": "code",
      "metadata": {
        "id": "4aRwq0IqKPSX",
        "colab_type": "code",
        "outputId": "72c1b0d6-0721-4399-ce32-6b5083bebb2b",
        "colab": {
          "base_uri": "https://localhost:8080/",
          "height": 527
        }
      },
      "source": [
        "df_main_new.dtypes"
      ],
      "execution_count": 99,
      "outputs": [
        {
          "output_type": "execute_result",
          "data": {
            "text/plain": [
              "transaction_id                               object\n",
              "transactions_type                            object\n",
              "transactions_currency                        object\n",
              "amount_usd                                  float64\n",
              "transactions_state                           object\n",
              "direction                                    object\n",
              "user_id                                      object\n",
              "t_month                                       int64\n",
              "t_year                                        int64\n",
              "t_day                                         int64\n",
              "birth_year                                    int64\n",
              "country                                      object\n",
              "city                                         object\n",
              "user_settings_crypto_unlocked                 int64\n",
              "plan                                         object\n",
              "attributes_notifications_marketing_email      int64\n",
              "num_contacts                                  int64\n",
              "u_month                                       int64\n",
              "u_year                                        int64\n",
              "u_day                                         int64\n",
              "brand                                        object\n",
              "reason                                       object\n",
              "channel                                      object\n",
              "status                                       object\n",
              "n_month                                       int64\n",
              "n_year                                        int64\n",
              "n_day                                         int64\n",
              "tran_count_each_user                          int64\n",
              "engagedORUnengaged                            int64\n",
              "dtype: object"
            ]
          },
          "metadata": {
            "tags": []
          },
          "execution_count": 99
        }
      ]
    },
    {
      "cell_type": "code",
      "metadata": {
        "id": "-ucPX8fmhKEJ",
        "colab_type": "code",
        "outputId": "2f175c00-51dd-43ca-8c32-fba5777dd072",
        "colab": {
          "base_uri": "https://localhost:8080/",
          "height": 68
        }
      },
      "source": [
        "df_main_new['direction'].value_counts()"
      ],
      "execution_count": 100,
      "outputs": [
        {
          "output_type": "execute_result",
          "data": {
            "text/plain": [
              "OUTBOUND    14534768\n",
              "INBOUND      3449781\n",
              "Name: direction, dtype: int64"
            ]
          },
          "metadata": {
            "tags": []
          },
          "execution_count": 100
        }
      ]
    },
    {
      "cell_type": "code",
      "metadata": {
        "id": "XJp03xn-GHC1",
        "colab_type": "code",
        "outputId": "f6ddc924-f200-40b6-e342-8e6fd6a09f3c",
        "colab": {
          "base_uri": "https://localhost:8080/",
          "height": 170
        }
      },
      "source": [
        "# Sepearting catagorical and numerical columns \n",
        "\n",
        "cat_columns = [col for col in df_main_new.select_dtypes('object') if col not in ['transaction_id','user_id','city','transactions_currency','country']]\n",
        "\n",
        "num_columns =df_main_new.select_dtypes(['float64','int64']).columns\n",
        "\n",
        "print(cat_columns)\n",
        "\n",
        "print('\\n')\n",
        "\n",
        "print(num_columns)"
      ],
      "execution_count": 101,
      "outputs": [
        {
          "output_type": "stream",
          "text": [
            "['transactions_type', 'transactions_state', 'direction', 'plan', 'brand', 'reason', 'channel', 'status']\n",
            "\n",
            "\n",
            "Index(['amount_usd', 't_month', 't_year', 't_day', 'birth_year',\n",
            "       'user_settings_crypto_unlocked',\n",
            "       'attributes_notifications_marketing_email', 'num_contacts', 'u_month',\n",
            "       'u_year', 'u_day', 'n_month', 'n_year', 'n_day', 'tran_count_each_user',\n",
            "       'engagedORUnengaged'],\n",
            "      dtype='object')\n"
          ],
          "name": "stdout"
        }
      ]
    },
    {
      "cell_type": "code",
      "metadata": {
        "id": "o7dueJajGHTx",
        "colab_type": "code",
        "colab": {}
      },
      "source": [
        "# from sklearn.model_selection import train_test_split\n",
        "# from sklearn.preprocessing import StandardScaler\n",
        "# from sklearn.ensemble import RandomForestClassifier\n",
        "# from sklearn.metrics import auc,roc_auc_score,accuracy_score,confusion_matrix\n",
        "# from sklearn.model_selection import RandomizedSearchCV,GridSearchCV\n",
        "# from sklearn.linear_model import LogisticRegression\n",
        "# from imblearn.over_sampling import SMOTE"
      ],
      "execution_count": 0,
      "outputs": []
    },
    {
      "cell_type": "code",
      "metadata": {
        "id": "n5ADWGn0rx74",
        "colab_type": "code",
        "outputId": "53126ad5-4442-4050-ce37-44ed915246e1",
        "colab": {
          "base_uri": "https://localhost:8080/",
          "height": 68
        }
      },
      "source": [
        "who"
      ],
      "execution_count": 103,
      "outputs": [
        {
          "output_type": "stream",
          "text": [
            "cat_columns\t col\t d\t d1\t d2\t device\t df_main\t df_main_new\t notification\t \n",
            "np\t num_columns\t os\t pd\t plt\t pp\t sns\t transaction\t unengaged_users\t \n",
            "users\t warnings\t \n"
          ],
          "name": "stdout"
        }
      ]
    },
    {
      "cell_type": "code",
      "metadata": {
        "id": "L-2fSfJMr2S5",
        "colab_type": "code",
        "colab": {}
      },
      "source": [
        "del d,d1,d2,df_main,notification,transaction,users,device"
      ],
      "execution_count": 0,
      "outputs": []
    },
    {
      "cell_type": "code",
      "metadata": {
        "id": "gbycOtRWGHIy",
        "colab_type": "code",
        "colab": {}
      },
      "source": [
        "#we have to drop the column transaction_id,user_id,city due to very high cardinality\n",
        "\n",
        "del df_main_new['transaction_id']\n",
        "del df_main_new['user_id']\n",
        "del df_main_new['city']"
      ],
      "execution_count": 0,
      "outputs": []
    },
    {
      "cell_type": "code",
      "metadata": {
        "id": "yKrCeo7bI1w-",
        "colab_type": "code",
        "outputId": "660ddee9-2d42-45be-e85d-8ec22e2ecfc7",
        "colab": {
          "base_uri": "https://localhost:8080/",
          "height": 962
        }
      },
      "source": [
        "#Checking the correlation of each variables\n",
        "\n",
        "colormap = plt.cm.magma\n",
        "plt.figure(figsize=(16,12))\n",
        "plt.title('Pearson correlation of continuous features', y=1.05, size=15)\n",
        "sns.heatmap(df_main_new.corr(),linewidths=0.1,vmax=1.0, square=True, \n",
        "            cmap=colormap, linecolor='white', annot=True)"
      ],
      "execution_count": 106,
      "outputs": [
        {
          "output_type": "execute_result",
          "data": {
            "text/plain": [
              "<matplotlib.axes._subplots.AxesSubplot at 0x7f3d08901d68>"
            ]
          },
          "metadata": {
            "tags": []
          },
          "execution_count": 106
        },
        {
          "output_type": "display_data",
          "data": {
            "image/png": "[encoded data removed]",
            "text/plain": [
              "<Figure size 1152x864 with 2 Axes>"
            ]
          },
          "metadata": {
            "tags": []
          }
        }
      ]
    },
    {
      "cell_type": "code",
      "metadata": {
        "id": "_ROWJqmyYUqR",
        "colab_type": "code",
        "outputId": "447383f6-7c0a-4c21-eacb-26d29c0ca23f",
        "colab": {
          "base_uri": "https://localhost:8080/",
          "height": 224
        }
      },
      "source": [
        "df_main_new.head()"
      ],
      "execution_count": 107,
      "outputs": [
        {
          "output_type": "execute_result",
          "data": {
            "text/html": [
              "<div>\n",
              "<style scoped>\n",
              "    .dataframe tbody tr th:only-of-type {\n",
              "        vertical-align: middle;\n",
              "    }\n",
              "\n",
              "    .dataframe tbody tr th {\n",
              "        vertical-align: top;\n",
              "    }\n",
              "\n",
              "    .dataframe thead th {\n",
              "        text-align: right;\n",
              "    }\n",
              "</style>\n",
              "<table border=\"1\" class=\"dataframe\">\n",
              "  <thead>\n",
              "    <tr style=\"text-align: right;\">\n",
              "      <th></th>\n",
              "      <th>transactions_type</th>\n",
              "      <th>transactions_currency</th>\n",
              "      <th>amount_usd</th>\n",
              "      <th>transactions_state</th>\n",
              "      <th>direction</th>\n",
              "      <th>t_month</th>\n",
              "      <th>t_year</th>\n",
              "      <th>t_day</th>\n",
              "      <th>birth_year</th>\n",
              "      <th>country</th>\n",
              "      <th>user_settings_crypto_unlocked</th>\n",
              "      <th>plan</th>\n",
              "      <th>attributes_notifications_marketing_email</th>\n",
              "      <th>num_contacts</th>\n",
              "      <th>u_month</th>\n",
              "      <th>u_year</th>\n",
              "      <th>u_day</th>\n",
              "      <th>brand</th>\n",
              "      <th>reason</th>\n",
              "      <th>channel</th>\n",
              "      <th>status</th>\n",
              "      <th>n_month</th>\n",
              "      <th>n_year</th>\n",
              "      <th>n_day</th>\n",
              "      <th>tran_count_each_user</th>\n",
              "      <th>engagedORUnengaged</th>\n",
              "    </tr>\n",
              "  </thead>\n",
              "  <tbody>\n",
              "    <tr>\n",
              "      <th>0</th>\n",
              "      <td>TRANSFER</td>\n",
              "      <td>AED</td>\n",
              "      <td>4.55</td>\n",
              "      <td>COMPLETED</td>\n",
              "      <td>OUTBOUND</td>\n",
              "      <td>4</td>\n",
              "      <td>2018</td>\n",
              "      <td>3</td>\n",
              "      <td>1993</td>\n",
              "      <td>GB</td>\n",
              "      <td>0</td>\n",
              "      <td>STANDARD</td>\n",
              "      <td>1</td>\n",
              "      <td>1</td>\n",
              "      <td>1</td>\n",
              "      <td>2018</td>\n",
              "      <td>11</td>\n",
              "      <td>Android</td>\n",
              "      <td>REENGAGEMENT_ACTIVE_FUNDS</td>\n",
              "      <td>PUSH</td>\n",
              "      <td>SENT</td>\n",
              "      <td>11</td>\n",
              "      <td>2018</td>\n",
              "      <td>28</td>\n",
              "      <td>522</td>\n",
              "      <td>0</td>\n",
              "    </tr>\n",
              "    <tr>\n",
              "      <th>1</th>\n",
              "      <td>TRANSFER</td>\n",
              "      <td>AED</td>\n",
              "      <td>4.55</td>\n",
              "      <td>COMPLETED</td>\n",
              "      <td>OUTBOUND</td>\n",
              "      <td>4</td>\n",
              "      <td>2018</td>\n",
              "      <td>3</td>\n",
              "      <td>1993</td>\n",
              "      <td>GB</td>\n",
              "      <td>0</td>\n",
              "      <td>STANDARD</td>\n",
              "      <td>1</td>\n",
              "      <td>1</td>\n",
              "      <td>1</td>\n",
              "      <td>2018</td>\n",
              "      <td>11</td>\n",
              "      <td>Android</td>\n",
              "      <td>METAL_GAME_START</td>\n",
              "      <td>EMAIL</td>\n",
              "      <td>FAILED</td>\n",
              "      <td>2</td>\n",
              "      <td>2019</td>\n",
              "      <td>24</td>\n",
              "      <td>522</td>\n",
              "      <td>0</td>\n",
              "    </tr>\n",
              "    <tr>\n",
              "      <th>2</th>\n",
              "      <td>TRANSFER</td>\n",
              "      <td>AED</td>\n",
              "      <td>14.47</td>\n",
              "      <td>COMPLETED</td>\n",
              "      <td>OUTBOUND</td>\n",
              "      <td>4</td>\n",
              "      <td>2018</td>\n",
              "      <td>8</td>\n",
              "      <td>1993</td>\n",
              "      <td>GB</td>\n",
              "      <td>0</td>\n",
              "      <td>STANDARD</td>\n",
              "      <td>1</td>\n",
              "      <td>1</td>\n",
              "      <td>1</td>\n",
              "      <td>2018</td>\n",
              "      <td>11</td>\n",
              "      <td>Android</td>\n",
              "      <td>REENGAGEMENT_ACTIVE_FUNDS</td>\n",
              "      <td>PUSH</td>\n",
              "      <td>SENT</td>\n",
              "      <td>11</td>\n",
              "      <td>2018</td>\n",
              "      <td>28</td>\n",
              "      <td>522</td>\n",
              "      <td>0</td>\n",
              "    </tr>\n",
              "    <tr>\n",
              "      <th>3</th>\n",
              "      <td>TRANSFER</td>\n",
              "      <td>AED</td>\n",
              "      <td>14.47</td>\n",
              "      <td>COMPLETED</td>\n",
              "      <td>OUTBOUND</td>\n",
              "      <td>4</td>\n",
              "      <td>2018</td>\n",
              "      <td>8</td>\n",
              "      <td>1993</td>\n",
              "      <td>GB</td>\n",
              "      <td>0</td>\n",
              "      <td>STANDARD</td>\n",
              "      <td>1</td>\n",
              "      <td>1</td>\n",
              "      <td>1</td>\n",
              "      <td>2018</td>\n",
              "      <td>11</td>\n",
              "      <td>Android</td>\n",
              "      <td>METAL_GAME_START</td>\n",
              "      <td>EMAIL</td>\n",
              "      <td>FAILED</td>\n",
              "      <td>2</td>\n",
              "      <td>2019</td>\n",
              "      <td>24</td>\n",
              "      <td>522</td>\n",
              "      <td>0</td>\n",
              "    </tr>\n",
              "    <tr>\n",
              "      <th>4</th>\n",
              "      <td>ATM</td>\n",
              "      <td>AED</td>\n",
              "      <td>41.33</td>\n",
              "      <td>COMPLETED</td>\n",
              "      <td>OUTBOUND</td>\n",
              "      <td>4</td>\n",
              "      <td>2018</td>\n",
              "      <td>7</td>\n",
              "      <td>1993</td>\n",
              "      <td>GB</td>\n",
              "      <td>0</td>\n",
              "      <td>STANDARD</td>\n",
              "      <td>1</td>\n",
              "      <td>1</td>\n",
              "      <td>1</td>\n",
              "      <td>2018</td>\n",
              "      <td>11</td>\n",
              "      <td>Android</td>\n",
              "      <td>REENGAGEMENT_ACTIVE_FUNDS</td>\n",
              "      <td>PUSH</td>\n",
              "      <td>SENT</td>\n",
              "      <td>11</td>\n",
              "      <td>2018</td>\n",
              "      <td>28</td>\n",
              "      <td>522</td>\n",
              "      <td>0</td>\n",
              "    </tr>\n",
              "  </tbody>\n",
              "</table>\n",
              "</div>"
            ],
            "text/plain": [
              "  transactions_type  ... engagedORUnengaged\n",
              "0          TRANSFER  ...                  0\n",
              "1          TRANSFER  ...                  0\n",
              "2          TRANSFER  ...                  0\n",
              "3          TRANSFER  ...                  0\n",
              "4               ATM  ...                  0\n",
              "\n",
              "[5 rows x 26 columns]"
            ]
          },
          "metadata": {
            "tags": []
          },
          "execution_count": 107
        }
      ]
    },
    {
      "cell_type": "code",
      "metadata": {
        "id": "i3Gkef5ktxWK",
        "colab_type": "code",
        "colab": {
          "base_uri": "https://localhost:8080/",
          "height": 629
        },
        "outputId": "6a22ec8f-2eac-46c2-b079-38cdd7e0a4da"
      },
      "source": [
        "df_main_new['transactions_currency'].value_counts()"
      ],
      "execution_count": 110,
      "outputs": [
        {
          "output_type": "execute_result",
          "data": {
            "text/plain": [
              "EUR    7581295\n",
              "GBP    5774071\n",
              "PLN    1427250\n",
              "RON    1234512\n",
              "USD     550343\n",
              "CZK     277931\n",
              "CHF     266531\n",
              "SEK     193860\n",
              "AUD     110934\n",
              "NOK      99942\n",
              "DKK      96889\n",
              "CAD      59577\n",
              "HUF      58162\n",
              "ILS      28022\n",
              "TRY      26707\n",
              "NZD      26089\n",
              "AED      23668\n",
              "BTC      22358\n",
              "ZAR      21688\n",
              "JPY      21616\n",
              "XRP      16436\n",
              "THB      13681\n",
              "SGD      13665\n",
              "HKD      11829\n",
              "ETH       7990\n",
              "MAD       6066\n",
              "LTC       3507\n",
              "HRK       2059\n",
              "QAR       1950\n",
              "BCH       1942\n",
              "BGN       1297\n",
              "INR       1210\n",
              "MXN       1020\n",
              "RUB        402\n",
              "SAR         50\n",
              "Name: transactions_currency, dtype: int64"
            ]
          },
          "metadata": {
            "tags": []
          },
          "execution_count": 110
        }
      ]
    },
    {
      "cell_type": "code",
      "metadata": {
        "id": "PzTv50thYnYm",
        "colab_type": "code",
        "outputId": "f54dbc90-e49c-4640-bcfe-b0dbd8ebb66b",
        "colab": {
          "base_uri": "https://localhost:8080/",
          "height": 221
        }
      },
      "source": [
        "df_main_new.groupby('transactions_type')['engagedORUnengaged'].mean()*100000"
      ],
      "execution_count": 108,
      "outputs": [
        {
          "output_type": "execute_result",
          "data": {
            "text/plain": [
              "transactions_type\n",
              "ATM              10.066294\n",
              "CARD_PAYMENT      5.570988\n",
              "CARD_REFUND       1.295874\n",
              "CASHBACK          0.196858\n",
              "EXCHANGE         19.563656\n",
              "FEE             357.033441\n",
              "REFUND           95.941667\n",
              "TAX               0.000000\n",
              "TOPUP           220.257282\n",
              "TRANSFER         43.261572\n",
              "Name: engagedORUnengaged, dtype: float64"
            ]
          },
          "metadata": {
            "tags": []
          },
          "execution_count": 108
        }
      ]
    },
    {
      "cell_type": "code",
      "metadata": {
        "id": "iy63DmWnuL5M",
        "colab_type": "code",
        "colab": {}
      },
      "source": [
        "a_dummies= pd.get_dummies(df_main_new[\"transactions_type\"])"
      ],
      "execution_count": 0,
      "outputs": []
    },
    {
      "cell_type": "code",
      "metadata": {
        "id": "QXA27f_MuS1e",
        "colab_type": "code",
        "colab": {
          "base_uri": "https://localhost:8080/",
          "height": 204
        },
        "outputId": "2d80f44e-31b8-4c53-85d3-99a18daac253"
      },
      "source": [
        "a_dummies.head()"
      ],
      "execution_count": 112,
      "outputs": [
        {
          "output_type": "execute_result",
          "data": {
            "text/html": [
              "<div>\n",
              "<style scoped>\n",
              "    .dataframe tbody tr th:only-of-type {\n",
              "        vertical-align: middle;\n",
              "    }\n",
              "\n",
              "    .dataframe tbody tr th {\n",
              "        vertical-align: top;\n",
              "    }\n",
              "\n",
              "    .dataframe thead th {\n",
              "        text-align: right;\n",
              "    }\n",
              "</style>\n",
              "<table border=\"1\" class=\"dataframe\">\n",
              "  <thead>\n",
              "    <tr style=\"text-align: right;\">\n",
              "      <th></th>\n",
              "      <th>ATM</th>\n",
              "      <th>CARD_PAYMENT</th>\n",
              "      <th>CARD_REFUND</th>\n",
              "      <th>CASHBACK</th>\n",
              "      <th>EXCHANGE</th>\n",
              "      <th>FEE</th>\n",
              "      <th>REFUND</th>\n",
              "      <th>TAX</th>\n",
              "      <th>TOPUP</th>\n",
              "      <th>TRANSFER</th>\n",
              "      <th>TT_AE</th>\n",
              "      <th>TT_CTCC</th>\n",
              "    </tr>\n",
              "  </thead>\n",
              "  <tbody>\n",
              "    <tr>\n",
              "      <th>0</th>\n",
              "      <td>0</td>\n",
              "      <td>0</td>\n",
              "      <td>0</td>\n",
              "      <td>0</td>\n",
              "      <td>0</td>\n",
              "      <td>0</td>\n",
              "      <td>0</td>\n",
              "      <td>0</td>\n",
              "      <td>0</td>\n",
              "      <td>1</td>\n",
              "      <td>0</td>\n",
              "      <td>0</td>\n",
              "    </tr>\n",
              "    <tr>\n",
              "      <th>1</th>\n",
              "      <td>0</td>\n",
              "      <td>0</td>\n",
              "      <td>0</td>\n",
              "      <td>0</td>\n",
              "      <td>0</td>\n",
              "      <td>0</td>\n",
              "      <td>0</td>\n",
              "      <td>0</td>\n",
              "      <td>0</td>\n",
              "      <td>1</td>\n",
              "      <td>0</td>\n",
              "      <td>0</td>\n",
              "    </tr>\n",
              "    <tr>\n",
              "      <th>2</th>\n",
              "      <td>0</td>\n",
              "      <td>0</td>\n",
              "      <td>0</td>\n",
              "      <td>0</td>\n",
              "      <td>0</td>\n",
              "      <td>0</td>\n",
              "      <td>0</td>\n",
              "      <td>0</td>\n",
              "      <td>0</td>\n",
              "      <td>1</td>\n",
              "      <td>0</td>\n",
              "      <td>0</td>\n",
              "    </tr>\n",
              "    <tr>\n",
              "      <th>3</th>\n",
              "      <td>0</td>\n",
              "      <td>0</td>\n",
              "      <td>0</td>\n",
              "      <td>0</td>\n",
              "      <td>0</td>\n",
              "      <td>0</td>\n",
              "      <td>0</td>\n",
              "      <td>0</td>\n",
              "      <td>0</td>\n",
              "      <td>1</td>\n",
              "      <td>0</td>\n",
              "      <td>0</td>\n",
              "    </tr>\n",
              "    <tr>\n",
              "      <th>4</th>\n",
              "      <td>0</td>\n",
              "      <td>0</td>\n",
              "      <td>0</td>\n",
              "      <td>0</td>\n",
              "      <td>0</td>\n",
              "      <td>0</td>\n",
              "      <td>0</td>\n",
              "      <td>0</td>\n",
              "      <td>0</td>\n",
              "      <td>0</td>\n",
              "      <td>1</td>\n",
              "      <td>0</td>\n",
              "    </tr>\n",
              "  </tbody>\n",
              "</table>\n",
              "</div>"
            ],
            "text/plain": [
              "   ATM  CARD_PAYMENT  CARD_REFUND  CASHBACK  ...  TOPUP  TRANSFER  TT_AE  TT_CTCC\n",
              "0    0             0            0         0  ...      0         1      0        0\n",
              "1    0             0            0         0  ...      0         1      0        0\n",
              "2    0             0            0         0  ...      0         1      0        0\n",
              "3    0             0            0         0  ...      0         1      0        0\n",
              "4    0             0            0         0  ...      0         0      1        0\n",
              "\n",
              "[5 rows x 12 columns]"
            ]
          },
          "metadata": {
            "tags": []
          },
          "execution_count": 112
        }
      ]
    },
    {
      "cell_type": "code",
      "metadata": {
        "id": "Q9u7mCNuZe3G",
        "colab_type": "code",
        "colab": {
          "base_uri": "https://localhost:8080/",
          "height": 374
        },
        "outputId": "6912d3cf-88c9-4e46-fe6d-d2c5d0d81f09"
      },
      "source": [
        "# Creating dummies for n-1 combinations(Leaving refund and transfer)\n",
        " \n",
        "# for i in range(len(df_main_new)):\n",
        "#     if df_main_new[\"transactions_type\"][i] in [\"CASHBACK\",\"TAX\",\"CARD_REFUND\",\"CARD_PAYMENT\"]:\n",
        "#         df_main_new.loc[i,\"transactions_type\"]=\"TT_CTCC\"\n",
        "#     if df_main_new[\"transactions_type\"][i] in [\"ATM\",\"EXCHANGE\"]:\n",
        "#         df_main_new.loc[i,\"transactions_type\"]=\"TT_AE\"\n",
        "#     if df_main_new[\"transactions_type\"][i]==[\"FEE\",'TOPUP']:\n",
        "#         df_main_new.loc[i,\"transactions_type\"]=\"TT_FT\"\n",
        "# ab_dummies=pd.get_dummies(df_main_new[\"transactions_type\"])\n",
        "# # ab_dummies.head()"
      ],
      "execution_count": 109,
      "outputs": [
        {
          "output_type": "error",
          "ename": "KeyboardInterrupt",
          "evalue": "ignored",
          "traceback": [
            "\u001b[0;31m---------------------------------------------------------------------------\u001b[0m",
            "\u001b[0;31mKeyboardInterrupt\u001b[0m                         Traceback (most recent call last)",
            "\u001b[0;32m<ipython-input-109-e28d5e9a77fa>\u001b[0m in \u001b[0;36m<module>\u001b[0;34m()\u001b[0m\n\u001b[1;32m      2\u001b[0m \u001b[0;32mfor\u001b[0m \u001b[0mi\u001b[0m \u001b[0;32min\u001b[0m \u001b[0mrange\u001b[0m\u001b[0;34m(\u001b[0m\u001b[0mlen\u001b[0m\u001b[0;34m(\u001b[0m\u001b[0mdf_main_new\u001b[0m\u001b[0;34m)\u001b[0m\u001b[0;34m)\u001b[0m\u001b[0;34m:\u001b[0m\u001b[0;34m\u001b[0m\u001b[0;34m\u001b[0m\u001b[0m\n\u001b[1;32m      3\u001b[0m    \u001b[0;32mif\u001b[0m \u001b[0mdf_main_new\u001b[0m\u001b[0;34m[\u001b[0m\u001b[0;34m\"transactions_type\"\u001b[0m\u001b[0;34m]\u001b[0m\u001b[0;34m[\u001b[0m\u001b[0mi\u001b[0m\u001b[0;34m]\u001b[0m \u001b[0;32min\u001b[0m \u001b[0;34m[\u001b[0m\u001b[0;34m\"CASHBACK\"\u001b[0m\u001b[0;34m,\u001b[0m\u001b[0;34m\"TAX\"\u001b[0m\u001b[0;34m,\u001b[0m\u001b[0;34m\"CARD_REFUND\"\u001b[0m\u001b[0;34m,\u001b[0m\u001b[0;34m\"CARD_PAYMENT\"\u001b[0m\u001b[0;34m]\u001b[0m\u001b[0;34m:\u001b[0m\u001b[0;34m\u001b[0m\u001b[0;34m\u001b[0m\u001b[0m\n\u001b[0;32m----> 4\u001b[0;31m        \u001b[0mdf_main_new\u001b[0m\u001b[0;34m.\u001b[0m\u001b[0mloc\u001b[0m\u001b[0;34m[\u001b[0m\u001b[0mi\u001b[0m\u001b[0;34m,\u001b[0m\u001b[0;34m\"transactions_type\"\u001b[0m\u001b[0;34m]\u001b[0m\u001b[0;34m=\u001b[0m\u001b[0;34m\"TT_CTCC\"\u001b[0m\u001b[0;34m\u001b[0m\u001b[0;34m\u001b[0m\u001b[0m\n\u001b[0m\u001b[1;32m      5\u001b[0m    \u001b[0;32mif\u001b[0m \u001b[0mdf_main_new\u001b[0m\u001b[0;34m[\u001b[0m\u001b[0;34m\"transactions_type\"\u001b[0m\u001b[0;34m]\u001b[0m\u001b[0;34m[\u001b[0m\u001b[0mi\u001b[0m\u001b[0;34m]\u001b[0m \u001b[0;32min\u001b[0m \u001b[0;34m[\u001b[0m\u001b[0;34m\"ATM\"\u001b[0m\u001b[0;34m,\u001b[0m\u001b[0;34m\"EXCHANGE\"\u001b[0m\u001b[0;34m]\u001b[0m\u001b[0;34m:\u001b[0m\u001b[0;34m\u001b[0m\u001b[0;34m\u001b[0m\u001b[0m\n\u001b[1;32m      6\u001b[0m        \u001b[0mdf_main_new\u001b[0m\u001b[0;34m.\u001b[0m\u001b[0mloc\u001b[0m\u001b[0;34m[\u001b[0m\u001b[0mi\u001b[0m\u001b[0;34m,\u001b[0m\u001b[0;34m\"transactions_type\"\u001b[0m\u001b[0;34m]\u001b[0m\u001b[0;34m=\u001b[0m\u001b[0;34m\"TT_AE\"\u001b[0m\u001b[0;34m\u001b[0m\u001b[0;34m\u001b[0m\u001b[0m\n",
            "\u001b[0;32m/usr/local/lib/python3.6/dist-packages/pandas/core/indexing.py\u001b[0m in \u001b[0;36m__setitem__\u001b[0;34m(self, key, value)\u001b[0m\n\u001b[1;32m    203\u001b[0m             \u001b[0mkey\u001b[0m \u001b[0;34m=\u001b[0m \u001b[0mcom\u001b[0m\u001b[0;34m.\u001b[0m\u001b[0mapply_if_callable\u001b[0m\u001b[0;34m(\u001b[0m\u001b[0mkey\u001b[0m\u001b[0;34m,\u001b[0m \u001b[0mself\u001b[0m\u001b[0;34m.\u001b[0m\u001b[0mobj\u001b[0m\u001b[0;34m)\u001b[0m\u001b[0;34m\u001b[0m\u001b[0;34m\u001b[0m\u001b[0m\n\u001b[1;32m    204\u001b[0m         \u001b[0mindexer\u001b[0m \u001b[0;34m=\u001b[0m \u001b[0mself\u001b[0m\u001b[0;34m.\u001b[0m\u001b[0m_get_setitem_indexer\u001b[0m\u001b[0;34m(\u001b[0m\u001b[0mkey\u001b[0m\u001b[0;34m)\u001b[0m\u001b[0;34m\u001b[0m\u001b[0;34m\u001b[0m\u001b[0m\n\u001b[0;32m--> 205\u001b[0;31m         \u001b[0mself\u001b[0m\u001b[0;34m.\u001b[0m\u001b[0m_setitem_with_indexer\u001b[0m\u001b[0;34m(\u001b[0m\u001b[0mindexer\u001b[0m\u001b[0;34m,\u001b[0m \u001b[0mvalue\u001b[0m\u001b[0;34m)\u001b[0m\u001b[0;34m\u001b[0m\u001b[0;34m\u001b[0m\u001b[0m\n\u001b[0m\u001b[1;32m    206\u001b[0m \u001b[0;34m\u001b[0m\u001b[0m\n\u001b[1;32m    207\u001b[0m     \u001b[0;32mdef\u001b[0m \u001b[0m_validate_key\u001b[0m\u001b[0;34m(\u001b[0m\u001b[0mself\u001b[0m\u001b[0;34m,\u001b[0m \u001b[0mkey\u001b[0m\u001b[0;34m,\u001b[0m \u001b[0maxis\u001b[0m\u001b[0;34m:\u001b[0m \u001b[0mint\u001b[0m\u001b[0;34m)\u001b[0m\u001b[0;34m:\u001b[0m\u001b[0;34m\u001b[0m\u001b[0;34m\u001b[0m\u001b[0m\n",
            "\u001b[0;32m/usr/local/lib/python3.6/dist-packages/pandas/core/indexing.py\u001b[0m in \u001b[0;36m_setitem_with_indexer\u001b[0;34m(self, indexer, value)\u001b[0m\n\u001b[1;32m    555\u001b[0m                 \u001b[0;31m# scalar\u001b[0m\u001b[0;34m\u001b[0m\u001b[0;34m\u001b[0m\u001b[0;34m\u001b[0m\u001b[0m\n\u001b[1;32m    556\u001b[0m                 \u001b[0;32mfor\u001b[0m \u001b[0mitem\u001b[0m \u001b[0;32min\u001b[0m \u001b[0mlabels\u001b[0m\u001b[0;34m:\u001b[0m\u001b[0;34m\u001b[0m\u001b[0;34m\u001b[0m\u001b[0m\n\u001b[0;32m--> 557\u001b[0;31m                     \u001b[0msetter\u001b[0m\u001b[0;34m(\u001b[0m\u001b[0mitem\u001b[0m\u001b[0;34m,\u001b[0m \u001b[0mvalue\u001b[0m\u001b[0;34m)\u001b[0m\u001b[0;34m\u001b[0m\u001b[0;34m\u001b[0m\u001b[0m\n\u001b[0m\u001b[1;32m    558\u001b[0m \u001b[0;34m\u001b[0m\u001b[0m\n\u001b[1;32m    559\u001b[0m         \u001b[0;32melse\u001b[0m\u001b[0;34m:\u001b[0m\u001b[0;34m\u001b[0m\u001b[0;34m\u001b[0m\u001b[0m\n",
            "\u001b[0;32m/usr/local/lib/python3.6/dist-packages/pandas/core/indexing.py\u001b[0m in \u001b[0;36msetter\u001b[0;34m(item, v)\u001b[0m\n\u001b[1;32m    488\u001b[0m                     \u001b[0ms\u001b[0m\u001b[0;34m.\u001b[0m\u001b[0m_consolidate_inplace\u001b[0m\u001b[0;34m(\u001b[0m\u001b[0;34m)\u001b[0m\u001b[0;34m\u001b[0m\u001b[0;34m\u001b[0m\u001b[0m\n\u001b[1;32m    489\u001b[0m                     \u001b[0ms\u001b[0m \u001b[0;34m=\u001b[0m \u001b[0ms\u001b[0m\u001b[0;34m.\u001b[0m\u001b[0mcopy\u001b[0m\u001b[0;34m(\u001b[0m\u001b[0;34m)\u001b[0m\u001b[0;34m\u001b[0m\u001b[0;34m\u001b[0m\u001b[0m\n\u001b[0;32m--> 490\u001b[0;31m                     \u001b[0ms\u001b[0m\u001b[0;34m.\u001b[0m\u001b[0m_data\u001b[0m \u001b[0;34m=\u001b[0m \u001b[0ms\u001b[0m\u001b[0;34m.\u001b[0m\u001b[0m_data\u001b[0m\u001b[0;34m.\u001b[0m\u001b[0msetitem\u001b[0m\u001b[0;34m(\u001b[0m\u001b[0mindexer\u001b[0m\u001b[0;34m=\u001b[0m\u001b[0mpi\u001b[0m\u001b[0;34m,\u001b[0m \u001b[0mvalue\u001b[0m\u001b[0;34m=\u001b[0m\u001b[0mv\u001b[0m\u001b[0;34m)\u001b[0m\u001b[0;34m\u001b[0m\u001b[0;34m\u001b[0m\u001b[0m\n\u001b[0m\u001b[1;32m    491\u001b[0m                     \u001b[0ms\u001b[0m\u001b[0;34m.\u001b[0m\u001b[0m_maybe_update_cacher\u001b[0m\u001b[0;34m(\u001b[0m\u001b[0mclear\u001b[0m\u001b[0;34m=\u001b[0m\u001b[0;32mTrue\u001b[0m\u001b[0;34m)\u001b[0m\u001b[0;34m\u001b[0m\u001b[0;34m\u001b[0m\u001b[0m\n\u001b[1;32m    492\u001b[0m \u001b[0;34m\u001b[0m\u001b[0m\n",
            "\u001b[0;32m/usr/local/lib/python3.6/dist-packages/pandas/core/internals/managers.py\u001b[0m in \u001b[0;36msetitem\u001b[0;34m(self, **kwargs)\u001b[0m\n\u001b[1;32m    558\u001b[0m \u001b[0;34m\u001b[0m\u001b[0m\n\u001b[1;32m    559\u001b[0m     \u001b[0;32mdef\u001b[0m \u001b[0msetitem\u001b[0m\u001b[0;34m(\u001b[0m\u001b[0mself\u001b[0m\u001b[0;34m,\u001b[0m \u001b[0;34m**\u001b[0m\u001b[0mkwargs\u001b[0m\u001b[0;34m)\u001b[0m\u001b[0;34m:\u001b[0m\u001b[0;34m\u001b[0m\u001b[0;34m\u001b[0m\u001b[0m\n\u001b[0;32m--> 560\u001b[0;31m         \u001b[0;32mreturn\u001b[0m \u001b[0mself\u001b[0m\u001b[0;34m.\u001b[0m\u001b[0mapply\u001b[0m\u001b[0;34m(\u001b[0m\u001b[0;34m\"setitem\"\u001b[0m\u001b[0;34m,\u001b[0m \u001b[0;34m**\u001b[0m\u001b[0mkwargs\u001b[0m\u001b[0;34m)\u001b[0m\u001b[0;34m\u001b[0m\u001b[0;34m\u001b[0m\u001b[0m\n\u001b[0m\u001b[1;32m    561\u001b[0m \u001b[0;34m\u001b[0m\u001b[0m\n\u001b[1;32m    562\u001b[0m     \u001b[0;32mdef\u001b[0m \u001b[0mputmask\u001b[0m\u001b[0;34m(\u001b[0m\u001b[0mself\u001b[0m\u001b[0;34m,\u001b[0m \u001b[0;34m**\u001b[0m\u001b[0mkwargs\u001b[0m\u001b[0;34m)\u001b[0m\u001b[0;34m:\u001b[0m\u001b[0;34m\u001b[0m\u001b[0;34m\u001b[0m\u001b[0m\n",
            "\u001b[0;32m/usr/local/lib/python3.6/dist-packages/pandas/core/internals/managers.py\u001b[0m in \u001b[0;36mapply\u001b[0;34m(self, f, axes, filter, do_integrity_check, consolidate, **kwargs)\u001b[0m\n\u001b[1;32m    436\u001b[0m                     \u001b[0mkwargs\u001b[0m\u001b[0;34m[\u001b[0m\u001b[0mk\u001b[0m\u001b[0;34m]\u001b[0m \u001b[0;34m=\u001b[0m \u001b[0mobj\u001b[0m\u001b[0;34m.\u001b[0m\u001b[0mreindex\u001b[0m\u001b[0;34m(\u001b[0m\u001b[0mb_items\u001b[0m\u001b[0;34m,\u001b[0m \u001b[0maxis\u001b[0m\u001b[0;34m=\u001b[0m\u001b[0maxis\u001b[0m\u001b[0;34m,\u001b[0m \u001b[0mcopy\u001b[0m\u001b[0;34m=\u001b[0m\u001b[0malign_copy\u001b[0m\u001b[0;34m)\u001b[0m\u001b[0;34m\u001b[0m\u001b[0;34m\u001b[0m\u001b[0m\n\u001b[1;32m    437\u001b[0m \u001b[0;34m\u001b[0m\u001b[0m\n\u001b[0;32m--> 438\u001b[0;31m             \u001b[0mapplied\u001b[0m \u001b[0;34m=\u001b[0m \u001b[0mgetattr\u001b[0m\u001b[0;34m(\u001b[0m\u001b[0mb\u001b[0m\u001b[0;34m,\u001b[0m \u001b[0mf\u001b[0m\u001b[0;34m)\u001b[0m\u001b[0;34m(\u001b[0m\u001b[0;34m**\u001b[0m\u001b[0mkwargs\u001b[0m\u001b[0;34m)\u001b[0m\u001b[0;34m\u001b[0m\u001b[0;34m\u001b[0m\u001b[0m\n\u001b[0m\u001b[1;32m    439\u001b[0m             \u001b[0mresult_blocks\u001b[0m \u001b[0;34m=\u001b[0m \u001b[0m_extend_blocks\u001b[0m\u001b[0;34m(\u001b[0m\u001b[0mapplied\u001b[0m\u001b[0;34m,\u001b[0m \u001b[0mresult_blocks\u001b[0m\u001b[0;34m)\u001b[0m\u001b[0;34m\u001b[0m\u001b[0;34m\u001b[0m\u001b[0m\n\u001b[1;32m    440\u001b[0m \u001b[0;34m\u001b[0m\u001b[0m\n",
            "\u001b[0;32m/usr/local/lib/python3.6/dist-packages/pandas/core/internals/blocks.py\u001b[0m in \u001b[0;36msetitem\u001b[0;34m(self, indexer, value)\u001b[0m\n\u001b[1;32m    940\u001b[0m \u001b[0;34m\u001b[0m\u001b[0m\n\u001b[1;32m    941\u001b[0m         \u001b[0;31m# coerce and try to infer the dtypes of the result\u001b[0m\u001b[0;34m\u001b[0m\u001b[0;34m\u001b[0m\u001b[0;34m\u001b[0m\u001b[0m\n\u001b[0;32m--> 942\u001b[0;31m         \u001b[0mvalues\u001b[0m \u001b[0;34m=\u001b[0m \u001b[0mself\u001b[0m\u001b[0;34m.\u001b[0m\u001b[0m_try_coerce_and_cast_result\u001b[0m\u001b[0;34m(\u001b[0m\u001b[0mvalues\u001b[0m\u001b[0;34m,\u001b[0m \u001b[0mdtype\u001b[0m\u001b[0;34m)\u001b[0m\u001b[0;34m\u001b[0m\u001b[0;34m\u001b[0m\u001b[0m\n\u001b[0m\u001b[1;32m    943\u001b[0m         \u001b[0;32mif\u001b[0m \u001b[0mtranspose\u001b[0m\u001b[0;34m:\u001b[0m\u001b[0;34m\u001b[0m\u001b[0;34m\u001b[0m\u001b[0m\n\u001b[1;32m    944\u001b[0m             \u001b[0mvalues\u001b[0m \u001b[0;34m=\u001b[0m \u001b[0mvalues\u001b[0m\u001b[0;34m.\u001b[0m\u001b[0mT\u001b[0m\u001b[0;34m\u001b[0m\u001b[0;34m\u001b[0m\u001b[0m\n",
            "\u001b[0;32m/usr/local/lib/python3.6/dist-packages/pandas/core/internals/blocks.py\u001b[0m in \u001b[0;36m_try_coerce_and_cast_result\u001b[0;34m(self, result, dtype)\u001b[0m\n\u001b[1;32m    745\u001b[0m     \u001b[0;32mdef\u001b[0m \u001b[0m_try_coerce_and_cast_result\u001b[0m\u001b[0;34m(\u001b[0m\u001b[0mself\u001b[0m\u001b[0;34m,\u001b[0m \u001b[0mresult\u001b[0m\u001b[0;34m,\u001b[0m \u001b[0mdtype\u001b[0m\u001b[0;34m=\u001b[0m\u001b[0;32mNone\u001b[0m\u001b[0;34m)\u001b[0m\u001b[0;34m:\u001b[0m\u001b[0;34m\u001b[0m\u001b[0;34m\u001b[0m\u001b[0m\n\u001b[1;32m    746\u001b[0m         \u001b[0mresult\u001b[0m \u001b[0;34m=\u001b[0m \u001b[0mself\u001b[0m\u001b[0;34m.\u001b[0m\u001b[0m_try_coerce_result\u001b[0m\u001b[0;34m(\u001b[0m\u001b[0mresult\u001b[0m\u001b[0;34m)\u001b[0m\u001b[0;34m\u001b[0m\u001b[0;34m\u001b[0m\u001b[0m\n\u001b[0;32m--> 747\u001b[0;31m         \u001b[0mresult\u001b[0m \u001b[0;34m=\u001b[0m \u001b[0mself\u001b[0m\u001b[0;34m.\u001b[0m\u001b[0m_try_cast_result\u001b[0m\u001b[0;34m(\u001b[0m\u001b[0mresult\u001b[0m\u001b[0;34m,\u001b[0m \u001b[0mdtype\u001b[0m\u001b[0;34m=\u001b[0m\u001b[0mdtype\u001b[0m\u001b[0;34m)\u001b[0m\u001b[0;34m\u001b[0m\u001b[0;34m\u001b[0m\u001b[0m\n\u001b[0m\u001b[1;32m    748\u001b[0m         \u001b[0;32mreturn\u001b[0m \u001b[0mresult\u001b[0m\u001b[0;34m\u001b[0m\u001b[0;34m\u001b[0m\u001b[0m\n\u001b[1;32m    749\u001b[0m \u001b[0;34m\u001b[0m\u001b[0m\n",
            "\u001b[0;32m/usr/local/lib/python3.6/dist-packages/pandas/core/internals/blocks.py\u001b[0m in \u001b[0;36m_try_cast_result\u001b[0;34m(self, result, dtype)\u001b[0m\n\u001b[1;32m    708\u001b[0m \u001b[0;34m\u001b[0m\u001b[0m\n\u001b[1;32m    709\u001b[0m         \u001b[0;31m# may need to change the dtype here\u001b[0m\u001b[0;34m\u001b[0m\u001b[0;34m\u001b[0m\u001b[0;34m\u001b[0m\u001b[0m\n\u001b[0;32m--> 710\u001b[0;31m         \u001b[0;32mreturn\u001b[0m \u001b[0mmaybe_downcast_to_dtype\u001b[0m\u001b[0;34m(\u001b[0m\u001b[0mresult\u001b[0m\u001b[0;34m,\u001b[0m \u001b[0mdtype\u001b[0m\u001b[0;34m)\u001b[0m\u001b[0;34m\u001b[0m\u001b[0;34m\u001b[0m\u001b[0m\n\u001b[0m\u001b[1;32m    711\u001b[0m \u001b[0;34m\u001b[0m\u001b[0m\n\u001b[1;32m    712\u001b[0m     \u001b[0;32mdef\u001b[0m \u001b[0m_coerce_values\u001b[0m\u001b[0;34m(\u001b[0m\u001b[0mself\u001b[0m\u001b[0;34m,\u001b[0m \u001b[0mvalues\u001b[0m\u001b[0;34m)\u001b[0m\u001b[0;34m:\u001b[0m\u001b[0;34m\u001b[0m\u001b[0;34m\u001b[0m\u001b[0m\n",
            "\u001b[0;32m/usr/local/lib/python3.6/dist-packages/pandas/core/dtypes/cast.py\u001b[0m in \u001b[0;36mmaybe_downcast_to_dtype\u001b[0;34m(result, dtype)\u001b[0m\n\u001b[1;32m    104\u001b[0m     \u001b[0;32mif\u001b[0m \u001b[0misinstance\u001b[0m\u001b[0;34m(\u001b[0m\u001b[0mdtype\u001b[0m\u001b[0;34m,\u001b[0m \u001b[0mstr\u001b[0m\u001b[0;34m)\u001b[0m\u001b[0;34m:\u001b[0m\u001b[0;34m\u001b[0m\u001b[0;34m\u001b[0m\u001b[0m\n\u001b[1;32m    105\u001b[0m         \u001b[0;32mif\u001b[0m \u001b[0mdtype\u001b[0m \u001b[0;34m==\u001b[0m \u001b[0;34m\"infer\"\u001b[0m\u001b[0;34m:\u001b[0m\u001b[0;34m\u001b[0m\u001b[0;34m\u001b[0m\u001b[0m\n\u001b[0;32m--> 106\u001b[0;31m             \u001b[0minferred_type\u001b[0m \u001b[0;34m=\u001b[0m \u001b[0mlib\u001b[0m\u001b[0;34m.\u001b[0m\u001b[0minfer_dtype\u001b[0m\u001b[0;34m(\u001b[0m\u001b[0mensure_object\u001b[0m\u001b[0;34m(\u001b[0m\u001b[0mresult\u001b[0m\u001b[0;34m.\u001b[0m\u001b[0mravel\u001b[0m\u001b[0;34m(\u001b[0m\u001b[0;34m)\u001b[0m\u001b[0;34m)\u001b[0m\u001b[0;34m,\u001b[0m \u001b[0mskipna\u001b[0m\u001b[0;34m=\u001b[0m\u001b[0;32mFalse\u001b[0m\u001b[0;34m)\u001b[0m\u001b[0;34m\u001b[0m\u001b[0;34m\u001b[0m\u001b[0m\n\u001b[0m\u001b[1;32m    107\u001b[0m             \u001b[0;32mif\u001b[0m \u001b[0minferred_type\u001b[0m \u001b[0;34m==\u001b[0m \u001b[0;34m\"boolean\"\u001b[0m\u001b[0;34m:\u001b[0m\u001b[0;34m\u001b[0m\u001b[0;34m\u001b[0m\u001b[0m\n\u001b[1;32m    108\u001b[0m                 \u001b[0mdtype\u001b[0m \u001b[0;34m=\u001b[0m \u001b[0;34m\"bool\"\u001b[0m\u001b[0;34m\u001b[0m\u001b[0;34m\u001b[0m\u001b[0m\n",
            "\u001b[0;31mKeyboardInterrupt\u001b[0m: "
          ]
        }
      ]
    },
    {
      "cell_type": "code",
      "metadata": {
        "id": "s0V1Ob12YoQO",
        "colab_type": "code",
        "colab": {}
      },
      "source": [
        "# df_main_new=pd.concat([df_main_new,ab_dummies],1)\n",
        "# df_main_new=df_main_new.drop([\"transactions_type\"],1)"
      ],
      "execution_count": 0,
      "outputs": []
    },
    {
      "cell_type": "code",
      "metadata": {
        "id": "SAJcsyRTYoKa",
        "colab_type": "code",
        "colab": {}
      },
      "source": [
        ""
      ],
      "execution_count": 0,
      "outputs": []
    },
    {
      "cell_type": "code",
      "metadata": {
        "id": "DnJh6y7nYn0W",
        "colab_type": "code",
        "colab": {}
      },
      "source": [
        ""
      ],
      "execution_count": 0,
      "outputs": []
    },
    {
      "cell_type": "code",
      "metadata": {
        "id": "2J8054V-YnvH",
        "colab_type": "code",
        "colab": {}
      },
      "source": [
        ""
      ],
      "execution_count": 0,
      "outputs": []
    },
    {
      "cell_type": "code",
      "metadata": {
        "id": "U8kMQjN1M_vT",
        "colab_type": "code",
        "colab": {}
      },
      "source": [
        "# from sklearn.model_selection import train_test_split\n",
        "# df_train ,df_test = train_test_split(df_main_new,test_size =0.3,random_state=2)"
      ],
      "execution_count": 0,
      "outputs": []
    },
    {
      "cell_type": "code",
      "metadata": {
        "id": "I511ACsNGHOm",
        "colab_type": "code",
        "colab": {}
      },
      "source": [
        "# you can use following method if you want to ignore categories with too low frequencies , \n",
        "#ignoring categories with low frequencies however will result in fewer columns without \n",
        "# affecting model performance too much .\n",
        "\n",
        "# for col in cat_columns:\n",
        "#     freqs=df_train[col].value_counts()\n",
        "#     k=freqs.index[freqs>50000][:-1]\n",
        "#     for cat in k:\n",
        "#         name=str(col)+'_'+str(cat)\n",
        "#         df_train[name]=(df_train[col]==cat).astype(int)\n",
        "#     del df_train[col]\n",
        "#     print(col)\n",
        "    "
      ],
      "execution_count": 0,
      "outputs": []
    },
    {
      "cell_type": "code",
      "metadata": {
        "id": "3a7y_ijhNgGm",
        "colab_type": "code",
        "colab": {}
      },
      "source": [
        "df_train.columns"
      ],
      "execution_count": 0,
      "outputs": []
    },
    {
      "cell_type": "code",
      "metadata": {
        "id": "lhF1Hes4PDb-",
        "colab_type": "code",
        "colab": {}
      },
      "source": [
        "who"
      ],
      "execution_count": 0,
      "outputs": []
    },
    {
      "cell_type": "code",
      "metadata": {
        "id": "hMEffO6jPg4m",
        "colab_type": "code",
        "colab": {}
      },
      "source": [
        "# import pandas_profiling as pp"
      ],
      "execution_count": 0,
      "outputs": []
    },
    {
      "cell_type": "code",
      "metadata": {
        "id": "UpesYRu8M3pq",
        "colab_type": "code",
        "colab": {}
      },
      "source": [
        "#Needs to Reduce the Dimension of the data to work \n",
        "\n",
        "# print('\\nLoading data ...')\n",
        "# X = df_train.drop(['engagedORUnengaged'], axis=1).values\n",
        "# y = df_train['engagedORUnengaged'].values.astype(np.int8)\n",
        "# target_names = np.unique(y)\n",
        "# print('\\nThere are %d unique target valuess in this dataset:' % (len(target_names)), target_names)"
      ],
      "execution_count": 0,
      "outputs": []
    },
    {
      "cell_type": "code",
      "metadata": {
        "id": "hPYsqjJ7ORPQ",
        "colab_type": "code",
        "colab": {}
      },
      "source": [
        "# from sklearn.decomposition import PCA"
      ],
      "execution_count": 0,
      "outputs": []
    },
    {
      "cell_type": "code",
      "metadata": {
        "id": "tYqozggKOLpQ",
        "colab_type": "code",
        "colab": {}
      },
      "source": [
        "\n",
        "# n_comp = 20\n",
        "# # PCA\n",
        "# print('\\nRunning PCA ...')\n",
        "# pca = PCA(n_components=n_comp, svd_solver='full', random_state=1001)\n",
        "# X_pca = pca.fit_transform(df_train.drop(['engagedORUnengaged'], axis=1).values)\n",
        "# print('Explained variance: %.4f' % pca.explained_variance_ratio_.sum())\n",
        "\n",
        "# print('Individual variance contributions:')\n",
        "# for j in range(n_comp):\n",
        "#     print(pca.explained_variance_ratio_[j])"
      ],
      "execution_count": 0,
      "outputs": []
    },
    {
      "cell_type": "code",
      "metadata": {
        "id": "yTAnvdCXMVI0",
        "colab_type": "code",
        "colab": {}
      },
      "source": [
        "# mf = mutual_info_classif(train_float.values,train.target.values,n_neighbors=3, random_state=17 )\n",
        "# print(mf)"
      ],
      "execution_count": 0,
      "outputs": []
    },
    {
      "cell_type": "code",
      "metadata": {
        "id": "cTxKM6HAIP3R",
        "colab_type": "code",
        "colab": {}
      },
      "source": [
        ""
      ],
      "execution_count": 0,
      "outputs": []
    },
    {
      "cell_type": "code",
      "metadata": {
        "id": "wuZkUap-IPzP",
        "colab_type": "code",
        "colab": {}
      },
      "source": [
        ""
      ],
      "execution_count": 0,
      "outputs": []
    },
    {
      "cell_type": "code",
      "metadata": {
        "id": "ClneDM0JHV83",
        "colab_type": "code",
        "colab": {}
      },
      "source": [
        "# from sklearn.ensemble import RandomForestClassifier\n",
        "# rf = RandomForestClassifier(n_estimators=150, max_depth=8, min_samples_leaf=4, max_features=0.2, n_jobs=-1, random_state=0,verbose=20)\n",
        "# rf.fit(df_main_new.drop(['engagedORUnengaged'],axis=1), df_main_new['engagedORUnengaged'])\n",
        "# features = df_main_new.drop(['engagedORUnengaged'],axis=1).columns.values\n",
        "# print(\"----- Training Done -----\")"
      ],
      "execution_count": 0,
      "outputs": []
    },
    {
      "cell_type": "code",
      "metadata": {
        "id": "FvGT9kOhGqIt",
        "colab_type": "code",
        "colab": {}
      },
      "source": [
        ""
      ],
      "execution_count": 0,
      "outputs": []
    },
    {
      "cell_type": "code",
      "metadata": {
        "id": "HYiFXO5F0mwW",
        "colab_type": "code",
        "colab": {}
      },
      "source": [
        "# x_train ,x_test ,y_train,y_test = train_test_split(df_main_new , test_size = 0.3,random_state = 2 )\n",
        "\n",
        "# list(zip(df_train.shape , df_test.shape))"
      ],
      "execution_count": 0,
      "outputs": []
    },
    {
      "cell_type": "code",
      "metadata": {
        "id": "gcBXIdn93X_D",
        "colab_type": "code",
        "colab": {}
      },
      "source": [
        "# x_train , y_train =df_train.drop('engagedORUnengaged',axis=1) ,df_train['engagedORUnengaged']"
      ],
      "execution_count": 0,
      "outputs": []
    },
    {
      "cell_type": "code",
      "metadata": {
        "id": "-SDh6wy73aOL",
        "colab_type": "code",
        "colab": {}
      },
      "source": [
        "# x_test ,y_test = df_test.drop('engagedORUnengaged',axis =1) ,df_test['engagedORUnengaged']"
      ],
      "execution_count": 0,
      "outputs": []
    },
    {
      "cell_type": "code",
      "metadata": {
        "id": "Yfl4NWUk4WuP",
        "colab_type": "code",
        "colab": {}
      },
      "source": [
        "# y_train.value_counts()"
      ],
      "execution_count": 0,
      "outputs": []
    },
    {
      "cell_type": "code",
      "metadata": {
        "id": "wRA5UwA-4L4U",
        "colab_type": "code",
        "colab": {}
      },
      "source": [
        "# smt = SMOTE()\n",
        "# x_train, y_train = smt.fit_sample(x_train, y_train)"
      ],
      "execution_count": 0,
      "outputs": []
    },
    {
      "cell_type": "code",
      "metadata": {
        "id": "0YSEklJP4VBP",
        "colab_type": "code",
        "colab": {}
      },
      "source": [
        "# np.bincount(y_train)"
      ],
      "execution_count": 0,
      "outputs": []
    },
    {
      "cell_type": "markdown",
      "metadata": {
        "id": "8lGuVG--GI2b",
        "colab_type": "text"
      },
      "source": [
        "## **`Feature Engineering`**"
      ]
    },
    {
      "cell_type": "code",
      "metadata": {
        "id": "tPwluxVdJkDL",
        "colab_type": "code",
        "colab": {}
      },
      "source": [
        "# c=['count','nunique']\n",
        "# n=['mean','max','min','sum','std']\n",
        "# agg_c={'transaction_id':c,'transactions_type':c,'transactions_currency':c,'transactions_state':c,'amount_usd':n,'transactions_state':c,\\\n",
        "#        'direction':c,'t_month':c,'t_year':c,'t_day':c,\\\n",
        "#        'birth_year':c,'country':c,'city':c,'user_settings_crypto_unlocked':c,'plan':c,'attributes_notifications_marketing_email':c,\\\n",
        "#        'num_contacts':n,'u_month':c,'u_year':c,'u_day':c,'brand':c,'reason':c,'channel':c,\\\n",
        "#        'status':c,'n_month':c,'n_year':c,'n_day':c ,'tran_count_each_user':n}\n",
        "# df_main_new=df_main_new.groupby(['user_id']).agg(agg_c)\n",
        "# df_main_new.head()"
      ],
      "execution_count": 0,
      "outputs": []
    },
    {
      "cell_type": "code",
      "metadata": {
        "id": "44VWT5VLJkJ2",
        "colab_type": "code",
        "colab": {}
      },
      "source": [
        "# df_main_new.columns=['R_' + '_'.join(col).strip() for col in df_main_new.columns.values]\n",
        "# df_main_new.reset_index(inplace=True)\n",
        "# df_main_new.head()"
      ],
      "execution_count": 0,
      "outputs": []
    },
    {
      "cell_type": "code",
      "metadata": {
        "id": "3o-qfmWDDfhY",
        "colab_type": "code",
        "colab": {}
      },
      "source": [
        ""
      ],
      "execution_count": 0,
      "outputs": []
    }
  ]
}